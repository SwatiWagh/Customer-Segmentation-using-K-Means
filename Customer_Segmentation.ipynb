{
 "cells": [
  {
   "cell_type": "code",
   "execution_count": 61,
   "metadata": {},
   "outputs": [],
   "source": [
    "import pandas as pd\n",
    "import numpy as np\n",
    "np.set_printoptions(precision=2)\n",
    "import matplotlib.pyplot as plt\n",
    "import pandas_profiling\n",
    "from sklearn.preprocessing import StandardScaler\n",
    "from IPython.core.interactiveshell import InteractiveShell\n",
    "InteractiveShell.ast_node_interactivity = \"all\"\n",
    "%matplotlib inline\n",
    "from sklearn.cluster import KMeans\n",
    "from scipy.spatial import distance\n",
    "import seaborn as sns\n",
    "from yellowbrick.cluster import SilhouetteVisualizer, InterclusterDistance, KElbowVisualizer\n",
    "from scipy import stats\n",
    "from collections import Counter\n",
    "from sklearn.metrics import silhouette_score\n",
    "from sklearn.cluster import KMeans\n"
   ]
  },
  {
   "cell_type": "code",
   "execution_count": 62,
   "metadata": {},
   "outputs": [],
   "source": [
    "df = pd.read_csv(\"https://raw.githubusercontent.com/stepthom/sandbox/master/data/jewelry_customers.csv\")"
   ]
  },
  {
   "cell_type": "code",
   "execution_count": 63,
   "metadata": {},
   "outputs": [
    {
     "name": "stdout",
     "output_type": "stream",
     "text": [
      "Total number of rows and columns in the dataframe :  (505, 4)\n",
      "<class 'pandas.core.frame.DataFrame'>\n",
      "RangeIndex: 505 entries, 0 to 504\n",
      "Data columns (total 4 columns):\n",
      " #   Column         Non-Null Count  Dtype  \n",
      "---  ------         --------------  -----  \n",
      " 0   Age            505 non-null    int64  \n",
      " 1   Income         505 non-null    int64  \n",
      " 2   SpendingScore  505 non-null    float64\n",
      " 3   Savings        505 non-null    float64\n",
      "dtypes: float64(2), int64(2)\n",
      "memory usage: 15.9 KB\n"
     ]
    }
   ],
   "source": [
    "print(\"Total number of rows and columns in the dataframe : \", df.shape)\n",
    "df.info()"
   ]
  },
  {
   "cell_type": "code",
   "execution_count": 64,
   "metadata": {},
   "outputs": [
    {
     "data": {
      "text/plain": [
       "Age              0\n",
       "Income           0\n",
       "SpendingScore    0\n",
       "Savings          0\n",
       "dtype: int64"
      ]
     },
     "execution_count": 64,
     "metadata": {},
     "output_type": "execute_result"
    }
   ],
   "source": [
    "df.isnull().sum()  # Check for missing values"
   ]
  },
  {
   "cell_type": "code",
   "execution_count": 65,
   "metadata": {},
   "outputs": [
    {
     "data": {
      "text/html": [
       "<div>\n",
       "<style scoped>\n",
       "    .dataframe tbody tr th:only-of-type {\n",
       "        vertical-align: middle;\n",
       "    }\n",
       "\n",
       "    .dataframe tbody tr th {\n",
       "        vertical-align: top;\n",
       "    }\n",
       "\n",
       "    .dataframe thead th {\n",
       "        text-align: right;\n",
       "    }\n",
       "</style>\n",
       "<table border=\"1\" class=\"dataframe\">\n",
       "  <thead>\n",
       "    <tr style=\"text-align: right;\">\n",
       "      <th></th>\n",
       "      <th>Age</th>\n",
       "      <th>Income</th>\n",
       "      <th>SpendingScore</th>\n",
       "      <th>Savings</th>\n",
       "    </tr>\n",
       "  </thead>\n",
       "  <tbody>\n",
       "    <tr>\n",
       "      <th>0</th>\n",
       "      <td>58</td>\n",
       "      <td>77769</td>\n",
       "      <td>0.791329</td>\n",
       "      <td>6559.829923</td>\n",
       "    </tr>\n",
       "    <tr>\n",
       "      <th>1</th>\n",
       "      <td>59</td>\n",
       "      <td>81799</td>\n",
       "      <td>0.791082</td>\n",
       "      <td>5417.661426</td>\n",
       "    </tr>\n",
       "    <tr>\n",
       "      <th>2</th>\n",
       "      <td>62</td>\n",
       "      <td>74751</td>\n",
       "      <td>0.702657</td>\n",
       "      <td>9258.992965</td>\n",
       "    </tr>\n",
       "    <tr>\n",
       "      <th>3</th>\n",
       "      <td>59</td>\n",
       "      <td>74373</td>\n",
       "      <td>0.765680</td>\n",
       "      <td>7346.334504</td>\n",
       "    </tr>\n",
       "    <tr>\n",
       "      <th>4</th>\n",
       "      <td>87</td>\n",
       "      <td>17760</td>\n",
       "      <td>0.348778</td>\n",
       "      <td>16869.507130</td>\n",
       "    </tr>\n",
       "    <tr>\n",
       "      <th>...</th>\n",
       "      <td>...</td>\n",
       "      <td>...</td>\n",
       "      <td>...</td>\n",
       "      <td>...</td>\n",
       "    </tr>\n",
       "    <tr>\n",
       "      <th>500</th>\n",
       "      <td>28</td>\n",
       "      <td>101206</td>\n",
       "      <td>0.387441</td>\n",
       "      <td>14936.775389</td>\n",
       "    </tr>\n",
       "    <tr>\n",
       "      <th>501</th>\n",
       "      <td>93</td>\n",
       "      <td>19934</td>\n",
       "      <td>0.203140</td>\n",
       "      <td>17969.693769</td>\n",
       "    </tr>\n",
       "    <tr>\n",
       "      <th>502</th>\n",
       "      <td>90</td>\n",
       "      <td>35297</td>\n",
       "      <td>0.355149</td>\n",
       "      <td>16091.401954</td>\n",
       "    </tr>\n",
       "    <tr>\n",
       "      <th>503</th>\n",
       "      <td>91</td>\n",
       "      <td>20681</td>\n",
       "      <td>0.354679</td>\n",
       "      <td>18401.088445</td>\n",
       "    </tr>\n",
       "    <tr>\n",
       "      <th>504</th>\n",
       "      <td>89</td>\n",
       "      <td>30267</td>\n",
       "      <td>0.289310</td>\n",
       "      <td>14386.351880</td>\n",
       "    </tr>\n",
       "  </tbody>\n",
       "</table>\n",
       "<p>505 rows × 4 columns</p>\n",
       "</div>"
      ],
      "text/plain": [
       "     Age  Income  SpendingScore       Savings\n",
       "0     58   77769       0.791329   6559.829923\n",
       "1     59   81799       0.791082   5417.661426\n",
       "2     62   74751       0.702657   9258.992965\n",
       "3     59   74373       0.765680   7346.334504\n",
       "4     87   17760       0.348778  16869.507130\n",
       "..   ...     ...            ...           ...\n",
       "500   28  101206       0.387441  14936.775389\n",
       "501   93   19934       0.203140  17969.693769\n",
       "502   90   35297       0.355149  16091.401954\n",
       "503   91   20681       0.354679  18401.088445\n",
       "504   89   30267       0.289310  14386.351880\n",
       "\n",
       "[505 rows x 4 columns]"
      ]
     },
     "execution_count": 65,
     "metadata": {},
     "output_type": "execute_result"
    }
   ],
   "source": [
    "X = df.copy()  # Make a copy of a dataframe to feed into an algorithm\n",
    "X              # Print Sample records\n"
   ]
  },
  {
   "cell_type": "code",
   "execution_count": 66,
   "metadata": {},
   "outputs": [
    {
     "data": {
      "text/plain": [
       "<Figure size 432x288 with 0 Axes>"
      ]
     },
     "execution_count": 66,
     "metadata": {},
     "output_type": "execute_result"
    },
    {
     "data": {
      "text/plain": [
       "Text(0.5, 1.0, 'Jewelry Customers Data')"
      ]
     },
     "execution_count": 66,
     "metadata": {},
     "output_type": "execute_result"
    },
    {
     "data": {
      "text/plain": [
       "Text(0.5, 0, 'Age')"
      ]
     },
     "execution_count": 66,
     "metadata": {},
     "output_type": "execute_result"
    },
    {
     "data": {
      "text/plain": [
       "Text(0, 0.5, 'Income')"
      ]
     },
     "execution_count": 66,
     "metadata": {},
     "output_type": "execute_result"
    },
    {
     "data": {
      "text/plain": [
       "<matplotlib.collections.PathCollection at 0x2836807f9c8>"
      ]
     },
     "execution_count": 66,
     "metadata": {},
     "output_type": "execute_result"
    },
    {
     "data": {
      "image/png": "[encoded data removed]",
      "text/plain": [
       "<Figure size 432x288 with 1 Axes>"
      ]
     },
     "metadata": {
      "needs_background": "light"
     },
     "output_type": "display_data"
    }
   ],
   "source": [
    "# Plot the original dataset Data \n",
    "plt.figure()\n",
    "plt.title(\"Jewelry Customers Data\")\n",
    "plt.xlabel('Age')\n",
    "plt.ylabel('Income')\n",
    "plt.scatter(X.iloc[:,0],X.iloc[:,1], c=\"green\")    # Scatterplot for Age against Income\n",
    "plt.show()"
   ]
  },
  {
   "cell_type": "code",
   "execution_count": 67,
   "metadata": {},
   "outputs": [
    {
     "data": {
      "text/plain": [
       "<Figure size 432x288 with 0 Axes>"
      ]
     },
     "execution_count": 67,
     "metadata": {},
     "output_type": "execute_result"
    },
    {
     "data": {
      "text/plain": [
       "Text(0.5, 1.0, 'Jewelry Customers Data')"
      ]
     },
     "execution_count": 67,
     "metadata": {},
     "output_type": "execute_result"
    },
    {
     "data": {
      "text/plain": [
       "Text(0.5, 0, 'Income')"
      ]
     },
     "execution_count": 67,
     "metadata": {},
     "output_type": "execute_result"
    },
    {
     "data": {
      "text/plain": [
       "Text(0, 0.5, 'Spending Score')"
      ]
     },
     "execution_count": 67,
     "metadata": {},
     "output_type": "execute_result"
    },
    {
     "data": {
      "text/plain": [
       "<matplotlib.collections.PathCollection at 0x283680ba708>"
      ]
     },
     "execution_count": 67,
     "metadata": {},
     "output_type": "execute_result"
    },
    {
     "data": {
      "image/png": "[encoded data removed]",
      "text/plain": [
       "<Figure size 432x288 with 1 Axes>"
      ]
     },
     "metadata": {
      "needs_background": "light"
     },
     "output_type": "display_data"
    }
   ],
   "source": [
    "plt.figure()\n",
    "plt.title(\"Jewelry Customers Data\")\n",
    "plt.xlabel('Income')\n",
    "plt.ylabel('Spending Score')\n",
    "plt.scatter(X.iloc[:,1],X.iloc[:,2], c=\"green\")    # Scatterplot for Income against Spending Score\n",
    "plt.show()"
   ]
  },
  {
   "cell_type": "code",
   "execution_count": 68,
   "metadata": {},
   "outputs": [
    {
     "data": {
      "text/plain": [
       "array([[-4.23e-02,  6.27e-02,  1.10e+00, -1.07e+00],\n",
       "       [-8.21e-04,  1.75e-01,  1.10e+00, -1.30e+00],\n",
       "       [ 1.24e-01, -2.12e-02,  7.62e-01, -5.27e-01],\n",
       "       ...,\n",
       "       [ 1.28e+00, -1.12e+00, -5.78e-01,  8.55e-01],\n",
       "       [ 1.33e+00, -1.52e+00, -5.80e-01,  1.32e+00],\n",
       "       [ 1.24e+00, -1.26e+00, -8.32e-01,  5.10e-01]])"
      ]
     },
     "execution_count": 68,
     "metadata": {},
     "output_type": "execute_result"
    }
   ],
   "source": [
    "# Looking at the scatterplot we can visually see that the data is divided into five clusters\n",
    "# Feature Engineering - applying standard scaling to the data\n",
    "scaler = StandardScaler()\n",
    "X = scaler.fit_transform(X)\n",
    "X    "
   ]
  },
  {
   "cell_type": "code",
   "execution_count": 69,
   "metadata": {},
   "outputs": [
    {
     "data": {
      "image/png": "[encoded data removed]",
      "text/plain": [
       "<Figure size 432x288 with 1 Axes>"
      ]
     },
     "metadata": {
      "needs_background": "light"
     },
     "output_type": "display_data"
    },
    {
     "name": "stdout",
     "output_type": "stream",
     "text": [
      "K=2, WCSS=1022.39, Sil=0.52\n"
     ]
    },
    {
     "data": {
      "image/png": "[encoded data removed]",
      "text/plain": [
       "<Figure size 432x288 with 1 Axes>"
      ]
     },
     "metadata": {
      "needs_background": "light"
     },
     "output_type": "display_data"
    },
    {
     "name": "stdout",
     "output_type": "stream",
     "text": [
      "K=3, WCSS=384.81, Sil=0.70\n"
     ]
    },
    {
     "data": {
      "image/png": "[encoded data removed]",
      "text/plain": [
       "<Figure size 432x288 with 1 Axes>"
      ]
     },
     "metadata": {
      "needs_background": "light"
     },
     "output_type": "display_data"
    },
    {
     "name": "stdout",
     "output_type": "stream",
     "text": [
      "K=4, WCSS=189.70, Sil=0.76\n"
     ]
    },
    {
     "data": {
      "image/png": "[encoded data removed]",
      "text/plain": [
       "<Figure size 432x288 with 1 Axes>"
      ]
     },
     "metadata": {
      "needs_background": "light"
     },
     "output_type": "display_data"
    },
    {
     "name": "stdout",
     "output_type": "stream",
     "text": [
      "K=5, WCSS=66.51, Sil=0.80\n"
     ]
    },
    {
     "data": {
      "image/png": "[encoded data removed]",
      "text/plain": [
       "<Figure size 432x288 with 1 Axes>"
      ]
     },
     "metadata": {
      "needs_background": "light"
     },
     "output_type": "display_data"
    },
    {
     "name": "stdout",
     "output_type": "stream",
     "text": [
      "K=6, WCSS=61.14, Sil=0.63\n"
     ]
    },
    {
     "data": {
      "image/png": "[encoded data removed]",
      "text/plain": [
       "<Figure size 432x288 with 1 Axes>"
      ]
     },
     "metadata": {
      "needs_background": "light"
     },
     "output_type": "display_data"
    },
    {
     "name": "stdout",
     "output_type": "stream",
     "text": [
      "K=7, WCSS=56.89, Sil=0.45\n"
     ]
    },
    {
     "data": {
      "image/png": "[encoded data removed]",
      "text/plain": [
       "<Figure size 432x288 with 1 Axes>"
      ]
     },
     "metadata": {
      "needs_background": "light"
     },
     "output_type": "display_data"
    },
    {
     "name": "stdout",
     "output_type": "stream",
     "text": [
      "K=8, WCSS=52.92, Sil=0.30\n"
     ]
    },
    {
     "data": {
      "image/png": "[encoded data removed]",
      "text/plain": [
       "<Figure size 432x288 with 1 Axes>"
      ]
     },
     "metadata": {
      "needs_background": "light"
     },
     "output_type": "display_data"
    },
    {
     "name": "stdout",
     "output_type": "stream",
     "text": [
      "K=9, WCSS=50.25, Sil=0.30\n"
     ]
    }
   ],
   "source": [
    "# Apply K-means with different K values\n",
    "def do_kmeans(X, k):          \n",
    "    k_means = KMeans(init='k-means++', n_clusters=k, n_init=10, random_state=42)\n",
    "    k_means.fit(X)\n",
    "\n",
    "    plt.figure();\n",
    "    plt.scatter(X[:, 0], X[:, 1], c=k_means.labels_)\n",
    "    plt.scatter(k_means.cluster_centers_[:, 0], k_means.cluster_centers_[:, 1], marker='x', c=\"black\")\n",
    "    plt.title(\"K-Means (K={})\".format(k));\n",
    "    plt.xlabel('Age');\n",
    "    plt.ylabel('Income');\n",
    "    #plt.savefig('out/simple_kmeans_k{}.png'.format(k))\n",
    "    plt.show()\n",
    "    \n",
    "    wcss = k_means.inertia_\n",
    "    sil = silhouette_score(X, k_means.labels_)\n",
    "    print(\"K={}, WCSS={:.2f}, Sil={:.2f}\".format(k, wcss, sil))\n",
    "\n",
    "for k in range(2, 10):         # Give range to try k-means with different values of K\n",
    "    do_kmeans(X, k)"
   ]
  },
  {
   "cell_type": "code",
   "execution_count": 70,
   "metadata": {},
   "outputs": [
    {
     "data": {
      "text/plain": [
       "KMeans(n_clusters=5, random_state=42)"
      ]
     },
     "execution_count": 70,
     "metadata": {},
     "output_type": "execute_result"
    }
   ],
   "source": [
    "#As we saw in the scatterplot, data is divided into five clusters, lest run the k-means clustering with 5 clusters.\n",
    "\n",
    "k_means = KMeans(init=\"k-means++\", n_clusters=5, n_init=10, random_state=42)\n",
    "k_means.fit(X)          # Fit the data into the algorithm"
   ]
  },
  {
   "cell_type": "code",
   "execution_count": 71,
   "metadata": {},
   "outputs": [
    {
     "name": "stdout",
     "output_type": "stream",
     "text": [
      "Cluster labels :\n"
     ]
    },
    {
     "data": {
      "text/plain": [
       "array([2, 2, 2, 2, 0, 3, 2, 0, 0, 0, 4, 1, 1, 1, 2, 4, 2, 0, 0, 4, 1, 4,\n",
       "       2, 0, 4, 3, 3, 2, 0, 2, 2, 2, 0, 2, 1, 2, 0, 2, 1, 1, 2, 0, 3, 2,\n",
       "       2, 3, 4, 3, 1, 2, 0, 1, 3, 0, 2, 0, 1, 0, 0, 0, 0, 0, 0, 2, 2, 2,\n",
       "       0, 3, 3, 2, 2, 1, 0, 0, 1, 2, 1, 2, 2, 3, 2, 4, 2, 0, 0, 1, 1, 2,\n",
       "       2, 2, 2, 2, 3, 0, 2, 3, 1, 2, 2, 1, 1, 3, 1, 3, 1, 0, 0, 1, 1, 2,\n",
       "       0, 1, 2, 1, 1, 1, 2, 1, 3, 0, 1, 0, 0, 0, 1, 4, 2, 0, 2, 2, 1, 2,\n",
       "       1, 2, 3, 0, 4, 3, 2, 1, 0, 2, 2, 3, 2, 3, 2, 4, 2, 0, 2, 1, 0, 2,\n",
       "       0, 4, 1, 2, 0, 2, 1, 0, 2, 1, 0, 1, 0, 2, 1, 2, 0, 2, 1, 2, 0, 2,\n",
       "       2, 0, 0, 0, 2, 2, 1, 3, 3, 0, 1, 2, 2, 2, 1, 0, 2, 2, 2, 0, 3, 1,\n",
       "       0, 0, 0, 1, 2, 1, 2, 1, 2, 0, 3, 2, 0, 0, 0, 0, 2, 0, 1, 3, 1, 0,\n",
       "       2, 2, 1, 0, 1, 3, 1, 2, 2, 0, 2, 2, 0, 2, 2, 2, 1, 2, 1, 1, 3, 2,\n",
       "       2, 2, 4, 2, 1, 0, 3, 3, 3, 0, 2, 1, 0, 0, 1, 1, 2, 2, 4, 2, 2, 0,\n",
       "       2, 0, 1, 3, 2, 1, 0, 2, 0, 0, 1, 2, 0, 0, 2, 2, 0, 1, 1, 4, 1, 0,\n",
       "       0, 1, 4, 0, 0, 3, 2, 1, 1, 2, 1, 0, 0, 1, 2, 1, 0, 2, 1, 3, 2, 0,\n",
       "       1, 1, 0, 4, 4, 2, 0, 1, 2, 2, 0, 1, 0, 1, 0, 1, 0, 0, 1, 0, 1, 2,\n",
       "       1, 2, 2, 1, 1, 0, 0, 3, 3, 1, 0, 3, 0, 4, 2, 2, 2, 0, 0, 1, 1, 4,\n",
       "       1, 4, 2, 1, 3, 0, 2, 0, 3, 2, 0, 0, 2, 0, 1, 2, 4, 1, 1, 2, 0, 0,\n",
       "       0, 0, 0, 1, 1, 0, 2, 1, 2, 4, 0, 0, 2, 0, 0, 2, 0, 0, 1, 0, 2, 1,\n",
       "       3, 1, 2, 0, 1, 2, 2, 2, 0, 1, 3, 1, 2, 1, 2, 2, 3, 1, 4, 3, 1, 1,\n",
       "       0, 2, 0, 1, 0, 1, 2, 2, 0, 4, 1, 0, 1, 2, 2, 1, 2, 0, 2, 1, 2, 0,\n",
       "       2, 0, 3, 1, 1, 3, 1, 1, 0, 0, 2, 3, 2, 1, 1, 4, 3, 1, 3, 0, 1, 1,\n",
       "       2, 1, 0, 0, 3, 2, 1, 2, 2, 1, 2, 2, 2, 0, 1, 1, 2, 2, 2, 0, 1, 0,\n",
       "       0, 0, 0, 3, 0, 0, 0, 2, 2, 0, 0, 2, 3, 0, 1, 3, 1, 0, 0, 0, 0])"
      ]
     },
     "execution_count": 71,
     "metadata": {},
     "output_type": "execute_result"
    },
    {
     "name": "stdout",
     "output_type": "stream",
     "text": [
      "Cluster Centers :\n"
     ]
    },
    {
     "data": {
      "text/plain": [
       "array([[ 1.19, -1.33, -0.68,  0.97],\n",
       "       [-1.09,  0.83, -0.75,  0.63],\n",
       "       [ 0.04, -0.09,  1.03, -1.01],\n",
       "       [-1.44,  1.46,  1.51, -1.57],\n",
       "       [ 1.12,  1.24, -1.68,  0.6 ]])"
      ]
     },
     "execution_count": 71,
     "metadata": {},
     "output_type": "execute_result"
    },
    {
     "name": "stdout",
     "output_type": "stream",
     "text": [
      "Cluster Centers Inversed :\n"
     ]
    },
    {
     "data": {
      "text/plain": [
       "array([[8.78e+01, 2.79e+04, 3.29e-01, 1.67e+04],\n",
       "       [3.28e+01, 1.05e+05, 3.10e-01, 1.50e+04],\n",
       "       [6.00e+01, 7.24e+04, 7.72e-01, 6.89e+03],\n",
       "       [2.42e+01, 1.28e+05, 8.97e-01, 4.09e+03],\n",
       "       [8.60e+01, 1.20e+05, 6.84e-02, 1.48e+04]])"
      ]
     },
     "execution_count": 71,
     "metadata": {},
     "output_type": "execute_result"
    }
   ],
   "source": [
    "print(\"Cluster labels :\")\n",
    "k_means.labels_    # Print Cluster labels\n",
    "\n",
    "print(\"Cluster Centers :\")\n",
    "k_means.cluster_centers_   # Print Cluster centers\n",
    "\n",
    "print(\"Cluster Centers Inversed :\")\n",
    "scaler.inverse_transform(k_means.cluster_centers_)    # Print inversely transformed Cluster centers"
   ]
  },
  {
   "cell_type": "code",
   "execution_count": 72,
   "metadata": {},
   "outputs": [
    {
     "data": {
      "text/plain": [
       "Text(0.5, 1.0, 'K-Means (K=5)')"
      ]
     },
     "execution_count": 72,
     "metadata": {},
     "output_type": "execute_result"
    },
    {
     "data": {
      "text/plain": [
       "Text(0.5, 0, 'Age')"
      ]
     },
     "execution_count": 72,
     "metadata": {},
     "output_type": "execute_result"
    },
    {
     "data": {
      "text/plain": [
       "Text(0, 0.5, 'Annual Income')"
      ]
     },
     "execution_count": 72,
     "metadata": {},
     "output_type": "execute_result"
    },
    {
     "data": {
      "text/plain": [
       "(array([-2. , -1.5, -1. , -0.5,  0. ,  0.5,  1. ,  1.5,  2. ]),\n",
       " <a list of 9 Text major ticklabel objects>)"
      ]
     },
     "execution_count": 72,
     "metadata": {},
     "output_type": "execute_result"
    },
    {
     "data": {
      "text/plain": [
       "(array([-2. , -1.5, -1. , -0.5,  0. ,  0.5,  1. ,  1.5,  2. ,  2.5]),\n",
       " <a list of 10 Text major ticklabel objects>)"
      ]
     },
     "execution_count": 72,
     "metadata": {},
     "output_type": "execute_result"
    },
    {
     "data": {
      "text/plain": [
       "Text(0.03879610999465229, -0.08524639295632362, '2')"
      ]
     },
     "execution_count": 72,
     "metadata": {},
     "output_type": "execute_result"
    },
    {
     "data": {
      "text/plain": [
       "Text(0.03879610999465229, -0.08524639295632362, '2')"
      ]
     },
     "execution_count": 72,
     "metadata": {},
     "output_type": "execute_result"
    },
    {
     "data": {
      "text/plain": [
       "Text(0.03879610999465229, -0.08524639295632362, '2')"
      ]
     },
     "execution_count": 72,
     "metadata": {},
     "output_type": "execute_result"
    },
    {
     "data": {
      "text/plain": [
       "Text(0.03879610999465229, -0.08524639295632362, '2')"
      ]
     },
     "execution_count": 72,
     "metadata": {},
     "output_type": "execute_result"
    },
    {
     "data": {
      "text/plain": [
       "Text(1.192384856571653, -1.3251059310348992, '0')"
      ]
     },
     "execution_count": 72,
     "metadata": {},
     "output_type": "execute_result"
    },
    {
     "data": {
      "text/plain": [
       "Text(-1.4446680277775006, 1.4605066479893325, '3')"
      ]
     },
     "execution_count": 72,
     "metadata": {},
     "output_type": "execute_result"
    },
    {
     "data": {
      "text/plain": [
       "Text(0.03879610999465229, -0.08524639295632362, '2')"
      ]
     },
     "execution_count": 72,
     "metadata": {},
     "output_type": "execute_result"
    },
    {
     "data": {
      "text/plain": [
       "Text(1.192384856571653, -1.3251059310348992, '0')"
      ]
     },
     "execution_count": 72,
     "metadata": {},
     "output_type": "execute_result"
    },
    {
     "data": {
      "text/plain": [
       "Text(1.192384856571653, -1.3251059310348992, '0')"
      ]
     },
     "execution_count": 72,
     "metadata": {},
     "output_type": "execute_result"
    },
    {
     "data": {
      "text/plain": [
       "Text(1.192384856571653, -1.3251059310348992, '0')"
      ]
     },
     "execution_count": 72,
     "metadata": {},
     "output_type": "execute_result"
    },
    {
     "data": {
      "text/plain": [
       "Text(1.1187615097372665, 1.235654192369486, '4')"
      ]
     },
     "execution_count": 72,
     "metadata": {},
     "output_type": "execute_result"
    },
    {
     "data": {
      "text/plain": [
       "Text(-1.0881523772996022, 0.827441018631502, '1')"
      ]
     },
     "execution_count": 72,
     "metadata": {},
     "output_type": "execute_result"
    },
    {
     "data": {
      "text/plain": [
       "Text(-1.0881523772996022, 0.827441018631502, '1')"
      ]
     },
     "execution_count": 72,
     "metadata": {},
     "output_type": "execute_result"
    },
    {
     "data": {
      "text/plain": [
       "Text(-1.0881523772996022, 0.827441018631502, '1')"
      ]
     },
     "execution_count": 72,
     "metadata": {},
     "output_type": "execute_result"
    },
    {
     "data": {
      "text/plain": [
       "Text(0.03879610999465229, -0.08524639295632362, '2')"
      ]
     },
     "execution_count": 72,
     "metadata": {},
     "output_type": "execute_result"
    },
    {
     "data": {
      "text/plain": [
       "Text(1.1187615097372665, 1.235654192369486, '4')"
      ]
     },
     "execution_count": 72,
     "metadata": {},
     "output_type": "execute_result"
    },
    {
     "data": {
      "text/plain": [
       "Text(0.03879610999465229, -0.08524639295632362, '2')"
      ]
     },
     "execution_count": 72,
     "metadata": {},
     "output_type": "execute_result"
    },
    {
     "data": {
      "text/plain": [
       "Text(1.192384856571653, -1.3251059310348992, '0')"
      ]
     },
     "execution_count": 72,
     "metadata": {},
     "output_type": "execute_result"
    },
    {
     "data": {
      "text/plain": [
       "Text(1.192384856571653, -1.3251059310348992, '0')"
      ]
     },
     "execution_count": 72,
     "metadata": {},
     "output_type": "execute_result"
    },
    {
     "data": {
      "text/plain": [
       "Text(1.1187615097372665, 1.235654192369486, '4')"
      ]
     },
     "execution_count": 72,
     "metadata": {},
     "output_type": "execute_result"
    },
    {
     "data": {
      "text/plain": [
       "Text(-1.0881523772996022, 0.827441018631502, '1')"
      ]
     },
     "execution_count": 72,
     "metadata": {},
     "output_type": "execute_result"
    },
    {
     "data": {
      "text/plain": [
       "Text(1.1187615097372665, 1.235654192369486, '4')"
      ]
     },
     "execution_count": 72,
     "metadata": {},
     "output_type": "execute_result"
    },
    {
     "data": {
      "text/plain": [
       "Text(0.03879610999465229, -0.08524639295632362, '2')"
      ]
     },
     "execution_count": 72,
     "metadata": {},
     "output_type": "execute_result"
    },
    {
     "data": {
      "text/plain": [
       "Text(1.192384856571653, -1.3251059310348992, '0')"
      ]
     },
     "execution_count": 72,
     "metadata": {},
     "output_type": "execute_result"
    },
    {
     "data": {
      "text/plain": [
       "Text(1.1187615097372665, 1.235654192369486, '4')"
      ]
     },
     "execution_count": 72,
     "metadata": {},
     "output_type": "execute_result"
    },
    {
     "data": {
      "text/plain": [
       "Text(-1.4446680277775006, 1.4605066479893325, '3')"
      ]
     },
     "execution_count": 72,
     "metadata": {},
     "output_type": "execute_result"
    },
    {
     "data": {
      "text/plain": [
       "Text(-1.4446680277775006, 1.4605066479893325, '3')"
      ]
     },
     "execution_count": 72,
     "metadata": {},
     "output_type": "execute_result"
    },
    {
     "data": {
      "text/plain": [
       "Text(0.03879610999465229, -0.08524639295632362, '2')"
      ]
     },
     "execution_count": 72,
     "metadata": {},
     "output_type": "execute_result"
    },
    {
     "data": {
      "text/plain": [
       "Text(1.192384856571653, -1.3251059310348992, '0')"
      ]
     },
     "execution_count": 72,
     "metadata": {},
     "output_type": "execute_result"
    },
    {
     "data": {
      "text/plain": [
       "Text(0.03879610999465229, -0.08524639295632362, '2')"
      ]
     },
     "execution_count": 72,
     "metadata": {},
     "output_type": "execute_result"
    },
    {
     "data": {
      "text/plain": [
       "Text(0.03879610999465229, -0.08524639295632362, '2')"
      ]
     },
     "execution_count": 72,
     "metadata": {},
     "output_type": "execute_result"
    },
    {
     "data": {
      "text/plain": [
       "Text(0.03879610999465229, -0.08524639295632362, '2')"
      ]
     },
     "execution_count": 72,
     "metadata": {},
     "output_type": "execute_result"
    },
    {
     "data": {
      "text/plain": [
       "Text(1.192384856571653, -1.3251059310348992, '0')"
      ]
     },
     "execution_count": 72,
     "metadata": {},
     "output_type": "execute_result"
    },
    {
     "data": {
      "text/plain": [
       "Text(0.03879610999465229, -0.08524639295632362, '2')"
      ]
     },
     "execution_count": 72,
     "metadata": {},
     "output_type": "execute_result"
    },
    {
     "data": {
      "text/plain": [
       "Text(-1.0881523772996022, 0.827441018631502, '1')"
      ]
     },
     "execution_count": 72,
     "metadata": {},
     "output_type": "execute_result"
    },
    {
     "data": {
      "text/plain": [
       "Text(0.03879610999465229, -0.08524639295632362, '2')"
      ]
     },
     "execution_count": 72,
     "metadata": {},
     "output_type": "execute_result"
    },
    {
     "data": {
      "text/plain": [
       "Text(1.192384856571653, -1.3251059310348992, '0')"
      ]
     },
     "execution_count": 72,
     "metadata": {},
     "output_type": "execute_result"
    },
    {
     "data": {
      "text/plain": [
       "Text(0.03879610999465229, -0.08524639295632362, '2')"
      ]
     },
     "execution_count": 72,
     "metadata": {},
     "output_type": "execute_result"
    },
    {
     "data": {
      "text/plain": [
       "Text(-1.0881523772996022, 0.827441018631502, '1')"
      ]
     },
     "execution_count": 72,
     "metadata": {},
     "output_type": "execute_result"
    },
    {
     "data": {
      "text/plain": [
       "Text(-1.0881523772996022, 0.827441018631502, '1')"
      ]
     },
     "execution_count": 72,
     "metadata": {},
     "output_type": "execute_result"
    },
    {
     "data": {
      "text/plain": [
       "Text(0.03879610999465229, -0.08524639295632362, '2')"
      ]
     },
     "execution_count": 72,
     "metadata": {},
     "output_type": "execute_result"
    },
    {
     "data": {
      "text/plain": [
       "Text(1.192384856571653, -1.3251059310348992, '0')"
      ]
     },
     "execution_count": 72,
     "metadata": {},
     "output_type": "execute_result"
    },
    {
     "data": {
      "text/plain": [
       "Text(-1.4446680277775006, 1.4605066479893325, '3')"
      ]
     },
     "execution_count": 72,
     "metadata": {},
     "output_type": "execute_result"
    },
    {
     "data": {
      "text/plain": [
       "Text(0.03879610999465229, -0.08524639295632362, '2')"
      ]
     },
     "execution_count": 72,
     "metadata": {},
     "output_type": "execute_result"
    },
    {
     "data": {
      "text/plain": [
       "Text(0.03879610999465229, -0.08524639295632362, '2')"
      ]
     },
     "execution_count": 72,
     "metadata": {},
     "output_type": "execute_result"
    },
    {
     "data": {
      "text/plain": [
       "Text(-1.4446680277775006, 1.4605066479893325, '3')"
      ]
     },
     "execution_count": 72,
     "metadata": {},
     "output_type": "execute_result"
    },
    {
     "data": {
      "text/plain": [
       "Text(1.1187615097372665, 1.235654192369486, '4')"
      ]
     },
     "execution_count": 72,
     "metadata": {},
     "output_type": "execute_result"
    },
    {
     "data": {
      "text/plain": [
       "Text(-1.4446680277775006, 1.4605066479893325, '3')"
      ]
     },
     "execution_count": 72,
     "metadata": {},
     "output_type": "execute_result"
    },
    {
     "data": {
      "text/plain": [
       "Text(-1.0881523772996022, 0.827441018631502, '1')"
      ]
     },
     "execution_count": 72,
     "metadata": {},
     "output_type": "execute_result"
    },
    {
     "data": {
      "text/plain": [
       "Text(0.03879610999465229, -0.08524639295632362, '2')"
      ]
     },
     "execution_count": 72,
     "metadata": {},
     "output_type": "execute_result"
    },
    {
     "data": {
      "text/plain": [
       "Text(1.192384856571653, -1.3251059310348992, '0')"
      ]
     },
     "execution_count": 72,
     "metadata": {},
     "output_type": "execute_result"
    },
    {
     "data": {
      "text/plain": [
       "Text(-1.0881523772996022, 0.827441018631502, '1')"
      ]
     },
     "execution_count": 72,
     "metadata": {},
     "output_type": "execute_result"
    },
    {
     "data": {
      "text/plain": [
       "Text(-1.4446680277775006, 1.4605066479893325, '3')"
      ]
     },
     "execution_count": 72,
     "metadata": {},
     "output_type": "execute_result"
    },
    {
     "data": {
      "text/plain": [
       "Text(1.192384856571653, -1.3251059310348992, '0')"
      ]
     },
     "execution_count": 72,
     "metadata": {},
     "output_type": "execute_result"
    },
    {
     "data": {
      "text/plain": [
       "Text(0.03879610999465229, -0.08524639295632362, '2')"
      ]
     },
     "execution_count": 72,
     "metadata": {},
     "output_type": "execute_result"
    },
    {
     "data": {
      "text/plain": [
       "Text(1.192384856571653, -1.3251059310348992, '0')"
      ]
     },
     "execution_count": 72,
     "metadata": {},
     "output_type": "execute_result"
    },
    {
     "data": {
      "text/plain": [
       "Text(-1.0881523772996022, 0.827441018631502, '1')"
      ]
     },
     "execution_count": 72,
     "metadata": {},
     "output_type": "execute_result"
    },
    {
     "data": {
      "text/plain": [
       "Text(1.192384856571653, -1.3251059310348992, '0')"
      ]
     },
     "execution_count": 72,
     "metadata": {},
     "output_type": "execute_result"
    },
    {
     "data": {
      "text/plain": [
       "Text(1.192384856571653, -1.3251059310348992, '0')"
      ]
     },
     "execution_count": 72,
     "metadata": {},
     "output_type": "execute_result"
    },
    {
     "data": {
      "text/plain": [
       "Text(1.192384856571653, -1.3251059310348992, '0')"
      ]
     },
     "execution_count": 72,
     "metadata": {},
     "output_type": "execute_result"
    },
    {
     "data": {
      "text/plain": [
       "Text(1.192384856571653, -1.3251059310348992, '0')"
      ]
     },
     "execution_count": 72,
     "metadata": {},
     "output_type": "execute_result"
    },
    {
     "data": {
      "text/plain": [
       "Text(1.192384856571653, -1.3251059310348992, '0')"
      ]
     },
     "execution_count": 72,
     "metadata": {},
     "output_type": "execute_result"
    },
    {
     "data": {
      "text/plain": [
       "Text(1.192384856571653, -1.3251059310348992, '0')"
      ]
     },
     "execution_count": 72,
     "metadata": {},
     "output_type": "execute_result"
    },
    {
     "data": {
      "text/plain": [
       "Text(0.03879610999465229, -0.08524639295632362, '2')"
      ]
     },
     "execution_count": 72,
     "metadata": {},
     "output_type": "execute_result"
    },
    {
     "data": {
      "text/plain": [
       "Text(0.03879610999465229, -0.08524639295632362, '2')"
      ]
     },
     "execution_count": 72,
     "metadata": {},
     "output_type": "execute_result"
    },
    {
     "data": {
      "text/plain": [
       "Text(0.03879610999465229, -0.08524639295632362, '2')"
      ]
     },
     "execution_count": 72,
     "metadata": {},
     "output_type": "execute_result"
    },
    {
     "data": {
      "text/plain": [
       "Text(1.192384856571653, -1.3251059310348992, '0')"
      ]
     },
     "execution_count": 72,
     "metadata": {},
     "output_type": "execute_result"
    },
    {
     "data": {
      "text/plain": [
       "Text(-1.4446680277775006, 1.4605066479893325, '3')"
      ]
     },
     "execution_count": 72,
     "metadata": {},
     "output_type": "execute_result"
    },
    {
     "data": {
      "text/plain": [
       "Text(-1.4446680277775006, 1.4605066479893325, '3')"
      ]
     },
     "execution_count": 72,
     "metadata": {},
     "output_type": "execute_result"
    },
    {
     "data": {
      "text/plain": [
       "Text(0.03879610999465229, -0.08524639295632362, '2')"
      ]
     },
     "execution_count": 72,
     "metadata": {},
     "output_type": "execute_result"
    },
    {
     "data": {
      "text/plain": [
       "Text(0.03879610999465229, -0.08524639295632362, '2')"
      ]
     },
     "execution_count": 72,
     "metadata": {},
     "output_type": "execute_result"
    },
    {
     "data": {
      "text/plain": [
       "Text(-1.0881523772996022, 0.827441018631502, '1')"
      ]
     },
     "execution_count": 72,
     "metadata": {},
     "output_type": "execute_result"
    },
    {
     "data": {
      "text/plain": [
       "Text(1.192384856571653, -1.3251059310348992, '0')"
      ]
     },
     "execution_count": 72,
     "metadata": {},
     "output_type": "execute_result"
    },
    {
     "data": {
      "text/plain": [
       "Text(1.192384856571653, -1.3251059310348992, '0')"
      ]
     },
     "execution_count": 72,
     "metadata": {},
     "output_type": "execute_result"
    },
    {
     "data": {
      "text/plain": [
       "Text(-1.0881523772996022, 0.827441018631502, '1')"
      ]
     },
     "execution_count": 72,
     "metadata": {},
     "output_type": "execute_result"
    },
    {
     "data": {
      "text/plain": [
       "Text(0.03879610999465229, -0.08524639295632362, '2')"
      ]
     },
     "execution_count": 72,
     "metadata": {},
     "output_type": "execute_result"
    },
    {
     "data": {
      "text/plain": [
       "Text(-1.0881523772996022, 0.827441018631502, '1')"
      ]
     },
     "execution_count": 72,
     "metadata": {},
     "output_type": "execute_result"
    },
    {
     "data": {
      "text/plain": [
       "Text(0.03879610999465229, -0.08524639295632362, '2')"
      ]
     },
     "execution_count": 72,
     "metadata": {},
     "output_type": "execute_result"
    },
    {
     "data": {
      "text/plain": [
       "Text(0.03879610999465229, -0.08524639295632362, '2')"
      ]
     },
     "execution_count": 72,
     "metadata": {},
     "output_type": "execute_result"
    },
    {
     "data": {
      "text/plain": [
       "Text(-1.4446680277775006, 1.4605066479893325, '3')"
      ]
     },
     "execution_count": 72,
     "metadata": {},
     "output_type": "execute_result"
    },
    {
     "data": {
      "text/plain": [
       "Text(0.03879610999465229, -0.08524639295632362, '2')"
      ]
     },
     "execution_count": 72,
     "metadata": {},
     "output_type": "execute_result"
    },
    {
     "data": {
      "text/plain": [
       "Text(1.1187615097372665, 1.235654192369486, '4')"
      ]
     },
     "execution_count": 72,
     "metadata": {},
     "output_type": "execute_result"
    },
    {
     "data": {
      "text/plain": [
       "Text(0.03879610999465229, -0.08524639295632362, '2')"
      ]
     },
     "execution_count": 72,
     "metadata": {},
     "output_type": "execute_result"
    },
    {
     "data": {
      "text/plain": [
       "Text(1.192384856571653, -1.3251059310348992, '0')"
      ]
     },
     "execution_count": 72,
     "metadata": {},
     "output_type": "execute_result"
    },
    {
     "data": {
      "text/plain": [
       "Text(1.192384856571653, -1.3251059310348992, '0')"
      ]
     },
     "execution_count": 72,
     "metadata": {},
     "output_type": "execute_result"
    },
    {
     "data": {
      "text/plain": [
       "Text(-1.0881523772996022, 0.827441018631502, '1')"
      ]
     },
     "execution_count": 72,
     "metadata": {},
     "output_type": "execute_result"
    },
    {
     "data": {
      "text/plain": [
       "Text(-1.0881523772996022, 0.827441018631502, '1')"
      ]
     },
     "execution_count": 72,
     "metadata": {},
     "output_type": "execute_result"
    },
    {
     "data": {
      "text/plain": [
       "Text(0.03879610999465229, -0.08524639295632362, '2')"
      ]
     },
     "execution_count": 72,
     "metadata": {},
     "output_type": "execute_result"
    },
    {
     "data": {
      "text/plain": [
       "Text(0.03879610999465229, -0.08524639295632362, '2')"
      ]
     },
     "execution_count": 72,
     "metadata": {},
     "output_type": "execute_result"
    },
    {
     "data": {
      "text/plain": [
       "Text(0.03879610999465229, -0.08524639295632362, '2')"
      ]
     },
     "execution_count": 72,
     "metadata": {},
     "output_type": "execute_result"
    },
    {
     "data": {
      "text/plain": [
       "Text(0.03879610999465229, -0.08524639295632362, '2')"
      ]
     },
     "execution_count": 72,
     "metadata": {},
     "output_type": "execute_result"
    },
    {
     "data": {
      "text/plain": [
       "Text(0.03879610999465229, -0.08524639295632362, '2')"
      ]
     },
     "execution_count": 72,
     "metadata": {},
     "output_type": "execute_result"
    },
    {
     "data": {
      "text/plain": [
       "Text(-1.4446680277775006, 1.4605066479893325, '3')"
      ]
     },
     "execution_count": 72,
     "metadata": {},
     "output_type": "execute_result"
    },
    {
     "data": {
      "text/plain": [
       "Text(1.192384856571653, -1.3251059310348992, '0')"
      ]
     },
     "execution_count": 72,
     "metadata": {},
     "output_type": "execute_result"
    },
    {
     "data": {
      "text/plain": [
       "Text(0.03879610999465229, -0.08524639295632362, '2')"
      ]
     },
     "execution_count": 72,
     "metadata": {},
     "output_type": "execute_result"
    },
    {
     "data": {
      "text/plain": [
       "Text(-1.4446680277775006, 1.4605066479893325, '3')"
      ]
     },
     "execution_count": 72,
     "metadata": {},
     "output_type": "execute_result"
    },
    {
     "data": {
      "text/plain": [
       "Text(-1.0881523772996022, 0.827441018631502, '1')"
      ]
     },
     "execution_count": 72,
     "metadata": {},
     "output_type": "execute_result"
    },
    {
     "data": {
      "text/plain": [
       "Text(0.03879610999465229, -0.08524639295632362, '2')"
      ]
     },
     "execution_count": 72,
     "metadata": {},
     "output_type": "execute_result"
    },
    {
     "data": {
      "text/plain": [
       "Text(0.03879610999465229, -0.08524639295632362, '2')"
      ]
     },
     "execution_count": 72,
     "metadata": {},
     "output_type": "execute_result"
    },
    {
     "data": {
      "text/plain": [
       "Text(-1.0881523772996022, 0.827441018631502, '1')"
      ]
     },
     "execution_count": 72,
     "metadata": {},
     "output_type": "execute_result"
    },
    {
     "data": {
      "text/plain": [
       "Text(-1.0881523772996022, 0.827441018631502, '1')"
      ]
     },
     "execution_count": 72,
     "metadata": {},
     "output_type": "execute_result"
    },
    {
     "data": {
      "text/plain": [
       "Text(-1.4446680277775006, 1.4605066479893325, '3')"
      ]
     },
     "execution_count": 72,
     "metadata": {},
     "output_type": "execute_result"
    },
    {
     "data": {
      "text/plain": [
       "Text(-1.0881523772996022, 0.827441018631502, '1')"
      ]
     },
     "execution_count": 72,
     "metadata": {},
     "output_type": "execute_result"
    },
    {
     "data": {
      "text/plain": [
       "Text(-1.4446680277775006, 1.4605066479893325, '3')"
      ]
     },
     "execution_count": 72,
     "metadata": {},
     "output_type": "execute_result"
    },
    {
     "data": {
      "text/plain": [
       "Text(-1.0881523772996022, 0.827441018631502, '1')"
      ]
     },
     "execution_count": 72,
     "metadata": {},
     "output_type": "execute_result"
    },
    {
     "data": {
      "text/plain": [
       "Text(1.192384856571653, -1.3251059310348992, '0')"
      ]
     },
     "execution_count": 72,
     "metadata": {},
     "output_type": "execute_result"
    },
    {
     "data": {
      "text/plain": [
       "Text(1.192384856571653, -1.3251059310348992, '0')"
      ]
     },
     "execution_count": 72,
     "metadata": {},
     "output_type": "execute_result"
    },
    {
     "data": {
      "text/plain": [
       "Text(-1.0881523772996022, 0.827441018631502, '1')"
      ]
     },
     "execution_count": 72,
     "metadata": {},
     "output_type": "execute_result"
    },
    {
     "data": {
      "text/plain": [
       "Text(-1.0881523772996022, 0.827441018631502, '1')"
      ]
     },
     "execution_count": 72,
     "metadata": {},
     "output_type": "execute_result"
    },
    {
     "data": {
      "text/plain": [
       "Text(0.03879610999465229, -0.08524639295632362, '2')"
      ]
     },
     "execution_count": 72,
     "metadata": {},
     "output_type": "execute_result"
    },
    {
     "data": {
      "text/plain": [
       "Text(1.192384856571653, -1.3251059310348992, '0')"
      ]
     },
     "execution_count": 72,
     "metadata": {},
     "output_type": "execute_result"
    },
    {
     "data": {
      "text/plain": [
       "Text(-1.0881523772996022, 0.827441018631502, '1')"
      ]
     },
     "execution_count": 72,
     "metadata": {},
     "output_type": "execute_result"
    },
    {
     "data": {
      "text/plain": [
       "Text(0.03879610999465229, -0.08524639295632362, '2')"
      ]
     },
     "execution_count": 72,
     "metadata": {},
     "output_type": "execute_result"
    },
    {
     "data": {
      "text/plain": [
       "Text(-1.0881523772996022, 0.827441018631502, '1')"
      ]
     },
     "execution_count": 72,
     "metadata": {},
     "output_type": "execute_result"
    },
    {
     "data": {
      "text/plain": [
       "Text(-1.0881523772996022, 0.827441018631502, '1')"
      ]
     },
     "execution_count": 72,
     "metadata": {},
     "output_type": "execute_result"
    },
    {
     "data": {
      "text/plain": [
       "Text(-1.0881523772996022, 0.827441018631502, '1')"
      ]
     },
     "execution_count": 72,
     "metadata": {},
     "output_type": "execute_result"
    },
    {
     "data": {
      "text/plain": [
       "Text(0.03879610999465229, -0.08524639295632362, '2')"
      ]
     },
     "execution_count": 72,
     "metadata": {},
     "output_type": "execute_result"
    },
    {
     "data": {
      "text/plain": [
       "Text(-1.0881523772996022, 0.827441018631502, '1')"
      ]
     },
     "execution_count": 72,
     "metadata": {},
     "output_type": "execute_result"
    },
    {
     "data": {
      "text/plain": [
       "Text(-1.4446680277775006, 1.4605066479893325, '3')"
      ]
     },
     "execution_count": 72,
     "metadata": {},
     "output_type": "execute_result"
    },
    {
     "data": {
      "text/plain": [
       "Text(1.192384856571653, -1.3251059310348992, '0')"
      ]
     },
     "execution_count": 72,
     "metadata": {},
     "output_type": "execute_result"
    },
    {
     "data": {
      "text/plain": [
       "Text(-1.0881523772996022, 0.827441018631502, '1')"
      ]
     },
     "execution_count": 72,
     "metadata": {},
     "output_type": "execute_result"
    },
    {
     "data": {
      "text/plain": [
       "Text(1.192384856571653, -1.3251059310348992, '0')"
      ]
     },
     "execution_count": 72,
     "metadata": {},
     "output_type": "execute_result"
    },
    {
     "data": {
      "text/plain": [
       "Text(1.192384856571653, -1.3251059310348992, '0')"
      ]
     },
     "execution_count": 72,
     "metadata": {},
     "output_type": "execute_result"
    },
    {
     "data": {
      "text/plain": [
       "Text(1.192384856571653, -1.3251059310348992, '0')"
      ]
     },
     "execution_count": 72,
     "metadata": {},
     "output_type": "execute_result"
    },
    {
     "data": {
      "text/plain": [
       "Text(-1.0881523772996022, 0.827441018631502, '1')"
      ]
     },
     "execution_count": 72,
     "metadata": {},
     "output_type": "execute_result"
    },
    {
     "data": {
      "text/plain": [
       "Text(1.1187615097372665, 1.235654192369486, '4')"
      ]
     },
     "execution_count": 72,
     "metadata": {},
     "output_type": "execute_result"
    },
    {
     "data": {
      "text/plain": [
       "Text(0.03879610999465229, -0.08524639295632362, '2')"
      ]
     },
     "execution_count": 72,
     "metadata": {},
     "output_type": "execute_result"
    },
    {
     "data": {
      "text/plain": [
       "Text(1.192384856571653, -1.3251059310348992, '0')"
      ]
     },
     "execution_count": 72,
     "metadata": {},
     "output_type": "execute_result"
    },
    {
     "data": {
      "text/plain": [
       "Text(0.03879610999465229, -0.08524639295632362, '2')"
      ]
     },
     "execution_count": 72,
     "metadata": {},
     "output_type": "execute_result"
    },
    {
     "data": {
      "text/plain": [
       "Text(0.03879610999465229, -0.08524639295632362, '2')"
      ]
     },
     "execution_count": 72,
     "metadata": {},
     "output_type": "execute_result"
    },
    {
     "data": {
      "text/plain": [
       "Text(-1.0881523772996022, 0.827441018631502, '1')"
      ]
     },
     "execution_count": 72,
     "metadata": {},
     "output_type": "execute_result"
    },
    {
     "data": {
      "text/plain": [
       "Text(0.03879610999465229, -0.08524639295632362, '2')"
      ]
     },
     "execution_count": 72,
     "metadata": {},
     "output_type": "execute_result"
    },
    {
     "data": {
      "text/plain": [
       "Text(-1.0881523772996022, 0.827441018631502, '1')"
      ]
     },
     "execution_count": 72,
     "metadata": {},
     "output_type": "execute_result"
    },
    {
     "data": {
      "text/plain": [
       "Text(0.03879610999465229, -0.08524639295632362, '2')"
      ]
     },
     "execution_count": 72,
     "metadata": {},
     "output_type": "execute_result"
    },
    {
     "data": {
      "text/plain": [
       "Text(-1.4446680277775006, 1.4605066479893325, '3')"
      ]
     },
     "execution_count": 72,
     "metadata": {},
     "output_type": "execute_result"
    },
    {
     "data": {
      "text/plain": [
       "Text(1.192384856571653, -1.3251059310348992, '0')"
      ]
     },
     "execution_count": 72,
     "metadata": {},
     "output_type": "execute_result"
    },
    {
     "data": {
      "text/plain": [
       "Text(1.1187615097372665, 1.235654192369486, '4')"
      ]
     },
     "execution_count": 72,
     "metadata": {},
     "output_type": "execute_result"
    },
    {
     "data": {
      "text/plain": [
       "Text(-1.4446680277775006, 1.4605066479893325, '3')"
      ]
     },
     "execution_count": 72,
     "metadata": {},
     "output_type": "execute_result"
    },
    {
     "data": {
      "text/plain": [
       "Text(0.03879610999465229, -0.08524639295632362, '2')"
      ]
     },
     "execution_count": 72,
     "metadata": {},
     "output_type": "execute_result"
    },
    {
     "data": {
      "text/plain": [
       "Text(-1.0881523772996022, 0.827441018631502, '1')"
      ]
     },
     "execution_count": 72,
     "metadata": {},
     "output_type": "execute_result"
    },
    {
     "data": {
      "text/plain": [
       "Text(1.192384856571653, -1.3251059310348992, '0')"
      ]
     },
     "execution_count": 72,
     "metadata": {},
     "output_type": "execute_result"
    },
    {
     "data": {
      "text/plain": [
       "Text(0.03879610999465229, -0.08524639295632362, '2')"
      ]
     },
     "execution_count": 72,
     "metadata": {},
     "output_type": "execute_result"
    },
    {
     "data": {
      "text/plain": [
       "Text(0.03879610999465229, -0.08524639295632362, '2')"
      ]
     },
     "execution_count": 72,
     "metadata": {},
     "output_type": "execute_result"
    },
    {
     "data": {
      "text/plain": [
       "Text(-1.4446680277775006, 1.4605066479893325, '3')"
      ]
     },
     "execution_count": 72,
     "metadata": {},
     "output_type": "execute_result"
    },
    {
     "data": {
      "text/plain": [
       "Text(0.03879610999465229, -0.08524639295632362, '2')"
      ]
     },
     "execution_count": 72,
     "metadata": {},
     "output_type": "execute_result"
    },
    {
     "data": {
      "text/plain": [
       "Text(-1.4446680277775006, 1.4605066479893325, '3')"
      ]
     },
     "execution_count": 72,
     "metadata": {},
     "output_type": "execute_result"
    },
    {
     "data": {
      "text/plain": [
       "Text(0.03879610999465229, -0.08524639295632362, '2')"
      ]
     },
     "execution_count": 72,
     "metadata": {},
     "output_type": "execute_result"
    },
    {
     "data": {
      "text/plain": [
       "Text(1.1187615097372665, 1.235654192369486, '4')"
      ]
     },
     "execution_count": 72,
     "metadata": {},
     "output_type": "execute_result"
    },
    {
     "data": {
      "text/plain": [
       "Text(0.03879610999465229, -0.08524639295632362, '2')"
      ]
     },
     "execution_count": 72,
     "metadata": {},
     "output_type": "execute_result"
    },
    {
     "data": {
      "text/plain": [
       "Text(1.192384856571653, -1.3251059310348992, '0')"
      ]
     },
     "execution_count": 72,
     "metadata": {},
     "output_type": "execute_result"
    },
    {
     "data": {
      "text/plain": [
       "Text(0.03879610999465229, -0.08524639295632362, '2')"
      ]
     },
     "execution_count": 72,
     "metadata": {},
     "output_type": "execute_result"
    },
    {
     "data": {
      "text/plain": [
       "Text(-1.0881523772996022, 0.827441018631502, '1')"
      ]
     },
     "execution_count": 72,
     "metadata": {},
     "output_type": "execute_result"
    },
    {
     "data": {
      "text/plain": [
       "Text(1.192384856571653, -1.3251059310348992, '0')"
      ]
     },
     "execution_count": 72,
     "metadata": {},
     "output_type": "execute_result"
    },
    {
     "data": {
      "text/plain": [
       "Text(0.03879610999465229, -0.08524639295632362, '2')"
      ]
     },
     "execution_count": 72,
     "metadata": {},
     "output_type": "execute_result"
    },
    {
     "data": {
      "text/plain": [
       "Text(1.192384856571653, -1.3251059310348992, '0')"
      ]
     },
     "execution_count": 72,
     "metadata": {},
     "output_type": "execute_result"
    },
    {
     "data": {
      "text/plain": [
       "Text(1.1187615097372665, 1.235654192369486, '4')"
      ]
     },
     "execution_count": 72,
     "metadata": {},
     "output_type": "execute_result"
    },
    {
     "data": {
      "text/plain": [
       "Text(-1.0881523772996022, 0.827441018631502, '1')"
      ]
     },
     "execution_count": 72,
     "metadata": {},
     "output_type": "execute_result"
    },
    {
     "data": {
      "text/plain": [
       "Text(0.03879610999465229, -0.08524639295632362, '2')"
      ]
     },
     "execution_count": 72,
     "metadata": {},
     "output_type": "execute_result"
    },
    {
     "data": {
      "text/plain": [
       "Text(1.192384856571653, -1.3251059310348992, '0')"
      ]
     },
     "execution_count": 72,
     "metadata": {},
     "output_type": "execute_result"
    },
    {
     "data": {
      "text/plain": [
       "Text(0.03879610999465229, -0.08524639295632362, '2')"
      ]
     },
     "execution_count": 72,
     "metadata": {},
     "output_type": "execute_result"
    },
    {
     "data": {
      "text/plain": [
       "Text(-1.0881523772996022, 0.827441018631502, '1')"
      ]
     },
     "execution_count": 72,
     "metadata": {},
     "output_type": "execute_result"
    },
    {
     "data": {
      "text/plain": [
       "Text(1.192384856571653, -1.3251059310348992, '0')"
      ]
     },
     "execution_count": 72,
     "metadata": {},
     "output_type": "execute_result"
    },
    {
     "data": {
      "text/plain": [
       "Text(0.03879610999465229, -0.08524639295632362, '2')"
      ]
     },
     "execution_count": 72,
     "metadata": {},
     "output_type": "execute_result"
    },
    {
     "data": {
      "text/plain": [
       "Text(-1.0881523772996022, 0.827441018631502, '1')"
      ]
     },
     "execution_count": 72,
     "metadata": {},
     "output_type": "execute_result"
    },
    {
     "data": {
      "text/plain": [
       "Text(1.192384856571653, -1.3251059310348992, '0')"
      ]
     },
     "execution_count": 72,
     "metadata": {},
     "output_type": "execute_result"
    },
    {
     "data": {
      "text/plain": [
       "Text(-1.0881523772996022, 0.827441018631502, '1')"
      ]
     },
     "execution_count": 72,
     "metadata": {},
     "output_type": "execute_result"
    },
    {
     "data": {
      "text/plain": [
       "Text(1.192384856571653, -1.3251059310348992, '0')"
      ]
     },
     "execution_count": 72,
     "metadata": {},
     "output_type": "execute_result"
    },
    {
     "data": {
      "text/plain": [
       "Text(0.03879610999465229, -0.08524639295632362, '2')"
      ]
     },
     "execution_count": 72,
     "metadata": {},
     "output_type": "execute_result"
    },
    {
     "data": {
      "text/plain": [
       "Text(-1.0881523772996022, 0.827441018631502, '1')"
      ]
     },
     "execution_count": 72,
     "metadata": {},
     "output_type": "execute_result"
    },
    {
     "data": {
      "text/plain": [
       "Text(0.03879610999465229, -0.08524639295632362, '2')"
      ]
     },
     "execution_count": 72,
     "metadata": {},
     "output_type": "execute_result"
    },
    {
     "data": {
      "text/plain": [
       "Text(1.192384856571653, -1.3251059310348992, '0')"
      ]
     },
     "execution_count": 72,
     "metadata": {},
     "output_type": "execute_result"
    },
    {
     "data": {
      "text/plain": [
       "Text(0.03879610999465229, -0.08524639295632362, '2')"
      ]
     },
     "execution_count": 72,
     "metadata": {},
     "output_type": "execute_result"
    },
    {
     "data": {
      "text/plain": [
       "Text(-1.0881523772996022, 0.827441018631502, '1')"
      ]
     },
     "execution_count": 72,
     "metadata": {},
     "output_type": "execute_result"
    },
    {
     "data": {
      "text/plain": [
       "Text(0.03879610999465229, -0.08524639295632362, '2')"
      ]
     },
     "execution_count": 72,
     "metadata": {},
     "output_type": "execute_result"
    },
    {
     "data": {
      "text/plain": [
       "Text(1.192384856571653, -1.3251059310348992, '0')"
      ]
     },
     "execution_count": 72,
     "metadata": {},
     "output_type": "execute_result"
    },
    {
     "data": {
      "text/plain": [
       "Text(0.03879610999465229, -0.08524639295632362, '2')"
      ]
     },
     "execution_count": 72,
     "metadata": {},
     "output_type": "execute_result"
    },
    {
     "data": {
      "text/plain": [
       "Text(0.03879610999465229, -0.08524639295632362, '2')"
      ]
     },
     "execution_count": 72,
     "metadata": {},
     "output_type": "execute_result"
    },
    {
     "data": {
      "text/plain": [
       "Text(1.192384856571653, -1.3251059310348992, '0')"
      ]
     },
     "execution_count": 72,
     "metadata": {},
     "output_type": "execute_result"
    },
    {
     "data": {
      "text/plain": [
       "Text(1.192384856571653, -1.3251059310348992, '0')"
      ]
     },
     "execution_count": 72,
     "metadata": {},
     "output_type": "execute_result"
    },
    {
     "data": {
      "text/plain": [
       "Text(1.192384856571653, -1.3251059310348992, '0')"
      ]
     },
     "execution_count": 72,
     "metadata": {},
     "output_type": "execute_result"
    },
    {
     "data": {
      "text/plain": [
       "Text(0.03879610999465229, -0.08524639295632362, '2')"
      ]
     },
     "execution_count": 72,
     "metadata": {},
     "output_type": "execute_result"
    },
    {
     "data": {
      "text/plain": [
       "Text(0.03879610999465229, -0.08524639295632362, '2')"
      ]
     },
     "execution_count": 72,
     "metadata": {},
     "output_type": "execute_result"
    },
    {
     "data": {
      "text/plain": [
       "Text(-1.0881523772996022, 0.827441018631502, '1')"
      ]
     },
     "execution_count": 72,
     "metadata": {},
     "output_type": "execute_result"
    },
    {
     "data": {
      "text/plain": [
       "Text(-1.4446680277775006, 1.4605066479893325, '3')"
      ]
     },
     "execution_count": 72,
     "metadata": {},
     "output_type": "execute_result"
    },
    {
     "data": {
      "text/plain": [
       "Text(-1.4446680277775006, 1.4605066479893325, '3')"
      ]
     },
     "execution_count": 72,
     "metadata": {},
     "output_type": "execute_result"
    },
    {
     "data": {
      "text/plain": [
       "Text(1.192384856571653, -1.3251059310348992, '0')"
      ]
     },
     "execution_count": 72,
     "metadata": {},
     "output_type": "execute_result"
    },
    {
     "data": {
      "text/plain": [
       "Text(-1.0881523772996022, 0.827441018631502, '1')"
      ]
     },
     "execution_count": 72,
     "metadata": {},
     "output_type": "execute_result"
    },
    {
     "data": {
      "text/plain": [
       "Text(0.03879610999465229, -0.08524639295632362, '2')"
      ]
     },
     "execution_count": 72,
     "metadata": {},
     "output_type": "execute_result"
    },
    {
     "data": {
      "text/plain": [
       "Text(0.03879610999465229, -0.08524639295632362, '2')"
      ]
     },
     "execution_count": 72,
     "metadata": {},
     "output_type": "execute_result"
    },
    {
     "data": {
      "text/plain": [
       "Text(0.03879610999465229, -0.08524639295632362, '2')"
      ]
     },
     "execution_count": 72,
     "metadata": {},
     "output_type": "execute_result"
    },
    {
     "data": {
      "text/plain": [
       "Text(-1.0881523772996022, 0.827441018631502, '1')"
      ]
     },
     "execution_count": 72,
     "metadata": {},
     "output_type": "execute_result"
    },
    {
     "data": {
      "text/plain": [
       "Text(1.192384856571653, -1.3251059310348992, '0')"
      ]
     },
     "execution_count": 72,
     "metadata": {},
     "output_type": "execute_result"
    },
    {
     "data": {
      "text/plain": [
       "Text(0.03879610999465229, -0.08524639295632362, '2')"
      ]
     },
     "execution_count": 72,
     "metadata": {},
     "output_type": "execute_result"
    },
    {
     "data": {
      "text/plain": [
       "Text(0.03879610999465229, -0.08524639295632362, '2')"
      ]
     },
     "execution_count": 72,
     "metadata": {},
     "output_type": "execute_result"
    },
    {
     "data": {
      "text/plain": [
       "Text(0.03879610999465229, -0.08524639295632362, '2')"
      ]
     },
     "execution_count": 72,
     "metadata": {},
     "output_type": "execute_result"
    },
    {
     "data": {
      "text/plain": [
       "Text(1.192384856571653, -1.3251059310348992, '0')"
      ]
     },
     "execution_count": 72,
     "metadata": {},
     "output_type": "execute_result"
    },
    {
     "data": {
      "text/plain": [
       "Text(-1.4446680277775006, 1.4605066479893325, '3')"
      ]
     },
     "execution_count": 72,
     "metadata": {},
     "output_type": "execute_result"
    },
    {
     "data": {
      "text/plain": [
       "Text(-1.0881523772996022, 0.827441018631502, '1')"
      ]
     },
     "execution_count": 72,
     "metadata": {},
     "output_type": "execute_result"
    },
    {
     "data": {
      "text/plain": [
       "Text(1.192384856571653, -1.3251059310348992, '0')"
      ]
     },
     "execution_count": 72,
     "metadata": {},
     "output_type": "execute_result"
    },
    {
     "data": {
      "text/plain": [
       "Text(1.192384856571653, -1.3251059310348992, '0')"
      ]
     },
     "execution_count": 72,
     "metadata": {},
     "output_type": "execute_result"
    },
    {
     "data": {
      "text/plain": [
       "Text(1.192384856571653, -1.3251059310348992, '0')"
      ]
     },
     "execution_count": 72,
     "metadata": {},
     "output_type": "execute_result"
    },
    {
     "data": {
      "text/plain": [
       "Text(-1.0881523772996022, 0.827441018631502, '1')"
      ]
     },
     "execution_count": 72,
     "metadata": {},
     "output_type": "execute_result"
    },
    {
     "data": {
      "text/plain": [
       "Text(0.03879610999465229, -0.08524639295632362, '2')"
      ]
     },
     "execution_count": 72,
     "metadata": {},
     "output_type": "execute_result"
    },
    {
     "data": {
      "text/plain": [
       "Text(-1.0881523772996022, 0.827441018631502, '1')"
      ]
     },
     "execution_count": 72,
     "metadata": {},
     "output_type": "execute_result"
    },
    {
     "data": {
      "text/plain": [
       "Text(0.03879610999465229, -0.08524639295632362, '2')"
      ]
     },
     "execution_count": 72,
     "metadata": {},
     "output_type": "execute_result"
    },
    {
     "data": {
      "text/plain": [
       "Text(-1.0881523772996022, 0.827441018631502, '1')"
      ]
     },
     "execution_count": 72,
     "metadata": {},
     "output_type": "execute_result"
    },
    {
     "data": {
      "text/plain": [
       "Text(0.03879610999465229, -0.08524639295632362, '2')"
      ]
     },
     "execution_count": 72,
     "metadata": {},
     "output_type": "execute_result"
    },
    {
     "data": {
      "text/plain": [
       "Text(1.192384856571653, -1.3251059310348992, '0')"
      ]
     },
     "execution_count": 72,
     "metadata": {},
     "output_type": "execute_result"
    },
    {
     "data": {
      "text/plain": [
       "Text(-1.4446680277775006, 1.4605066479893325, '3')"
      ]
     },
     "execution_count": 72,
     "metadata": {},
     "output_type": "execute_result"
    },
    {
     "data": {
      "text/plain": [
       "Text(0.03879610999465229, -0.08524639295632362, '2')"
      ]
     },
     "execution_count": 72,
     "metadata": {},
     "output_type": "execute_result"
    },
    {
     "data": {
      "text/plain": [
       "Text(1.192384856571653, -1.3251059310348992, '0')"
      ]
     },
     "execution_count": 72,
     "metadata": {},
     "output_type": "execute_result"
    },
    {
     "data": {
      "text/plain": [
       "Text(1.192384856571653, -1.3251059310348992, '0')"
      ]
     },
     "execution_count": 72,
     "metadata": {},
     "output_type": "execute_result"
    },
    {
     "data": {
      "text/plain": [
       "Text(1.192384856571653, -1.3251059310348992, '0')"
      ]
     },
     "execution_count": 72,
     "metadata": {},
     "output_type": "execute_result"
    },
    {
     "data": {
      "text/plain": [
       "Text(1.192384856571653, -1.3251059310348992, '0')"
      ]
     },
     "execution_count": 72,
     "metadata": {},
     "output_type": "execute_result"
    },
    {
     "data": {
      "text/plain": [
       "Text(0.03879610999465229, -0.08524639295632362, '2')"
      ]
     },
     "execution_count": 72,
     "metadata": {},
     "output_type": "execute_result"
    },
    {
     "data": {
      "text/plain": [
       "Text(1.192384856571653, -1.3251059310348992, '0')"
      ]
     },
     "execution_count": 72,
     "metadata": {},
     "output_type": "execute_result"
    },
    {
     "data": {
      "text/plain": [
       "Text(-1.0881523772996022, 0.827441018631502, '1')"
      ]
     },
     "execution_count": 72,
     "metadata": {},
     "output_type": "execute_result"
    },
    {
     "data": {
      "text/plain": [
       "Text(-1.4446680277775006, 1.4605066479893325, '3')"
      ]
     },
     "execution_count": 72,
     "metadata": {},
     "output_type": "execute_result"
    },
    {
     "data": {
      "text/plain": [
       "Text(-1.0881523772996022, 0.827441018631502, '1')"
      ]
     },
     "execution_count": 72,
     "metadata": {},
     "output_type": "execute_result"
    },
    {
     "data": {
      "text/plain": [
       "Text(1.192384856571653, -1.3251059310348992, '0')"
      ]
     },
     "execution_count": 72,
     "metadata": {},
     "output_type": "execute_result"
    },
    {
     "data": {
      "text/plain": [
       "Text(0.03879610999465229, -0.08524639295632362, '2')"
      ]
     },
     "execution_count": 72,
     "metadata": {},
     "output_type": "execute_result"
    },
    {
     "data": {
      "text/plain": [
       "Text(0.03879610999465229, -0.08524639295632362, '2')"
      ]
     },
     "execution_count": 72,
     "metadata": {},
     "output_type": "execute_result"
    },
    {
     "data": {
      "text/plain": [
       "Text(-1.0881523772996022, 0.827441018631502, '1')"
      ]
     },
     "execution_count": 72,
     "metadata": {},
     "output_type": "execute_result"
    },
    {
     "data": {
      "text/plain": [
       "Text(1.192384856571653, -1.3251059310348992, '0')"
      ]
     },
     "execution_count": 72,
     "metadata": {},
     "output_type": "execute_result"
    },
    {
     "data": {
      "text/plain": [
       "Text(-1.0881523772996022, 0.827441018631502, '1')"
      ]
     },
     "execution_count": 72,
     "metadata": {},
     "output_type": "execute_result"
    },
    {
     "data": {
      "text/plain": [
       "Text(-1.4446680277775006, 1.4605066479893325, '3')"
      ]
     },
     "execution_count": 72,
     "metadata": {},
     "output_type": "execute_result"
    },
    {
     "data": {
      "text/plain": [
       "Text(-1.0881523772996022, 0.827441018631502, '1')"
      ]
     },
     "execution_count": 72,
     "metadata": {},
     "output_type": "execute_result"
    },
    {
     "data": {
      "text/plain": [
       "Text(0.03879610999465229, -0.08524639295632362, '2')"
      ]
     },
     "execution_count": 72,
     "metadata": {},
     "output_type": "execute_result"
    },
    {
     "data": {
      "text/plain": [
       "Text(0.03879610999465229, -0.08524639295632362, '2')"
      ]
     },
     "execution_count": 72,
     "metadata": {},
     "output_type": "execute_result"
    },
    {
     "data": {
      "text/plain": [
       "Text(1.192384856571653, -1.3251059310348992, '0')"
      ]
     },
     "execution_count": 72,
     "metadata": {},
     "output_type": "execute_result"
    },
    {
     "data": {
      "text/plain": [
       "Text(0.03879610999465229, -0.08524639295632362, '2')"
      ]
     },
     "execution_count": 72,
     "metadata": {},
     "output_type": "execute_result"
    },
    {
     "data": {
      "text/plain": [
       "Text(0.03879610999465229, -0.08524639295632362, '2')"
      ]
     },
     "execution_count": 72,
     "metadata": {},
     "output_type": "execute_result"
    },
    {
     "data": {
      "text/plain": [
       "Text(1.192384856571653, -1.3251059310348992, '0')"
      ]
     },
     "execution_count": 72,
     "metadata": {},
     "output_type": "execute_result"
    },
    {
     "data": {
      "text/plain": [
       "Text(0.03879610999465229, -0.08524639295632362, '2')"
      ]
     },
     "execution_count": 72,
     "metadata": {},
     "output_type": "execute_result"
    },
    {
     "data": {
      "text/plain": [
       "Text(0.03879610999465229, -0.08524639295632362, '2')"
      ]
     },
     "execution_count": 72,
     "metadata": {},
     "output_type": "execute_result"
    },
    {
     "data": {
      "text/plain": [
       "Text(0.03879610999465229, -0.08524639295632362, '2')"
      ]
     },
     "execution_count": 72,
     "metadata": {},
     "output_type": "execute_result"
    },
    {
     "data": {
      "text/plain": [
       "Text(-1.0881523772996022, 0.827441018631502, '1')"
      ]
     },
     "execution_count": 72,
     "metadata": {},
     "output_type": "execute_result"
    },
    {
     "data": {
      "text/plain": [
       "Text(0.03879610999465229, -0.08524639295632362, '2')"
      ]
     },
     "execution_count": 72,
     "metadata": {},
     "output_type": "execute_result"
    },
    {
     "data": {
      "text/plain": [
       "Text(-1.0881523772996022, 0.827441018631502, '1')"
      ]
     },
     "execution_count": 72,
     "metadata": {},
     "output_type": "execute_result"
    },
    {
     "data": {
      "text/plain": [
       "Text(-1.0881523772996022, 0.827441018631502, '1')"
      ]
     },
     "execution_count": 72,
     "metadata": {},
     "output_type": "execute_result"
    },
    {
     "data": {
      "text/plain": [
       "Text(-1.4446680277775006, 1.4605066479893325, '3')"
      ]
     },
     "execution_count": 72,
     "metadata": {},
     "output_type": "execute_result"
    },
    {
     "data": {
      "text/plain": [
       "Text(0.03879610999465229, -0.08524639295632362, '2')"
      ]
     },
     "execution_count": 72,
     "metadata": {},
     "output_type": "execute_result"
    },
    {
     "data": {
      "text/plain": [
       "Text(0.03879610999465229, -0.08524639295632362, '2')"
      ]
     },
     "execution_count": 72,
     "metadata": {},
     "output_type": "execute_result"
    },
    {
     "data": {
      "text/plain": [
       "Text(0.03879610999465229, -0.08524639295632362, '2')"
      ]
     },
     "execution_count": 72,
     "metadata": {},
     "output_type": "execute_result"
    },
    {
     "data": {
      "text/plain": [
       "Text(1.1187615097372665, 1.235654192369486, '4')"
      ]
     },
     "execution_count": 72,
     "metadata": {},
     "output_type": "execute_result"
    },
    {
     "data": {
      "text/plain": [
       "Text(0.03879610999465229, -0.08524639295632362, '2')"
      ]
     },
     "execution_count": 72,
     "metadata": {},
     "output_type": "execute_result"
    },
    {
     "data": {
      "text/plain": [
       "Text(-1.0881523772996022, 0.827441018631502, '1')"
      ]
     },
     "execution_count": 72,
     "metadata": {},
     "output_type": "execute_result"
    },
    {
     "data": {
      "text/plain": [
       "Text(1.192384856571653, -1.3251059310348992, '0')"
      ]
     },
     "execution_count": 72,
     "metadata": {},
     "output_type": "execute_result"
    },
    {
     "data": {
      "text/plain": [
       "Text(-1.4446680277775006, 1.4605066479893325, '3')"
      ]
     },
     "execution_count": 72,
     "metadata": {},
     "output_type": "execute_result"
    },
    {
     "data": {
      "text/plain": [
       "Text(-1.4446680277775006, 1.4605066479893325, '3')"
      ]
     },
     "execution_count": 72,
     "metadata": {},
     "output_type": "execute_result"
    },
    {
     "data": {
      "text/plain": [
       "Text(-1.4446680277775006, 1.4605066479893325, '3')"
      ]
     },
     "execution_count": 72,
     "metadata": {},
     "output_type": "execute_result"
    },
    {
     "data": {
      "text/plain": [
       "Text(1.192384856571653, -1.3251059310348992, '0')"
      ]
     },
     "execution_count": 72,
     "metadata": {},
     "output_type": "execute_result"
    },
    {
     "data": {
      "text/plain": [
       "Text(0.03879610999465229, -0.08524639295632362, '2')"
      ]
     },
     "execution_count": 72,
     "metadata": {},
     "output_type": "execute_result"
    },
    {
     "data": {
      "text/plain": [
       "Text(-1.0881523772996022, 0.827441018631502, '1')"
      ]
     },
     "execution_count": 72,
     "metadata": {},
     "output_type": "execute_result"
    },
    {
     "data": {
      "text/plain": [
       "Text(1.192384856571653, -1.3251059310348992, '0')"
      ]
     },
     "execution_count": 72,
     "metadata": {},
     "output_type": "execute_result"
    },
    {
     "data": {
      "text/plain": [
       "Text(1.192384856571653, -1.3251059310348992, '0')"
      ]
     },
     "execution_count": 72,
     "metadata": {},
     "output_type": "execute_result"
    },
    {
     "data": {
      "text/plain": [
       "Text(-1.0881523772996022, 0.827441018631502, '1')"
      ]
     },
     "execution_count": 72,
     "metadata": {},
     "output_type": "execute_result"
    },
    {
     "data": {
      "text/plain": [
       "Text(-1.0881523772996022, 0.827441018631502, '1')"
      ]
     },
     "execution_count": 72,
     "metadata": {},
     "output_type": "execute_result"
    },
    {
     "data": {
      "text/plain": [
       "Text(0.03879610999465229, -0.08524639295632362, '2')"
      ]
     },
     "execution_count": 72,
     "metadata": {},
     "output_type": "execute_result"
    },
    {
     "data": {
      "text/plain": [
       "Text(0.03879610999465229, -0.08524639295632362, '2')"
      ]
     },
     "execution_count": 72,
     "metadata": {},
     "output_type": "execute_result"
    },
    {
     "data": {
      "text/plain": [
       "Text(1.1187615097372665, 1.235654192369486, '4')"
      ]
     },
     "execution_count": 72,
     "metadata": {},
     "output_type": "execute_result"
    },
    {
     "data": {
      "text/plain": [
       "Text(0.03879610999465229, -0.08524639295632362, '2')"
      ]
     },
     "execution_count": 72,
     "metadata": {},
     "output_type": "execute_result"
    },
    {
     "data": {
      "text/plain": [
       "Text(0.03879610999465229, -0.08524639295632362, '2')"
      ]
     },
     "execution_count": 72,
     "metadata": {},
     "output_type": "execute_result"
    },
    {
     "data": {
      "text/plain": [
       "Text(1.192384856571653, -1.3251059310348992, '0')"
      ]
     },
     "execution_count": 72,
     "metadata": {},
     "output_type": "execute_result"
    },
    {
     "data": {
      "text/plain": [
       "Text(0.03879610999465229, -0.08524639295632362, '2')"
      ]
     },
     "execution_count": 72,
     "metadata": {},
     "output_type": "execute_result"
    },
    {
     "data": {
      "text/plain": [
       "Text(1.192384856571653, -1.3251059310348992, '0')"
      ]
     },
     "execution_count": 72,
     "metadata": {},
     "output_type": "execute_result"
    },
    {
     "data": {
      "text/plain": [
       "Text(-1.0881523772996022, 0.827441018631502, '1')"
      ]
     },
     "execution_count": 72,
     "metadata": {},
     "output_type": "execute_result"
    },
    {
     "data": {
      "text/plain": [
       "Text(-1.4446680277775006, 1.4605066479893325, '3')"
      ]
     },
     "execution_count": 72,
     "metadata": {},
     "output_type": "execute_result"
    },
    {
     "data": {
      "text/plain": [
       "Text(0.03879610999465229, -0.08524639295632362, '2')"
      ]
     },
     "execution_count": 72,
     "metadata": {},
     "output_type": "execute_result"
    },
    {
     "data": {
      "text/plain": [
       "Text(-1.0881523772996022, 0.827441018631502, '1')"
      ]
     },
     "execution_count": 72,
     "metadata": {},
     "output_type": "execute_result"
    },
    {
     "data": {
      "text/plain": [
       "Text(1.192384856571653, -1.3251059310348992, '0')"
      ]
     },
     "execution_count": 72,
     "metadata": {},
     "output_type": "execute_result"
    },
    {
     "data": {
      "text/plain": [
       "Text(0.03879610999465229, -0.08524639295632362, '2')"
      ]
     },
     "execution_count": 72,
     "metadata": {},
     "output_type": "execute_result"
    },
    {
     "data": {
      "text/plain": [
       "Text(1.192384856571653, -1.3251059310348992, '0')"
      ]
     },
     "execution_count": 72,
     "metadata": {},
     "output_type": "execute_result"
    },
    {
     "data": {
      "text/plain": [
       "Text(1.192384856571653, -1.3251059310348992, '0')"
      ]
     },
     "execution_count": 72,
     "metadata": {},
     "output_type": "execute_result"
    },
    {
     "data": {
      "text/plain": [
       "Text(-1.0881523772996022, 0.827441018631502, '1')"
      ]
     },
     "execution_count": 72,
     "metadata": {},
     "output_type": "execute_result"
    },
    {
     "data": {
      "text/plain": [
       "Text(0.03879610999465229, -0.08524639295632362, '2')"
      ]
     },
     "execution_count": 72,
     "metadata": {},
     "output_type": "execute_result"
    },
    {
     "data": {
      "text/plain": [
       "Text(1.192384856571653, -1.3251059310348992, '0')"
      ]
     },
     "execution_count": 72,
     "metadata": {},
     "output_type": "execute_result"
    },
    {
     "data": {
      "text/plain": [
       "Text(1.192384856571653, -1.3251059310348992, '0')"
      ]
     },
     "execution_count": 72,
     "metadata": {},
     "output_type": "execute_result"
    },
    {
     "data": {
      "text/plain": [
       "Text(0.03879610999465229, -0.08524639295632362, '2')"
      ]
     },
     "execution_count": 72,
     "metadata": {},
     "output_type": "execute_result"
    },
    {
     "data": {
      "text/plain": [
       "Text(0.03879610999465229, -0.08524639295632362, '2')"
      ]
     },
     "execution_count": 72,
     "metadata": {},
     "output_type": "execute_result"
    },
    {
     "data": {
      "text/plain": [
       "Text(1.192384856571653, -1.3251059310348992, '0')"
      ]
     },
     "execution_count": 72,
     "metadata": {},
     "output_type": "execute_result"
    },
    {
     "data": {
      "text/plain": [
       "Text(-1.0881523772996022, 0.827441018631502, '1')"
      ]
     },
     "execution_count": 72,
     "metadata": {},
     "output_type": "execute_result"
    },
    {
     "data": {
      "text/plain": [
       "Text(-1.0881523772996022, 0.827441018631502, '1')"
      ]
     },
     "execution_count": 72,
     "metadata": {},
     "output_type": "execute_result"
    },
    {
     "data": {
      "text/plain": [
       "Text(1.1187615097372665, 1.235654192369486, '4')"
      ]
     },
     "execution_count": 72,
     "metadata": {},
     "output_type": "execute_result"
    },
    {
     "data": {
      "text/plain": [
       "Text(-1.0881523772996022, 0.827441018631502, '1')"
      ]
     },
     "execution_count": 72,
     "metadata": {},
     "output_type": "execute_result"
    },
    {
     "data": {
      "text/plain": [
       "Text(1.192384856571653, -1.3251059310348992, '0')"
      ]
     },
     "execution_count": 72,
     "metadata": {},
     "output_type": "execute_result"
    },
    {
     "data": {
      "text/plain": [
       "Text(1.192384856571653, -1.3251059310348992, '0')"
      ]
     },
     "execution_count": 72,
     "metadata": {},
     "output_type": "execute_result"
    },
    {
     "data": {
      "text/plain": [
       "Text(-1.0881523772996022, 0.827441018631502, '1')"
      ]
     },
     "execution_count": 72,
     "metadata": {},
     "output_type": "execute_result"
    },
    {
     "data": {
      "text/plain": [
       "Text(1.1187615097372665, 1.235654192369486, '4')"
      ]
     },
     "execution_count": 72,
     "metadata": {},
     "output_type": "execute_result"
    },
    {
     "data": {
      "text/plain": [
       "Text(1.192384856571653, -1.3251059310348992, '0')"
      ]
     },
     "execution_count": 72,
     "metadata": {},
     "output_type": "execute_result"
    },
    {
     "data": {
      "text/plain": [
       "Text(1.192384856571653, -1.3251059310348992, '0')"
      ]
     },
     "execution_count": 72,
     "metadata": {},
     "output_type": "execute_result"
    },
    {
     "data": {
      "text/plain": [
       "Text(-1.4446680277775006, 1.4605066479893325, '3')"
      ]
     },
     "execution_count": 72,
     "metadata": {},
     "output_type": "execute_result"
    },
    {
     "data": {
      "text/plain": [
       "Text(0.03879610999465229, -0.08524639295632362, '2')"
      ]
     },
     "execution_count": 72,
     "metadata": {},
     "output_type": "execute_result"
    },
    {
     "data": {
      "text/plain": [
       "Text(-1.0881523772996022, 0.827441018631502, '1')"
      ]
     },
     "execution_count": 72,
     "metadata": {},
     "output_type": "execute_result"
    },
    {
     "data": {
      "text/plain": [
       "Text(-1.0881523772996022, 0.827441018631502, '1')"
      ]
     },
     "execution_count": 72,
     "metadata": {},
     "output_type": "execute_result"
    },
    {
     "data": {
      "text/plain": [
       "Text(0.03879610999465229, -0.08524639295632362, '2')"
      ]
     },
     "execution_count": 72,
     "metadata": {},
     "output_type": "execute_result"
    },
    {
     "data": {
      "text/plain": [
       "Text(-1.0881523772996022, 0.827441018631502, '1')"
      ]
     },
     "execution_count": 72,
     "metadata": {},
     "output_type": "execute_result"
    },
    {
     "data": {
      "text/plain": [
       "Text(1.192384856571653, -1.3251059310348992, '0')"
      ]
     },
     "execution_count": 72,
     "metadata": {},
     "output_type": "execute_result"
    },
    {
     "data": {
      "text/plain": [
       "Text(1.192384856571653, -1.3251059310348992, '0')"
      ]
     },
     "execution_count": 72,
     "metadata": {},
     "output_type": "execute_result"
    },
    {
     "data": {
      "text/plain": [
       "Text(-1.0881523772996022, 0.827441018631502, '1')"
      ]
     },
     "execution_count": 72,
     "metadata": {},
     "output_type": "execute_result"
    },
    {
     "data": {
      "text/plain": [
       "Text(0.03879610999465229, -0.08524639295632362, '2')"
      ]
     },
     "execution_count": 72,
     "metadata": {},
     "output_type": "execute_result"
    },
    {
     "data": {
      "text/plain": [
       "Text(-1.0881523772996022, 0.827441018631502, '1')"
      ]
     },
     "execution_count": 72,
     "metadata": {},
     "output_type": "execute_result"
    },
    {
     "data": {
      "text/plain": [
       "Text(1.192384856571653, -1.3251059310348992, '0')"
      ]
     },
     "execution_count": 72,
     "metadata": {},
     "output_type": "execute_result"
    },
    {
     "data": {
      "text/plain": [
       "Text(0.03879610999465229, -0.08524639295632362, '2')"
      ]
     },
     "execution_count": 72,
     "metadata": {},
     "output_type": "execute_result"
    },
    {
     "data": {
      "text/plain": [
       "Text(-1.0881523772996022, 0.827441018631502, '1')"
      ]
     },
     "execution_count": 72,
     "metadata": {},
     "output_type": "execute_result"
    },
    {
     "data": {
      "text/plain": [
       "Text(-1.4446680277775006, 1.4605066479893325, '3')"
      ]
     },
     "execution_count": 72,
     "metadata": {},
     "output_type": "execute_result"
    },
    {
     "data": {
      "text/plain": [
       "Text(0.03879610999465229, -0.08524639295632362, '2')"
      ]
     },
     "execution_count": 72,
     "metadata": {},
     "output_type": "execute_result"
    },
    {
     "data": {
      "text/plain": [
       "Text(1.192384856571653, -1.3251059310348992, '0')"
      ]
     },
     "execution_count": 72,
     "metadata": {},
     "output_type": "execute_result"
    },
    {
     "data": {
      "text/plain": [
       "Text(-1.0881523772996022, 0.827441018631502, '1')"
      ]
     },
     "execution_count": 72,
     "metadata": {},
     "output_type": "execute_result"
    },
    {
     "data": {
      "text/plain": [
       "Text(-1.0881523772996022, 0.827441018631502, '1')"
      ]
     },
     "execution_count": 72,
     "metadata": {},
     "output_type": "execute_result"
    },
    {
     "data": {
      "text/plain": [
       "Text(1.192384856571653, -1.3251059310348992, '0')"
      ]
     },
     "execution_count": 72,
     "metadata": {},
     "output_type": "execute_result"
    },
    {
     "data": {
      "text/plain": [
       "Text(1.1187615097372665, 1.235654192369486, '4')"
      ]
     },
     "execution_count": 72,
     "metadata": {},
     "output_type": "execute_result"
    },
    {
     "data": {
      "text/plain": [
       "Text(1.1187615097372665, 1.235654192369486, '4')"
      ]
     },
     "execution_count": 72,
     "metadata": {},
     "output_type": "execute_result"
    },
    {
     "data": {
      "text/plain": [
       "Text(0.03879610999465229, -0.08524639295632362, '2')"
      ]
     },
     "execution_count": 72,
     "metadata": {},
     "output_type": "execute_result"
    },
    {
     "data": {
      "text/plain": [
       "Text(1.192384856571653, -1.3251059310348992, '0')"
      ]
     },
     "execution_count": 72,
     "metadata": {},
     "output_type": "execute_result"
    },
    {
     "data": {
      "text/plain": [
       "Text(-1.0881523772996022, 0.827441018631502, '1')"
      ]
     },
     "execution_count": 72,
     "metadata": {},
     "output_type": "execute_result"
    },
    {
     "data": {
      "text/plain": [
       "Text(0.03879610999465229, -0.08524639295632362, '2')"
      ]
     },
     "execution_count": 72,
     "metadata": {},
     "output_type": "execute_result"
    },
    {
     "data": {
      "text/plain": [
       "Text(0.03879610999465229, -0.08524639295632362, '2')"
      ]
     },
     "execution_count": 72,
     "metadata": {},
     "output_type": "execute_result"
    },
    {
     "data": {
      "text/plain": [
       "Text(1.192384856571653, -1.3251059310348992, '0')"
      ]
     },
     "execution_count": 72,
     "metadata": {},
     "output_type": "execute_result"
    },
    {
     "data": {
      "text/plain": [
       "Text(-1.0881523772996022, 0.827441018631502, '1')"
      ]
     },
     "execution_count": 72,
     "metadata": {},
     "output_type": "execute_result"
    },
    {
     "data": {
      "text/plain": [
       "Text(1.192384856571653, -1.3251059310348992, '0')"
      ]
     },
     "execution_count": 72,
     "metadata": {},
     "output_type": "execute_result"
    },
    {
     "data": {
      "text/plain": [
       "Text(-1.0881523772996022, 0.827441018631502, '1')"
      ]
     },
     "execution_count": 72,
     "metadata": {},
     "output_type": "execute_result"
    },
    {
     "data": {
      "text/plain": [
       "Text(1.192384856571653, -1.3251059310348992, '0')"
      ]
     },
     "execution_count": 72,
     "metadata": {},
     "output_type": "execute_result"
    },
    {
     "data": {
      "text/plain": [
       "Text(-1.0881523772996022, 0.827441018631502, '1')"
      ]
     },
     "execution_count": 72,
     "metadata": {},
     "output_type": "execute_result"
    },
    {
     "data": {
      "text/plain": [
       "Text(1.192384856571653, -1.3251059310348992, '0')"
      ]
     },
     "execution_count": 72,
     "metadata": {},
     "output_type": "execute_result"
    },
    {
     "data": {
      "text/plain": [
       "Text(1.192384856571653, -1.3251059310348992, '0')"
      ]
     },
     "execution_count": 72,
     "metadata": {},
     "output_type": "execute_result"
    },
    {
     "data": {
      "text/plain": [
       "Text(-1.0881523772996022, 0.827441018631502, '1')"
      ]
     },
     "execution_count": 72,
     "metadata": {},
     "output_type": "execute_result"
    },
    {
     "data": {
      "text/plain": [
       "Text(1.192384856571653, -1.3251059310348992, '0')"
      ]
     },
     "execution_count": 72,
     "metadata": {},
     "output_type": "execute_result"
    },
    {
     "data": {
      "text/plain": [
       "Text(-1.0881523772996022, 0.827441018631502, '1')"
      ]
     },
     "execution_count": 72,
     "metadata": {},
     "output_type": "execute_result"
    },
    {
     "data": {
      "text/plain": [
       "Text(0.03879610999465229, -0.08524639295632362, '2')"
      ]
     },
     "execution_count": 72,
     "metadata": {},
     "output_type": "execute_result"
    },
    {
     "data": {
      "text/plain": [
       "Text(-1.0881523772996022, 0.827441018631502, '1')"
      ]
     },
     "execution_count": 72,
     "metadata": {},
     "output_type": "execute_result"
    },
    {
     "data": {
      "text/plain": [
       "Text(0.03879610999465229, -0.08524639295632362, '2')"
      ]
     },
     "execution_count": 72,
     "metadata": {},
     "output_type": "execute_result"
    },
    {
     "data": {
      "text/plain": [
       "Text(0.03879610999465229, -0.08524639295632362, '2')"
      ]
     },
     "execution_count": 72,
     "metadata": {},
     "output_type": "execute_result"
    },
    {
     "data": {
      "text/plain": [
       "Text(-1.0881523772996022, 0.827441018631502, '1')"
      ]
     },
     "execution_count": 72,
     "metadata": {},
     "output_type": "execute_result"
    },
    {
     "data": {
      "text/plain": [
       "Text(-1.0881523772996022, 0.827441018631502, '1')"
      ]
     },
     "execution_count": 72,
     "metadata": {},
     "output_type": "execute_result"
    },
    {
     "data": {
      "text/plain": [
       "Text(1.192384856571653, -1.3251059310348992, '0')"
      ]
     },
     "execution_count": 72,
     "metadata": {},
     "output_type": "execute_result"
    },
    {
     "data": {
      "text/plain": [
       "Text(1.192384856571653, -1.3251059310348992, '0')"
      ]
     },
     "execution_count": 72,
     "metadata": {},
     "output_type": "execute_result"
    },
    {
     "data": {
      "text/plain": [
       "Text(-1.4446680277775006, 1.4605066479893325, '3')"
      ]
     },
     "execution_count": 72,
     "metadata": {},
     "output_type": "execute_result"
    },
    {
     "data": {
      "text/plain": [
       "Text(-1.4446680277775006, 1.4605066479893325, '3')"
      ]
     },
     "execution_count": 72,
     "metadata": {},
     "output_type": "execute_result"
    },
    {
     "data": {
      "text/plain": [
       "Text(-1.0881523772996022, 0.827441018631502, '1')"
      ]
     },
     "execution_count": 72,
     "metadata": {},
     "output_type": "execute_result"
    },
    {
     "data": {
      "text/plain": [
       "Text(1.192384856571653, -1.3251059310348992, '0')"
      ]
     },
     "execution_count": 72,
     "metadata": {},
     "output_type": "execute_result"
    },
    {
     "data": {
      "text/plain": [
       "Text(-1.4446680277775006, 1.4605066479893325, '3')"
      ]
     },
     "execution_count": 72,
     "metadata": {},
     "output_type": "execute_result"
    },
    {
     "data": {
      "text/plain": [
       "Text(1.192384856571653, -1.3251059310348992, '0')"
      ]
     },
     "execution_count": 72,
     "metadata": {},
     "output_type": "execute_result"
    },
    {
     "data": {
      "text/plain": [
       "Text(1.1187615097372665, 1.235654192369486, '4')"
      ]
     },
     "execution_count": 72,
     "metadata": {},
     "output_type": "execute_result"
    },
    {
     "data": {
      "text/plain": [
       "Text(0.03879610999465229, -0.08524639295632362, '2')"
      ]
     },
     "execution_count": 72,
     "metadata": {},
     "output_type": "execute_result"
    },
    {
     "data": {
      "text/plain": [
       "Text(0.03879610999465229, -0.08524639295632362, '2')"
      ]
     },
     "execution_count": 72,
     "metadata": {},
     "output_type": "execute_result"
    },
    {
     "data": {
      "text/plain": [
       "Text(0.03879610999465229, -0.08524639295632362, '2')"
      ]
     },
     "execution_count": 72,
     "metadata": {},
     "output_type": "execute_result"
    },
    {
     "data": {
      "text/plain": [
       "Text(1.192384856571653, -1.3251059310348992, '0')"
      ]
     },
     "execution_count": 72,
     "metadata": {},
     "output_type": "execute_result"
    },
    {
     "data": {
      "text/plain": [
       "Text(1.192384856571653, -1.3251059310348992, '0')"
      ]
     },
     "execution_count": 72,
     "metadata": {},
     "output_type": "execute_result"
    },
    {
     "data": {
      "text/plain": [
       "Text(-1.0881523772996022, 0.827441018631502, '1')"
      ]
     },
     "execution_count": 72,
     "metadata": {},
     "output_type": "execute_result"
    },
    {
     "data": {
      "text/plain": [
       "Text(-1.0881523772996022, 0.827441018631502, '1')"
      ]
     },
     "execution_count": 72,
     "metadata": {},
     "output_type": "execute_result"
    },
    {
     "data": {
      "text/plain": [
       "Text(1.1187615097372665, 1.235654192369486, '4')"
      ]
     },
     "execution_count": 72,
     "metadata": {},
     "output_type": "execute_result"
    },
    {
     "data": {
      "text/plain": [
       "Text(-1.0881523772996022, 0.827441018631502, '1')"
      ]
     },
     "execution_count": 72,
     "metadata": {},
     "output_type": "execute_result"
    },
    {
     "data": {
      "text/plain": [
       "Text(1.1187615097372665, 1.235654192369486, '4')"
      ]
     },
     "execution_count": 72,
     "metadata": {},
     "output_type": "execute_result"
    },
    {
     "data": {
      "text/plain": [
       "Text(0.03879610999465229, -0.08524639295632362, '2')"
      ]
     },
     "execution_count": 72,
     "metadata": {},
     "output_type": "execute_result"
    },
    {
     "data": {
      "text/plain": [
       "Text(-1.0881523772996022, 0.827441018631502, '1')"
      ]
     },
     "execution_count": 72,
     "metadata": {},
     "output_type": "execute_result"
    },
    {
     "data": {
      "text/plain": [
       "Text(-1.4446680277775006, 1.4605066479893325, '3')"
      ]
     },
     "execution_count": 72,
     "metadata": {},
     "output_type": "execute_result"
    },
    {
     "data": {
      "text/plain": [
       "Text(1.192384856571653, -1.3251059310348992, '0')"
      ]
     },
     "execution_count": 72,
     "metadata": {},
     "output_type": "execute_result"
    },
    {
     "data": {
      "text/plain": [
       "Text(0.03879610999465229, -0.08524639295632362, '2')"
      ]
     },
     "execution_count": 72,
     "metadata": {},
     "output_type": "execute_result"
    },
    {
     "data": {
      "text/plain": [
       "Text(1.192384856571653, -1.3251059310348992, '0')"
      ]
     },
     "execution_count": 72,
     "metadata": {},
     "output_type": "execute_result"
    },
    {
     "data": {
      "text/plain": [
       "Text(-1.4446680277775006, 1.4605066479893325, '3')"
      ]
     },
     "execution_count": 72,
     "metadata": {},
     "output_type": "execute_result"
    },
    {
     "data": {
      "text/plain": [
       "Text(0.03879610999465229, -0.08524639295632362, '2')"
      ]
     },
     "execution_count": 72,
     "metadata": {},
     "output_type": "execute_result"
    },
    {
     "data": {
      "text/plain": [
       "Text(1.192384856571653, -1.3251059310348992, '0')"
      ]
     },
     "execution_count": 72,
     "metadata": {},
     "output_type": "execute_result"
    },
    {
     "data": {
      "text/plain": [
       "Text(1.192384856571653, -1.3251059310348992, '0')"
      ]
     },
     "execution_count": 72,
     "metadata": {},
     "output_type": "execute_result"
    },
    {
     "data": {
      "text/plain": [
       "Text(0.03879610999465229, -0.08524639295632362, '2')"
      ]
     },
     "execution_count": 72,
     "metadata": {},
     "output_type": "execute_result"
    },
    {
     "data": {
      "text/plain": [
       "Text(1.192384856571653, -1.3251059310348992, '0')"
      ]
     },
     "execution_count": 72,
     "metadata": {},
     "output_type": "execute_result"
    },
    {
     "data": {
      "text/plain": [
       "Text(-1.0881523772996022, 0.827441018631502, '1')"
      ]
     },
     "execution_count": 72,
     "metadata": {},
     "output_type": "execute_result"
    },
    {
     "data": {
      "text/plain": [
       "Text(0.03879610999465229, -0.08524639295632362, '2')"
      ]
     },
     "execution_count": 72,
     "metadata": {},
     "output_type": "execute_result"
    },
    {
     "data": {
      "text/plain": [
       "Text(1.1187615097372665, 1.235654192369486, '4')"
      ]
     },
     "execution_count": 72,
     "metadata": {},
     "output_type": "execute_result"
    },
    {
     "data": {
      "text/plain": [
       "Text(-1.0881523772996022, 0.827441018631502, '1')"
      ]
     },
     "execution_count": 72,
     "metadata": {},
     "output_type": "execute_result"
    },
    {
     "data": {
      "text/plain": [
       "Text(-1.0881523772996022, 0.827441018631502, '1')"
      ]
     },
     "execution_count": 72,
     "metadata": {},
     "output_type": "execute_result"
    },
    {
     "data": {
      "text/plain": [
       "Text(0.03879610999465229, -0.08524639295632362, '2')"
      ]
     },
     "execution_count": 72,
     "metadata": {},
     "output_type": "execute_result"
    },
    {
     "data": {
      "text/plain": [
       "Text(1.192384856571653, -1.3251059310348992, '0')"
      ]
     },
     "execution_count": 72,
     "metadata": {},
     "output_type": "execute_result"
    },
    {
     "data": {
      "text/plain": [
       "Text(1.192384856571653, -1.3251059310348992, '0')"
      ]
     },
     "execution_count": 72,
     "metadata": {},
     "output_type": "execute_result"
    },
    {
     "data": {
      "text/plain": [
       "Text(1.192384856571653, -1.3251059310348992, '0')"
      ]
     },
     "execution_count": 72,
     "metadata": {},
     "output_type": "execute_result"
    },
    {
     "data": {
      "text/plain": [
       "Text(1.192384856571653, -1.3251059310348992, '0')"
      ]
     },
     "execution_count": 72,
     "metadata": {},
     "output_type": "execute_result"
    },
    {
     "data": {
      "text/plain": [
       "Text(1.192384856571653, -1.3251059310348992, '0')"
      ]
     },
     "execution_count": 72,
     "metadata": {},
     "output_type": "execute_result"
    },
    {
     "data": {
      "text/plain": [
       "Text(-1.0881523772996022, 0.827441018631502, '1')"
      ]
     },
     "execution_count": 72,
     "metadata": {},
     "output_type": "execute_result"
    },
    {
     "data": {
      "text/plain": [
       "Text(-1.0881523772996022, 0.827441018631502, '1')"
      ]
     },
     "execution_count": 72,
     "metadata": {},
     "output_type": "execute_result"
    },
    {
     "data": {
      "text/plain": [
       "Text(1.192384856571653, -1.3251059310348992, '0')"
      ]
     },
     "execution_count": 72,
     "metadata": {},
     "output_type": "execute_result"
    },
    {
     "data": {
      "text/plain": [
       "Text(0.03879610999465229, -0.08524639295632362, '2')"
      ]
     },
     "execution_count": 72,
     "metadata": {},
     "output_type": "execute_result"
    },
    {
     "data": {
      "text/plain": [
       "Text(-1.0881523772996022, 0.827441018631502, '1')"
      ]
     },
     "execution_count": 72,
     "metadata": {},
     "output_type": "execute_result"
    },
    {
     "data": {
      "text/plain": [
       "Text(0.03879610999465229, -0.08524639295632362, '2')"
      ]
     },
     "execution_count": 72,
     "metadata": {},
     "output_type": "execute_result"
    },
    {
     "data": {
      "text/plain": [
       "Text(1.1187615097372665, 1.235654192369486, '4')"
      ]
     },
     "execution_count": 72,
     "metadata": {},
     "output_type": "execute_result"
    },
    {
     "data": {
      "text/plain": [
       "Text(1.192384856571653, -1.3251059310348992, '0')"
      ]
     },
     "execution_count": 72,
     "metadata": {},
     "output_type": "execute_result"
    },
    {
     "data": {
      "text/plain": [
       "Text(1.192384856571653, -1.3251059310348992, '0')"
      ]
     },
     "execution_count": 72,
     "metadata": {},
     "output_type": "execute_result"
    },
    {
     "data": {
      "text/plain": [
       "Text(0.03879610999465229, -0.08524639295632362, '2')"
      ]
     },
     "execution_count": 72,
     "metadata": {},
     "output_type": "execute_result"
    },
    {
     "data": {
      "text/plain": [
       "Text(1.192384856571653, -1.3251059310348992, '0')"
      ]
     },
     "execution_count": 72,
     "metadata": {},
     "output_type": "execute_result"
    },
    {
     "data": {
      "text/plain": [
       "Text(1.192384856571653, -1.3251059310348992, '0')"
      ]
     },
     "execution_count": 72,
     "metadata": {},
     "output_type": "execute_result"
    },
    {
     "data": {
      "text/plain": [
       "Text(0.03879610999465229, -0.08524639295632362, '2')"
      ]
     },
     "execution_count": 72,
     "metadata": {},
     "output_type": "execute_result"
    },
    {
     "data": {
      "text/plain": [
       "Text(1.192384856571653, -1.3251059310348992, '0')"
      ]
     },
     "execution_count": 72,
     "metadata": {},
     "output_type": "execute_result"
    },
    {
     "data": {
      "text/plain": [
       "Text(1.192384856571653, -1.3251059310348992, '0')"
      ]
     },
     "execution_count": 72,
     "metadata": {},
     "output_type": "execute_result"
    },
    {
     "data": {
      "text/plain": [
       "Text(-1.0881523772996022, 0.827441018631502, '1')"
      ]
     },
     "execution_count": 72,
     "metadata": {},
     "output_type": "execute_result"
    },
    {
     "data": {
      "text/plain": [
       "Text(1.192384856571653, -1.3251059310348992, '0')"
      ]
     },
     "execution_count": 72,
     "metadata": {},
     "output_type": "execute_result"
    },
    {
     "data": {
      "text/plain": [
       "Text(0.03879610999465229, -0.08524639295632362, '2')"
      ]
     },
     "execution_count": 72,
     "metadata": {},
     "output_type": "execute_result"
    },
    {
     "data": {
      "text/plain": [
       "Text(-1.0881523772996022, 0.827441018631502, '1')"
      ]
     },
     "execution_count": 72,
     "metadata": {},
     "output_type": "execute_result"
    },
    {
     "data": {
      "text/plain": [
       "Text(-1.4446680277775006, 1.4605066479893325, '3')"
      ]
     },
     "execution_count": 72,
     "metadata": {},
     "output_type": "execute_result"
    },
    {
     "data": {
      "text/plain": [
       "Text(-1.0881523772996022, 0.827441018631502, '1')"
      ]
     },
     "execution_count": 72,
     "metadata": {},
     "output_type": "execute_result"
    },
    {
     "data": {
      "text/plain": [
       "Text(0.03879610999465229, -0.08524639295632362, '2')"
      ]
     },
     "execution_count": 72,
     "metadata": {},
     "output_type": "execute_result"
    },
    {
     "data": {
      "text/plain": [
       "Text(1.192384856571653, -1.3251059310348992, '0')"
      ]
     },
     "execution_count": 72,
     "metadata": {},
     "output_type": "execute_result"
    },
    {
     "data": {
      "text/plain": [
       "Text(-1.0881523772996022, 0.827441018631502, '1')"
      ]
     },
     "execution_count": 72,
     "metadata": {},
     "output_type": "execute_result"
    },
    {
     "data": {
      "text/plain": [
       "Text(0.03879610999465229, -0.08524639295632362, '2')"
      ]
     },
     "execution_count": 72,
     "metadata": {},
     "output_type": "execute_result"
    },
    {
     "data": {
      "text/plain": [
       "Text(0.03879610999465229, -0.08524639295632362, '2')"
      ]
     },
     "execution_count": 72,
     "metadata": {},
     "output_type": "execute_result"
    },
    {
     "data": {
      "text/plain": [
       "Text(0.03879610999465229, -0.08524639295632362, '2')"
      ]
     },
     "execution_count": 72,
     "metadata": {},
     "output_type": "execute_result"
    },
    {
     "data": {
      "text/plain": [
       "Text(1.192384856571653, -1.3251059310348992, '0')"
      ]
     },
     "execution_count": 72,
     "metadata": {},
     "output_type": "execute_result"
    },
    {
     "data": {
      "text/plain": [
       "Text(-1.0881523772996022, 0.827441018631502, '1')"
      ]
     },
     "execution_count": 72,
     "metadata": {},
     "output_type": "execute_result"
    },
    {
     "data": {
      "text/plain": [
       "Text(-1.4446680277775006, 1.4605066479893325, '3')"
      ]
     },
     "execution_count": 72,
     "metadata": {},
     "output_type": "execute_result"
    },
    {
     "data": {
      "text/plain": [
       "Text(-1.0881523772996022, 0.827441018631502, '1')"
      ]
     },
     "execution_count": 72,
     "metadata": {},
     "output_type": "execute_result"
    },
    {
     "data": {
      "text/plain": [
       "Text(0.03879610999465229, -0.08524639295632362, '2')"
      ]
     },
     "execution_count": 72,
     "metadata": {},
     "output_type": "execute_result"
    },
    {
     "data": {
      "text/plain": [
       "Text(-1.0881523772996022, 0.827441018631502, '1')"
      ]
     },
     "execution_count": 72,
     "metadata": {},
     "output_type": "execute_result"
    },
    {
     "data": {
      "text/plain": [
       "Text(0.03879610999465229, -0.08524639295632362, '2')"
      ]
     },
     "execution_count": 72,
     "metadata": {},
     "output_type": "execute_result"
    },
    {
     "data": {
      "text/plain": [
       "Text(0.03879610999465229, -0.08524639295632362, '2')"
      ]
     },
     "execution_count": 72,
     "metadata": {},
     "output_type": "execute_result"
    },
    {
     "data": {
      "text/plain": [
       "Text(-1.4446680277775006, 1.4605066479893325, '3')"
      ]
     },
     "execution_count": 72,
     "metadata": {},
     "output_type": "execute_result"
    },
    {
     "data": {
      "text/plain": [
       "Text(-1.0881523772996022, 0.827441018631502, '1')"
      ]
     },
     "execution_count": 72,
     "metadata": {},
     "output_type": "execute_result"
    },
    {
     "data": {
      "text/plain": [
       "Text(1.1187615097372665, 1.235654192369486, '4')"
      ]
     },
     "execution_count": 72,
     "metadata": {},
     "output_type": "execute_result"
    },
    {
     "data": {
      "text/plain": [
       "Text(-1.4446680277775006, 1.4605066479893325, '3')"
      ]
     },
     "execution_count": 72,
     "metadata": {},
     "output_type": "execute_result"
    },
    {
     "data": {
      "text/plain": [
       "Text(-1.0881523772996022, 0.827441018631502, '1')"
      ]
     },
     "execution_count": 72,
     "metadata": {},
     "output_type": "execute_result"
    },
    {
     "data": {
      "text/plain": [
       "Text(-1.0881523772996022, 0.827441018631502, '1')"
      ]
     },
     "execution_count": 72,
     "metadata": {},
     "output_type": "execute_result"
    },
    {
     "data": {
      "text/plain": [
       "Text(1.192384856571653, -1.3251059310348992, '0')"
      ]
     },
     "execution_count": 72,
     "metadata": {},
     "output_type": "execute_result"
    },
    {
     "data": {
      "text/plain": [
       "Text(0.03879610999465229, -0.08524639295632362, '2')"
      ]
     },
     "execution_count": 72,
     "metadata": {},
     "output_type": "execute_result"
    },
    {
     "data": {
      "text/plain": [
       "Text(1.192384856571653, -1.3251059310348992, '0')"
      ]
     },
     "execution_count": 72,
     "metadata": {},
     "output_type": "execute_result"
    },
    {
     "data": {
      "text/plain": [
       "Text(-1.0881523772996022, 0.827441018631502, '1')"
      ]
     },
     "execution_count": 72,
     "metadata": {},
     "output_type": "execute_result"
    },
    {
     "data": {
      "text/plain": [
       "Text(1.192384856571653, -1.3251059310348992, '0')"
      ]
     },
     "execution_count": 72,
     "metadata": {},
     "output_type": "execute_result"
    },
    {
     "data": {
      "text/plain": [
       "Text(-1.0881523772996022, 0.827441018631502, '1')"
      ]
     },
     "execution_count": 72,
     "metadata": {},
     "output_type": "execute_result"
    },
    {
     "data": {
      "text/plain": [
       "Text(0.03879610999465229, -0.08524639295632362, '2')"
      ]
     },
     "execution_count": 72,
     "metadata": {},
     "output_type": "execute_result"
    },
    {
     "data": {
      "text/plain": [
       "Text(0.03879610999465229, -0.08524639295632362, '2')"
      ]
     },
     "execution_count": 72,
     "metadata": {},
     "output_type": "execute_result"
    },
    {
     "data": {
      "text/plain": [
       "Text(1.192384856571653, -1.3251059310348992, '0')"
      ]
     },
     "execution_count": 72,
     "metadata": {},
     "output_type": "execute_result"
    },
    {
     "data": {
      "text/plain": [
       "Text(1.1187615097372665, 1.235654192369486, '4')"
      ]
     },
     "execution_count": 72,
     "metadata": {},
     "output_type": "execute_result"
    },
    {
     "data": {
      "text/plain": [
       "Text(-1.0881523772996022, 0.827441018631502, '1')"
      ]
     },
     "execution_count": 72,
     "metadata": {},
     "output_type": "execute_result"
    },
    {
     "data": {
      "text/plain": [
       "Text(1.192384856571653, -1.3251059310348992, '0')"
      ]
     },
     "execution_count": 72,
     "metadata": {},
     "output_type": "execute_result"
    },
    {
     "data": {
      "text/plain": [
       "Text(-1.0881523772996022, 0.827441018631502, '1')"
      ]
     },
     "execution_count": 72,
     "metadata": {},
     "output_type": "execute_result"
    },
    {
     "data": {
      "text/plain": [
       "Text(0.03879610999465229, -0.08524639295632362, '2')"
      ]
     },
     "execution_count": 72,
     "metadata": {},
     "output_type": "execute_result"
    },
    {
     "data": {
      "text/plain": [
       "Text(0.03879610999465229, -0.08524639295632362, '2')"
      ]
     },
     "execution_count": 72,
     "metadata": {},
     "output_type": "execute_result"
    },
    {
     "data": {
      "text/plain": [
       "Text(-1.0881523772996022, 0.827441018631502, '1')"
      ]
     },
     "execution_count": 72,
     "metadata": {},
     "output_type": "execute_result"
    },
    {
     "data": {
      "text/plain": [
       "Text(0.03879610999465229, -0.08524639295632362, '2')"
      ]
     },
     "execution_count": 72,
     "metadata": {},
     "output_type": "execute_result"
    },
    {
     "data": {
      "text/plain": [
       "Text(1.192384856571653, -1.3251059310348992, '0')"
      ]
     },
     "execution_count": 72,
     "metadata": {},
     "output_type": "execute_result"
    },
    {
     "data": {
      "text/plain": [
       "Text(0.03879610999465229, -0.08524639295632362, '2')"
      ]
     },
     "execution_count": 72,
     "metadata": {},
     "output_type": "execute_result"
    },
    {
     "data": {
      "text/plain": [
       "Text(-1.0881523772996022, 0.827441018631502, '1')"
      ]
     },
     "execution_count": 72,
     "metadata": {},
     "output_type": "execute_result"
    },
    {
     "data": {
      "text/plain": [
       "Text(0.03879610999465229, -0.08524639295632362, '2')"
      ]
     },
     "execution_count": 72,
     "metadata": {},
     "output_type": "execute_result"
    },
    {
     "data": {
      "text/plain": [
       "Text(1.192384856571653, -1.3251059310348992, '0')"
      ]
     },
     "execution_count": 72,
     "metadata": {},
     "output_type": "execute_result"
    },
    {
     "data": {
      "text/plain": [
       "Text(0.03879610999465229, -0.08524639295632362, '2')"
      ]
     },
     "execution_count": 72,
     "metadata": {},
     "output_type": "execute_result"
    },
    {
     "data": {
      "text/plain": [
       "Text(1.192384856571653, -1.3251059310348992, '0')"
      ]
     },
     "execution_count": 72,
     "metadata": {},
     "output_type": "execute_result"
    },
    {
     "data": {
      "text/plain": [
       "Text(-1.4446680277775006, 1.4605066479893325, '3')"
      ]
     },
     "execution_count": 72,
     "metadata": {},
     "output_type": "execute_result"
    },
    {
     "data": {
      "text/plain": [
       "Text(-1.0881523772996022, 0.827441018631502, '1')"
      ]
     },
     "execution_count": 72,
     "metadata": {},
     "output_type": "execute_result"
    },
    {
     "data": {
      "text/plain": [
       "Text(-1.0881523772996022, 0.827441018631502, '1')"
      ]
     },
     "execution_count": 72,
     "metadata": {},
     "output_type": "execute_result"
    },
    {
     "data": {
      "text/plain": [
       "Text(-1.4446680277775006, 1.4605066479893325, '3')"
      ]
     },
     "execution_count": 72,
     "metadata": {},
     "output_type": "execute_result"
    },
    {
     "data": {
      "text/plain": [
       "Text(-1.0881523772996022, 0.827441018631502, '1')"
      ]
     },
     "execution_count": 72,
     "metadata": {},
     "output_type": "execute_result"
    },
    {
     "data": {
      "text/plain": [
       "Text(-1.0881523772996022, 0.827441018631502, '1')"
      ]
     },
     "execution_count": 72,
     "metadata": {},
     "output_type": "execute_result"
    },
    {
     "data": {
      "text/plain": [
       "Text(1.192384856571653, -1.3251059310348992, '0')"
      ]
     },
     "execution_count": 72,
     "metadata": {},
     "output_type": "execute_result"
    },
    {
     "data": {
      "text/plain": [
       "Text(1.192384856571653, -1.3251059310348992, '0')"
      ]
     },
     "execution_count": 72,
     "metadata": {},
     "output_type": "execute_result"
    },
    {
     "data": {
      "text/plain": [
       "Text(0.03879610999465229, -0.08524639295632362, '2')"
      ]
     },
     "execution_count": 72,
     "metadata": {},
     "output_type": "execute_result"
    },
    {
     "data": {
      "text/plain": [
       "Text(-1.4446680277775006, 1.4605066479893325, '3')"
      ]
     },
     "execution_count": 72,
     "metadata": {},
     "output_type": "execute_result"
    },
    {
     "data": {
      "text/plain": [
       "Text(0.03879610999465229, -0.08524639295632362, '2')"
      ]
     },
     "execution_count": 72,
     "metadata": {},
     "output_type": "execute_result"
    },
    {
     "data": {
      "text/plain": [
       "Text(-1.0881523772996022, 0.827441018631502, '1')"
      ]
     },
     "execution_count": 72,
     "metadata": {},
     "output_type": "execute_result"
    },
    {
     "data": {
      "text/plain": [
       "Text(-1.0881523772996022, 0.827441018631502, '1')"
      ]
     },
     "execution_count": 72,
     "metadata": {},
     "output_type": "execute_result"
    },
    {
     "data": {
      "text/plain": [
       "Text(1.1187615097372665, 1.235654192369486, '4')"
      ]
     },
     "execution_count": 72,
     "metadata": {},
     "output_type": "execute_result"
    },
    {
     "data": {
      "text/plain": [
       "Text(-1.4446680277775006, 1.4605066479893325, '3')"
      ]
     },
     "execution_count": 72,
     "metadata": {},
     "output_type": "execute_result"
    },
    {
     "data": {
      "text/plain": [
       "Text(-1.0881523772996022, 0.827441018631502, '1')"
      ]
     },
     "execution_count": 72,
     "metadata": {},
     "output_type": "execute_result"
    },
    {
     "data": {
      "text/plain": [
       "Text(-1.4446680277775006, 1.4605066479893325, '3')"
      ]
     },
     "execution_count": 72,
     "metadata": {},
     "output_type": "execute_result"
    },
    {
     "data": {
      "text/plain": [
       "Text(1.192384856571653, -1.3251059310348992, '0')"
      ]
     },
     "execution_count": 72,
     "metadata": {},
     "output_type": "execute_result"
    },
    {
     "data": {
      "text/plain": [
       "Text(-1.0881523772996022, 0.827441018631502, '1')"
      ]
     },
     "execution_count": 72,
     "metadata": {},
     "output_type": "execute_result"
    },
    {
     "data": {
      "text/plain": [
       "Text(-1.0881523772996022, 0.827441018631502, '1')"
      ]
     },
     "execution_count": 72,
     "metadata": {},
     "output_type": "execute_result"
    },
    {
     "data": {
      "text/plain": [
       "Text(0.03879610999465229, -0.08524639295632362, '2')"
      ]
     },
     "execution_count": 72,
     "metadata": {},
     "output_type": "execute_result"
    },
    {
     "data": {
      "text/plain": [
       "Text(-1.0881523772996022, 0.827441018631502, '1')"
      ]
     },
     "execution_count": 72,
     "metadata": {},
     "output_type": "execute_result"
    },
    {
     "data": {
      "text/plain": [
       "Text(1.192384856571653, -1.3251059310348992, '0')"
      ]
     },
     "execution_count": 72,
     "metadata": {},
     "output_type": "execute_result"
    },
    {
     "data": {
      "text/plain": [
       "Text(1.192384856571653, -1.3251059310348992, '0')"
      ]
     },
     "execution_count": 72,
     "metadata": {},
     "output_type": "execute_result"
    },
    {
     "data": {
      "text/plain": [
       "Text(-1.4446680277775006, 1.4605066479893325, '3')"
      ]
     },
     "execution_count": 72,
     "metadata": {},
     "output_type": "execute_result"
    },
    {
     "data": {
      "text/plain": [
       "Text(0.03879610999465229, -0.08524639295632362, '2')"
      ]
     },
     "execution_count": 72,
     "metadata": {},
     "output_type": "execute_result"
    },
    {
     "data": {
      "text/plain": [
       "Text(-1.0881523772996022, 0.827441018631502, '1')"
      ]
     },
     "execution_count": 72,
     "metadata": {},
     "output_type": "execute_result"
    },
    {
     "data": {
      "text/plain": [
       "Text(0.03879610999465229, -0.08524639295632362, '2')"
      ]
     },
     "execution_count": 72,
     "metadata": {},
     "output_type": "execute_result"
    },
    {
     "data": {
      "text/plain": [
       "Text(0.03879610999465229, -0.08524639295632362, '2')"
      ]
     },
     "execution_count": 72,
     "metadata": {},
     "output_type": "execute_result"
    },
    {
     "data": {
      "text/plain": [
       "Text(-1.0881523772996022, 0.827441018631502, '1')"
      ]
     },
     "execution_count": 72,
     "metadata": {},
     "output_type": "execute_result"
    },
    {
     "data": {
      "text/plain": [
       "Text(0.03879610999465229, -0.08524639295632362, '2')"
      ]
     },
     "execution_count": 72,
     "metadata": {},
     "output_type": "execute_result"
    },
    {
     "data": {
      "text/plain": [
       "Text(0.03879610999465229, -0.08524639295632362, '2')"
      ]
     },
     "execution_count": 72,
     "metadata": {},
     "output_type": "execute_result"
    },
    {
     "data": {
      "text/plain": [
       "Text(0.03879610999465229, -0.08524639295632362, '2')"
      ]
     },
     "execution_count": 72,
     "metadata": {},
     "output_type": "execute_result"
    },
    {
     "data": {
      "text/plain": [
       "Text(1.192384856571653, -1.3251059310348992, '0')"
      ]
     },
     "execution_count": 72,
     "metadata": {},
     "output_type": "execute_result"
    },
    {
     "data": {
      "text/plain": [
       "Text(-1.0881523772996022, 0.827441018631502, '1')"
      ]
     },
     "execution_count": 72,
     "metadata": {},
     "output_type": "execute_result"
    },
    {
     "data": {
      "text/plain": [
       "Text(-1.0881523772996022, 0.827441018631502, '1')"
      ]
     },
     "execution_count": 72,
     "metadata": {},
     "output_type": "execute_result"
    },
    {
     "data": {
      "text/plain": [
       "Text(0.03879610999465229, -0.08524639295632362, '2')"
      ]
     },
     "execution_count": 72,
     "metadata": {},
     "output_type": "execute_result"
    },
    {
     "data": {
      "text/plain": [
       "Text(0.03879610999465229, -0.08524639295632362, '2')"
      ]
     },
     "execution_count": 72,
     "metadata": {},
     "output_type": "execute_result"
    },
    {
     "data": {
      "text/plain": [
       "Text(0.03879610999465229, -0.08524639295632362, '2')"
      ]
     },
     "execution_count": 72,
     "metadata": {},
     "output_type": "execute_result"
    },
    {
     "data": {
      "text/plain": [
       "Text(1.192384856571653, -1.3251059310348992, '0')"
      ]
     },
     "execution_count": 72,
     "metadata": {},
     "output_type": "execute_result"
    },
    {
     "data": {
      "text/plain": [
       "Text(-1.0881523772996022, 0.827441018631502, '1')"
      ]
     },
     "execution_count": 72,
     "metadata": {},
     "output_type": "execute_result"
    },
    {
     "data": {
      "text/plain": [
       "Text(1.192384856571653, -1.3251059310348992, '0')"
      ]
     },
     "execution_count": 72,
     "metadata": {},
     "output_type": "execute_result"
    },
    {
     "data": {
      "text/plain": [
       "Text(1.192384856571653, -1.3251059310348992, '0')"
      ]
     },
     "execution_count": 72,
     "metadata": {},
     "output_type": "execute_result"
    },
    {
     "data": {
      "text/plain": [
       "Text(1.192384856571653, -1.3251059310348992, '0')"
      ]
     },
     "execution_count": 72,
     "metadata": {},
     "output_type": "execute_result"
    },
    {
     "data": {
      "text/plain": [
       "Text(1.192384856571653, -1.3251059310348992, '0')"
      ]
     },
     "execution_count": 72,
     "metadata": {},
     "output_type": "execute_result"
    },
    {
     "data": {
      "text/plain": [
       "Text(-1.4446680277775006, 1.4605066479893325, '3')"
      ]
     },
     "execution_count": 72,
     "metadata": {},
     "output_type": "execute_result"
    },
    {
     "data": {
      "text/plain": [
       "Text(1.192384856571653, -1.3251059310348992, '0')"
      ]
     },
     "execution_count": 72,
     "metadata": {},
     "output_type": "execute_result"
    },
    {
     "data": {
      "text/plain": [
       "Text(1.192384856571653, -1.3251059310348992, '0')"
      ]
     },
     "execution_count": 72,
     "metadata": {},
     "output_type": "execute_result"
    },
    {
     "data": {
      "text/plain": [
       "Text(1.192384856571653, -1.3251059310348992, '0')"
      ]
     },
     "execution_count": 72,
     "metadata": {},
     "output_type": "execute_result"
    },
    {
     "data": {
      "text/plain": [
       "Text(0.03879610999465229, -0.08524639295632362, '2')"
      ]
     },
     "execution_count": 72,
     "metadata": {},
     "output_type": "execute_result"
    },
    {
     "data": {
      "text/plain": [
       "Text(0.03879610999465229, -0.08524639295632362, '2')"
      ]
     },
     "execution_count": 72,
     "metadata": {},
     "output_type": "execute_result"
    },
    {
     "data": {
      "text/plain": [
       "Text(1.192384856571653, -1.3251059310348992, '0')"
      ]
     },
     "execution_count": 72,
     "metadata": {},
     "output_type": "execute_result"
    },
    {
     "data": {
      "text/plain": [
       "Text(1.192384856571653, -1.3251059310348992, '0')"
      ]
     },
     "execution_count": 72,
     "metadata": {},
     "output_type": "execute_result"
    },
    {
     "data": {
      "text/plain": [
       "Text(0.03879610999465229, -0.08524639295632362, '2')"
      ]
     },
     "execution_count": 72,
     "metadata": {},
     "output_type": "execute_result"
    },
    {
     "data": {
      "text/plain": [
       "Text(-1.4446680277775006, 1.4605066479893325, '3')"
      ]
     },
     "execution_count": 72,
     "metadata": {},
     "output_type": "execute_result"
    },
    {
     "data": {
      "text/plain": [
       "Text(1.192384856571653, -1.3251059310348992, '0')"
      ]
     },
     "execution_count": 72,
     "metadata": {},
     "output_type": "execute_result"
    },
    {
     "data": {
      "text/plain": [
       "Text(-1.0881523772996022, 0.827441018631502, '1')"
      ]
     },
     "execution_count": 72,
     "metadata": {},
     "output_type": "execute_result"
    },
    {
     "data": {
      "text/plain": [
       "Text(-1.4446680277775006, 1.4605066479893325, '3')"
      ]
     },
     "execution_count": 72,
     "metadata": {},
     "output_type": "execute_result"
    },
    {
     "data": {
      "text/plain": [
       "Text(-1.0881523772996022, 0.827441018631502, '1')"
      ]
     },
     "execution_count": 72,
     "metadata": {},
     "output_type": "execute_result"
    },
    {
     "data": {
      "text/plain": [
       "Text(1.192384856571653, -1.3251059310348992, '0')"
      ]
     },
     "execution_count": 72,
     "metadata": {},
     "output_type": "execute_result"
    },
    {
     "data": {
      "text/plain": [
       "Text(1.192384856571653, -1.3251059310348992, '0')"
      ]
     },
     "execution_count": 72,
     "metadata": {},
     "output_type": "execute_result"
    },
    {
     "data": {
      "text/plain": [
       "Text(1.192384856571653, -1.3251059310348992, '0')"
      ]
     },
     "execution_count": 72,
     "metadata": {},
     "output_type": "execute_result"
    },
    {
     "data": {
      "text/plain": [
       "Text(1.192384856571653, -1.3251059310348992, '0')"
      ]
     },
     "execution_count": 72,
     "metadata": {},
     "output_type": "execute_result"
    },
    {
     "data": {
      "image/png": "[encoded data removed]",
      "text/plain": [
       "<Figure size 432x288 with 1 Axes>"
      ]
     },
     "metadata": {
      "needs_background": "light"
     },
     "output_type": "display_data"
    }
   ],
   "source": [
    "# Plot Clusters\n",
    "sc = plt.scatter(X[:, 0], X[:, 1], s=200, c=k_means.labels_);\n",
    "plt.title(\"K-Means (K=5)\");\n",
    "plt.xlabel('Age');\n",
    "plt.ylabel('Annual Income');\n",
    "plt.xticks();\n",
    "plt.yticks();\n",
    "for label in k_means.labels_:\n",
    "    plt.text(x=k_means.cluster_centers_[label, 0], y=k_means.cluster_centers_[label, 1], s=label, \n",
    "             horizontalalignment='center', verticalalignment='center', color='black',\n",
    "             bbox=dict(facecolor='white', edgecolor='black', boxstyle='round,pad=0.1', alpha=0.02));"
   ]
  },
  {
   "cell_type": "code",
   "execution_count": 73,
   "metadata": {},
   "outputs": [
    {
     "name": "stdout",
     "output_type": "stream",
     "text": [
      "K-Means Inertia :\n"
     ]
    },
    {
     "data": {
      "text/plain": [
       "66.51111374859076"
      ]
     },
     "execution_count": 73,
     "metadata": {},
     "output_type": "execute_result"
    },
    {
     "name": "stdout",
     "output_type": "stream",
     "text": [
      "K-Means silhouette_score :\n"
     ]
    },
    {
     "data": {
      "text/plain": [
       "0.8048976287755765"
      ]
     },
     "execution_count": 73,
     "metadata": {},
     "output_type": "execute_result"
    }
   ],
   "source": [
    "# K-means inertia and silhouette_score \n",
    "\n",
    "print(\"K-Means Inertia :\")\n",
    "k_means.inertia_\n",
    "print(\"K-Means silhouette_score :\")\n",
    "silhouette_score(X, k_means.labels_)"
   ]
  },
  {
   "cell_type": "code",
   "execution_count": 74,
   "metadata": {},
   "outputs": [
    {
     "data": {
      "image/png": "[encoded data removed]",
      "text/plain": [
       "<Figure size 432x288 with 1 Axes>"
      ]
     },
     "metadata": {
      "needs_background": "light"
     },
     "output_type": "display_data"
    },
    {
     "name": "stdout",
     "output_type": "stream",
     "text": [
      "K=2, WCSS=1022.39, Sil=0.52\n"
     ]
    },
    {
     "data": {
      "image/png": "[encoded data removed]",
      "text/plain": [
       "<Figure size 432x288 with 1 Axes>"
      ]
     },
     "metadata": {
      "needs_background": "light"
     },
     "output_type": "display_data"
    },
    {
     "name": "stdout",
     "output_type": "stream",
     "text": [
      "K=3, WCSS=384.81, Sil=0.70\n"
     ]
    },
    {
     "data": {
      "image/png": "[encoded data removed]",
      "text/plain": [
       "<Figure size 432x288 with 1 Axes>"
      ]
     },
     "metadata": {
      "needs_background": "light"
     },
     "output_type": "display_data"
    },
    {
     "name": "stdout",
     "output_type": "stream",
     "text": [
      "K=4, WCSS=189.70, Sil=0.76\n"
     ]
    },
    {
     "data": {
      "image/png": "[encoded data removed]",
      "text/plain": [
       "<Figure size 432x288 with 1 Axes>"
      ]
     },
     "metadata": {
      "needs_background": "light"
     },
     "output_type": "display_data"
    },
    {
     "name": "stdout",
     "output_type": "stream",
     "text": [
      "K=5, WCSS=66.51, Sil=0.80\n"
     ]
    },
    {
     "data": {
      "image/png": "[encoded data removed]",
      "text/plain": [
       "<Figure size 432x288 with 1 Axes>"
      ]
     },
     "metadata": {
      "needs_background": "light"
     },
     "output_type": "display_data"
    },
    {
     "name": "stdout",
     "output_type": "stream",
     "text": [
      "K=6, WCSS=61.14, Sil=0.63\n"
     ]
    },
    {
     "data": {
      "image/png": "[encoded data removed]",
      "text/plain": [
       "<Figure size 432x288 with 1 Axes>"
      ]
     },
     "metadata": {
      "needs_background": "light"
     },
     "output_type": "display_data"
    },
    {
     "name": "stdout",
     "output_type": "stream",
     "text": [
      "K=7, WCSS=56.89, Sil=0.45\n"
     ]
    },
    {
     "data": {
      "image/png": "[encoded data removed]",
      "text/plain": [
       "<Figure size 432x288 with 1 Axes>"
      ]
     },
     "metadata": {
      "needs_background": "light"
     },
     "output_type": "display_data"
    },
    {
     "name": "stdout",
     "output_type": "stream",
     "text": [
      "K=8, WCSS=52.92, Sil=0.30\n"
     ]
    },
    {
     "data": {
      "image/png": "[encoded data removed]",
      "text/plain": [
       "<Figure size 432x288 with 1 Axes>"
      ]
     },
     "metadata": {
      "needs_background": "light"
     },
     "output_type": "display_data"
    },
    {
     "name": "stdout",
     "output_type": "stream",
     "text": [
      "K=9, WCSS=50.25, Sil=0.30\n"
     ]
    }
   ],
   "source": [
    "# Run K-Means clustering with different values of K\n",
    "def do_kmeans(X, k):\n",
    "    k_means = KMeans(init='k-means++', n_clusters=k, n_init=10, random_state=42)\n",
    "    k_means.fit(X)\n",
    "\n",
    "    plt.figure();\n",
    "    plt.scatter(X[:, 0], X[:, 1], c=k_means.labels_)\n",
    "    plt.scatter(k_means.cluster_centers_[:, 0], k_means.cluster_centers_[:, 1], marker='x', c=\"black\")\n",
    "    plt.title(\"K-Means (K={})\".format(k));\n",
    "    plt.xlabel('Age');\n",
    "    plt.ylabel('Income');\n",
    "    #plt.savefig('out/simple_kmeans_k{}.png'.format(k))\n",
    "    plt.show()\n",
    "    \n",
    "    wcss = k_means.inertia_\n",
    "    sil = silhouette_score(X, k_means.labels_)\n",
    "    print(\"K={}, WCSS={:.2f}, Sil={:.2f}\".format(k, wcss, sil))\n",
    "\n",
    "for k in range(2, 10):    # DEfine range for K\n",
    "    do_kmeans(X, k)\n",
    "    "
   ]
  },
  {
   "cell_type": "code",
   "execution_count": 77,
   "metadata": {},
   "outputs": [
    {
     "data": {
      "image/png": "[encoded data removed]",
      "text/plain": [
       "<Figure size 432x288 with 1 Axes>"
      ]
     },
     "metadata": {
      "needs_background": "light"
     },
     "output_type": "display_data"
    },
    {
     "data": {
      "image/png": "[encoded data removed]",
      "text/plain": [
       "<Figure size 432x288 with 1 Axes>"
      ]
     },
     "metadata": {
      "needs_background": "light"
     },
     "output_type": "display_data"
    }
   ],
   "source": [
    "# Plot Elbow Plot\n",
    "inertias = {}\n",
    "silhouettes = {}\n",
    "for k in range(2, 11):\n",
    "    kmeans = KMeans(init='k-means++', n_init=10, n_clusters=k, max_iter=1000, random_state=42).fit(X)\n",
    "    inertias[k] = kmeans.inertia_ # Inertia: Sum of distances of samples to their closest cluster center\n",
    "    silhouettes[k] = silhouette_score(X, kmeans.labels_, metric='euclidean')\n",
    "    \n",
    "# Elbow Plot against inertia\n",
    "plt.figure();\n",
    "plt.grid(True);\n",
    "plt.plot(list(inertias.keys()), list(inertias.values()));\n",
    "plt.title('K-Means, Elbow Method')\n",
    "plt.xlabel(\"Number of clusters, K\");\n",
    "plt.ylabel(\"Inertia\");\n",
    "\n",
    "# Elbow Plot against silhouettes score\n",
    "plt.figure();\n",
    "plt.grid(True);\n",
    "plt.plot(list(silhouettes.keys()), list(silhouettes.values()));\n",
    "plt.title('K-Means, Elbow Method')\n",
    "plt.xlabel(\"Number of clusters, K\");\n",
    "plt.ylabel(\"Silhouette\");"
   ]
  },
  {
   "cell_type": "code",
   "execution_count": 78,
   "metadata": {},
   "outputs": [
    {
     "name": "stderr",
     "output_type": "stream",
     "text": [
      "C:\\Users\\User\\anaconda3\\lib\\site-packages\\sklearn\\base.py:213: FutureWarning: From version 0.24, get_params will raise an AttributeError if a parameter cannot be retrieved as an instance attribute. Previously it would return None.\n",
      "  FutureWarning)\n"
     ]
    },
    {
     "data": {
      "text/plain": [
       "SilhouetteVisualizer(ax=<matplotlib.axes._subplots.AxesSubplot object at 0x000002836AFA8988>,\n",
       "                     model=None)"
      ]
     },
     "execution_count": 78,
     "metadata": {},
     "output_type": "execute_result"
    },
    {
     "data": {
      "image/png": "[encoded data removed]",
      "text/plain": [
       "<Figure size 432x288 with 1 Axes>"
      ]
     },
     "metadata": {
      "needs_background": "light"
     },
     "output_type": "display_data"
    },
    {
     "data": {
      "text/plain": [
       "<matplotlib.axes._subplots.AxesSubplot at 0x2836afa8988>"
      ]
     },
     "execution_count": 78,
     "metadata": {},
     "output_type": "execute_result"
    }
   ],
   "source": [
    "# Silhouette Coefficient of clusters\n",
    "visualizer = SilhouetteVisualizer(k_means)\n",
    "visualizer.fit(X)\n",
    "visualizer.poof()\n",
    "fig = visualizer.ax.get_figure()"
   ]
  },
  {
   "cell_type": "code",
   "execution_count": 79,
   "metadata": {},
   "outputs": [
    {
     "name": "stdout",
     "output_type": "stream",
     "text": [
      "\n",
      "Cluster 0:\n",
      "[[    87  17760 0.3487775 16869.51]\n",
      " [    87  42592 0.3552897 18086.29]\n",
      " [    83  34384 0.3247187 14783.38]\n",
      " [    84  27693 0.367063 17879.56]\n",
      " [    87  31481 0.317424 16180.69]\n",
      " [    82  33636 0.371783 17866.83]\n",
      " [    91  22672 0.2710645 15407.65]\n",
      " [    90  37503 0.3577883 17258.57]\n",
      " [    88  17851 0.289866 17472.47]\n",
      " [    84  20704 0.3794963 16816.91]\n",
      " [    87  23042 0.366312 18149.04]\n",
      " [    84  18244 0.2926634 17815.35]\n",
      " [    91  24370 0.2963286 16141.05]\n",
      " [    91  26917 0.3767135 17986.62]\n",
      " [    83  28727 0.308263 18205.34]\n",
      " [    87  23322 0.3068212 16131.27]\n",
      " [    90  33188 0.2488101 15866.91]\n",
      " [    83  33170 0.2410777 16620.01]\n",
      " [    83  23206 0.3212404 16870.67]\n",
      " [    83  30721 0.3311418 17705.99]\n",
      " [    91  25886 0.3017538 17266.05]\n",
      " [    83  34529 0.3172075 16517.21]\n",
      " [    91  36991 0.2685979 19047.77]\n",
      " [    87  26045 0.3752921 15903.56]\n",
      " [    88  33303 0.3997157 15232.6]\n",
      " [    94  28352 0.3768757 16798.89]\n",
      " [    88  28802 0.4083878 16293.04]\n",
      " [    89  24520 0.4438327 13556.94]\n",
      " [    90  33259 0.3775711 15315.03]\n",
      " [    84  29492 0.3336031 17954.1]\n",
      " [    88  26092 0.3128732 17105.79]\n",
      " [    84  42018 0.2979936 16148.37]\n",
      " [    88  34001 0.3375693 15530.93]\n",
      " [    91  29082 0.2824885 18794.49]\n",
      " [    88  28409 0.3056535 17326.18]\n",
      " [    85  34634 0.3690002 16719.82]\n",
      " [    91  30148 0.2773889 15324.29]\n",
      " [    85  28401 0.3694371 15990.49]\n",
      " [    94  20719 0.3364023 16281.83]\n",
      " [    85  30794 0.2862293 17096.39]\n",
      " [    83  28497 0.3938024 15510.11]\n",
      " [    88  17388 0.4661894 16698.62]\n",
      " [    85  34802 0.2987969  16450]\n",
      " [    89  31096 0.2785878 17736.94]\n",
      " [    92  32915 0.3885749 16694.71]\n",
      " [    85  26355 0.3423407 17971.19]\n",
      " [    88  28585 0.3977397 16725.84]\n",
      " [    94  27771 0.3025032 17303.96]\n",
      " [    87  18459 0.2645499 15637.6]\n",
      " [    93  20440 0.297573 17406.07]\n",
      " [    82  32494 0.3273154 16799.44]\n",
      " [    89  20292 0.3121482 16023.45]\n",
      " [    84  27179 0.3474234 15612.63]\n",
      " [    87  24578 0.3761655 17789.25]\n",
      " [    88  33251 0.3043914 18868.24]\n",
      " [    95  27038 0.331352 18126.58]\n",
      " [    89  26127 0.3044744 17194.83]\n",
      " [    86  46977 0.2827284 15628.96]\n",
      " [    85  27599 0.281995 13470.97]\n",
      " [    87  25701 0.3152206 15738.86]\n",
      " [    89  19202 0.3819877 16626.22]\n",
      " [    89  33311 0.376147 17093.07]\n",
      " [    85  29204 0.3254914 16918.9]\n",
      " [    92  35877 0.3668917 17287.91]\n",
      " [    84  27544 0.2309338 18207.36]\n",
      " [    81  34425 0.2726098 16262.62]\n",
      " [    91  16950 0.323004 17172.61]\n",
      " [    82  24221 0.4735497 16251.76]\n",
      " [    86  35998 0.3216356  20000]\n",
      " [    94  27169 0.314173 15061.78]\n",
      " [    88  17946 0.2696436 16715.16]\n",
      " [    91  26424 0.3193887 16501.47]\n",
      " [    84  22286 0.3955062 17886.54]\n",
      " [    90  25733 0.338563 17631.57]\n",
      " [    88  27169 0.2800595 15260.64]\n",
      " [    88  32708 0.3682153 16711.07]\n",
      " [    90  30178 0.2823513 16182.84]\n",
      " [    91  25237 0.3535018 17292.73]\n",
      " [    84  38042 0.3660859 17465.86]\n",
      " [    87  46910 0.3085617 14789.15]\n",
      " [    85  29610 0.3181352 18475.49]\n",
      " [    87  30812 0.3144632 15238.12]\n",
      " [    88  19510 0.316751 16529.2]\n",
      " [    88  26351 0.3041682 14035.92]\n",
      " [    85  21250 0.3104101 16033.97]\n",
      " [    90  22288 0.2713268 18434.1]\n",
      " [    91  36639 0.3261989 16275.7]\n",
      " [    87  12000 0.342991 16180.27]\n",
      " [    88  35051 0.3860515 17593.25]\n",
      " [    91  12038 0.3498033 16464.96]\n",
      " [    86  31994 0.2494769 18210.09]\n",
      " [    87  30178 0.279316 16123.07]\n",
      " [    89  26940 0.3260051 16555.16]\n",
      " [    93  17672 0.3032924 18516.45]\n",
      " [    90  33490 0.4199085 17091.9]\n",
      " [    92  22484 0.3317733 18615.63]\n",
      " [    82  33610 0.3012532 17755.66]\n",
      " [    94  18937 0.3470951 17739.78]\n",
      " [    86  18812 0.3415458 16157.73]\n",
      " [    83  26882 0.3479796 17775.23]\n",
      " [    83  18162 0.3013735 16029.47]\n",
      " [    83  30492 0.3016315 15365.86]\n",
      " [    91  29750 0.2884703 19201.12]\n",
      " [    88  22602 0.3567448 16740.34]\n",
      " [    91  27168 0.3322388 15893.73]\n",
      " [    91  28777 0.3241936 17808.27]\n",
      " [    84  27384 0.3136467 16734.67]\n",
      " [    87  25566 0.3167604 15188.06]\n",
      " [    89  25252 0.3217652 16539.36]\n",
      " [    94  38923 0.330226 16971.18]\n",
      " [    86  28779 0.3365233 16047.27]\n",
      " [    79  38201 0.3697829 16393.4]\n",
      " [    86  36031 0.2401766 16945.33]\n",
      " [    85  28408 0.3580739 15063.34]\n",
      " [    92  33550 0.3685156 17106.33]\n",
      " [    89  34524 0.3481183 14051.26]\n",
      " [    87  30102 0.3903906 16330.08]\n",
      " [    89  28160 0.3388489 15607.06]\n",
      " [    79  32421 0.3032762 15319.47]\n",
      " [    82  24391 0.2761013 17053.03]\n",
      " [    87  15671 0.3507251 14326.6]\n",
      " [    86  15695 0.257175 17366.19]\n",
      " [    89  22008 0.3819061 16458.4]\n",
      " [    90  24376 0.2812795 15134.99]\n",
      " [    88  31366 0.3796208 16079.62]\n",
      " [    92  35484 0.3970636 17324.05]\n",
      " [    87  26665 0.4021457 17376.91]\n",
      " [    85  21652 0.3184561 14175.17]\n",
      " [    94  23854 0.3144467 16828.41]\n",
      " [    86  27705 0.329377 17130.86]\n",
      " [    92  22616 0.3228507 17275.66]\n",
      " [    90  29029 0.303759 15592.99]\n",
      " [    86  23400 0.2780355 15215.28]\n",
      " [    84  24105 0.271809 16524.9]\n",
      " [    84  30481 0.3970229 16837.21]\n",
      " [    90  22782 0.3563069 15924.07]\n",
      " [    91  28165 0.3036929 17460.18]\n",
      " [    92  18724 0.3278623 15341.38]\n",
      " [    97  27271 0.2839229 14928.17]\n",
      " [    84  36463 0.353621 16563.37]\n",
      " [    92  36032 0.3369683 17348.6]\n",
      " [    87  29909 0.3421516 18142.23]\n",
      " [    91  30756 0.303698  15492]\n",
      " [    93  19934 0.2031402 17969.69]\n",
      " [    90  35297 0.355149 16091.4]\n",
      " [    91  20681 0.3546792 18401.09]\n",
      " [    89  30267 0.2893101 14386.35]]\n",
      "\n",
      "Cluster 1:\n",
      "[[    36  99780 0.2654326 16398.4]\n",
      " [    30  99949 0.3446792 13621.64]\n",
      " [    31 107963 0.2905086 13407.08]\n",
      " [    30 101073 0.3143871 14324.56]\n",
      " [    33 101058 0.3150815 14911.87]\n",
      " [    39 100540 0.384923 16741.01]\n",
      " [    31 111449 0.2941062 13929.62]\n",
      " [    31 101481 0.2702351 15226.61]\n",
      " [    36  98137 0.2974013 15978.33]\n",
      " [    25 101503 0.2884689 15026.26]\n",
      " [    31 110882 0.3252806 14004.61]\n",
      " [    30 107302 0.2396772 13993.24]\n",
      " [    33  98033 0.3095111 15774.69]\n",
      " [    35 104678 0.3279929 15422.06]\n",
      " [    34 104284 0.3445454 13541.8]\n",
      " [    36 101811 0.3406668 15048.9]\n",
      " [    37 110595 0.2866485 15235.45]\n",
      " [    27 106758 0.2662947 14942.56]\n",
      " [    31 116247 0.2943151 16178.2]\n",
      " [    34  98752 0.3720337 14975.38]\n",
      " [    32 110439 0.3069902 13873.51]\n",
      " [    38 115146 0.3144901 14798.87]\n",
      " [    33  99637 0.2282171 15139.4]\n",
      " [    35 102308 0.2751372 14874.56]\n",
      " [    31 104388 0.2864732 14406.56]\n",
      " [    35 101691 0.349111 14152.67]\n",
      " [    30 108928 0.3038636 14339.65]\n",
      " [    28  97965 0.3134916 14981.4]\n",
      " [    35 107131 0.2424732 16200.01]\n",
      " [    34 107255 0.328343 15130.6]\n",
      " [    32 102035 0.2620704 14209.93]\n",
      " [    31 107115 0.3280421 15693.5]\n",
      " [    28 111937 0.2537347 13669.11]\n",
      " [    30 106350 0.3694163 14863.23]\n",
      " [    30 107926 0.2301607 15520.54]\n",
      " [    31  99457 0.3658065 14580.61]\n",
      " [    28  99611 0.2795579 15345.66]\n",
      " [    33 111813 0.2382438 15901.24]\n",
      " [    29 102028 0.2889605 14634.43]\n",
      " [    29 111426 0.4002812 14352.64]\n",
      " [    32  95536 0.2662461 15420.63]\n",
      " [    32 101905 0.3074763 17532.16]\n",
      " [    32 106543 0.3107432 14337.29]\n",
      " [    29 103223 0.3388163 16252.88]\n",
      " [    29  99161 0.30792 15631.84]\n",
      " [    25 106772 0.3909047 16353.47]\n",
      " [    29 101943 0.3256231 14619.35]\n",
      " [    31 102618 0.2763779 13209.3]\n",
      " [    37 107877 0.334618 17968.55]\n",
      " [    29 119366 0.3587714 15012.85]\n",
      " [    34 103428 0.2474244 13791.04]\n",
      " [    38  94775 0.3803902 16867.13]\n",
      " [    31 114833 0.3050697 13953.03]\n",
      " [    36  96336 0.2880976 15286.77]\n",
      " [    35 106588 0.3422142 15648.66]\n",
      " [    37 107958 0.3466691 13641.01]\n",
      " [    36 100158 0.3160604 13832.38]\n",
      " [    31 112943 0.3412395 14297.7]\n",
      " [    37 108635 0.2864957 14558.05]\n",
      " [    37 106664 0.2775868 14479.37]\n",
      " [    43 101641 0.3819838 14424.1]\n",
      " [    37  97831 0.3744658 14935.14]\n",
      " [    33 105667 0.2507508 12869.76]\n",
      " [    31 105826 0.2862743 13856.81]\n",
      " [    29  91375 0.2354504 13104.96]\n",
      " [    31 108067 0.2686743 13316.77]\n",
      " [    33 106345 0.3392354 15300.45]\n",
      " [    30 108581 0.3094468 15628.79]\n",
      " [    34  98165 0.1741205 15721.86]\n",
      " [    30 107525 0.2948164 12702.85]\n",
      " [    30 102056 0.2607006 15370.67]\n",
      " [    37  97678 0.2574704 15834.11]\n",
      " [    35 117112 0.3047919 15908.04]\n",
      " [    33  94964 0.3302325 14018.35]\n",
      " [    33 100275 0.3630857 13735.44]\n",
      " [    26  97750 0.2934088 15823.03]\n",
      " [    24 110564 0.304943 14967.84]\n",
      " [    36 108004 0.308923 15813.96]\n",
      " [    33 114555 0.2792568 13746.75]\n",
      " [    29 116451 0.3406596 15294.66]\n",
      " [    40  98821 0.2790809 15995.16]\n",
      " [    42 106990 0.3300654 14856.94]\n",
      " [    34  89598 0.3401524 12832.77]\n",
      " [    28 109075 0.362762 14082.46]\n",
      " [    36 105567 0.3126388 14355.31]\n",
      " [    34 119877 0.305437 15634.79]\n",
      " [    35 112878 0.3009136 13755.48]\n",
      " [    29 110860 0.3194403 16260.42]\n",
      " [    34 111303 0.3453126 14624.32]\n",
      " [    33 108345 0.3254133 15646.32]\n",
      " [    39  99216 0.2166061 15230.35]\n",
      " [    38 113659 0.333486 14364.69]\n",
      " [    35 105991 0.343378 16616.09]\n",
      " [    37 108651 0.1923436 15881.24]\n",
      " [    31 105006 0.3741659 15419.42]\n",
      " [    37 110732 0.3226762 14265.35]\n",
      " [    33  92569 0.3360798 13765.69]\n",
      " [    34 103204 0.3010874 15149.81]\n",
      " [    44 114642 0.3092049 14067.62]\n",
      " [    31 105036 0.272228 16465.06]\n",
      " [    36 109038 0.3242132 16502.39]\n",
      " [    29 112531 0.3427662 14361.33]\n",
      " [    38 104738 0.4059589 15634.31]\n",
      " [    39 100661 0.3766413 16873.13]\n",
      " [    36 109809 0.3556602 14978.5]\n",
      " [    35 108499 0.2612719 16046.08]\n",
      " [    30  96241 0.3773385 15485.16]\n",
      " [    37 106894 0.3432358 14075.22]\n",
      " [    29 106014 0.3479451 15038.01]\n",
      " [    34  98993 0.3229931 16138.08]\n",
      " [    22 109152 0.3234464 16022.48]\n",
      " [    36 104285 0.2123601 13347.56]\n",
      " [    34 102291 0.2478623 15819.58]\n",
      " [    31 107994 0.2944689 13685.97]\n",
      " [    31 107932 0.3742422 12207.53]\n",
      " [    35 110106 0.2867693 14924.54]\n",
      " [    28 100592 0.2595983 15520.36]\n",
      " [    33 116616 0.32093 15104.5]\n",
      " [    28  94762 0.3035962 15352.52]\n",
      " [    32 117050 0.3113555 14310.55]\n",
      " [    31 101209 0.304323 16917.57]\n",
      " [    33 106757 0.2583961 14431.65]\n",
      " [    33 107100 0.3424355 14895.47]\n",
      " [    32 108417 0.2873709 16696.4]\n",
      " [    30  98030 0.4111117 16316.84]\n",
      " [    28 101206 0.3874407 14936.78]]\n",
      "\n",
      "Cluster 2:\n",
      "[[    58  77769 0.7913288 6559.83]\n",
      " [    59  81799 0.791082 5417.661]\n",
      " [    62  74751 0.702657 9258.993]\n",
      " [    59  74373 0.7656796 7346.335]\n",
      " [    54  76500 0.7851979 6878.884]\n",
      " [    61  71933 0.8441068 8022.209]\n",
      " [    55  71621 0.7533427 7780.59]\n",
      " [    53  76667 0.7600577 5168.225]\n",
      " [    55  78761 0.8271742 8376.749]\n",
      " [    61  76955 0.7771176 7467.037]\n",
      " [    59  65700 0.8114712 6932.488]\n",
      " [    59  69738 0.7421121 7151.651]\n",
      " [    56  63866 0.761888 7762.255]\n",
      " [    61  74117 0.7702141 5103.609]\n",
      " [    61  63846 0.8278622 7283.505]\n",
      " [    60  70012 0.7944611 7263.242]\n",
      " [    57  75332 0.7215024 6845.057]\n",
      " [    61  73245 0.8111604 7413.784]\n",
      " [    55  74356 0.799827 6484.631]\n",
      " [    53  62117 0.7331388 7500.452]\n",
      " [    61  69001 0.8216688 5074.121]\n",
      " [    64  60493 0.7680563 7708.113]\n",
      " [    62  69741 0.8462196 5781.658]\n",
      " [    55  71056 0.7565897 7464.163]\n",
      " [    58  74340 0.735165 7259.541]\n",
      " [    57  79470 0.7734353 6773.049]\n",
      " [    59  72588 0.8017157 6300.844]\n",
      " [    58  77101 0.7667196 8148.492]\n",
      " [    59  74576 0.7812961 10547.78]\n",
      " [    64  88361 0.7745562 7240.76]\n",
      " [    58  70798 0.7535284 5330.74]\n",
      " [    56  86484 0.7321234 8777.496]\n",
      " [    63  85761 0.8005979 7175.09]\n",
      " [    58  70259 0.7697129 7101.675]\n",
      " [    60  79969 0.8121049 4879.335]\n",
      " [    58  69879 0.7209987 6669.034]\n",
      " [    62  73480 0.739195 6277.675]\n",
      " [    66  72571 0.8115483 6509.412]\n",
      " [    57  76594 0.7906579 6584.655]\n",
      " [    66  64866 0.7665942 5037.899]\n",
      " [    63  72815 0.820036 5504.386]\n",
      " [    64  71692 0.8426521 7002.977]\n",
      " [    62  63596 0.7453272 6142.202]\n",
      " [    62  62650 0.7665724 7533.674]\n",
      " [    60  71436 0.8320591 8557.86]\n",
      " [    65  65736 0.7785688 6387.22]\n",
      " [    60  70663 0.7153397 7557.938]\n",
      " [    63  80705 0.76267 5154.331]\n",
      " [    56  84386 0.7849451 7270.42]\n",
      " [    58  75757 0.8097944 7390.577]\n",
      " [    62  71050 0.7353569 6988.197]\n",
      " [    56  68698 0.7162679 7070.967]\n",
      " [    59  67781 0.7225483 6701.528]\n",
      " [    65  66017 0.7861893 6159.663]\n",
      " [    62  80093 0.6909168 6756.749]\n",
      " [    59  67988 0.8114707 7255.903]\n",
      " [    66  82526 0.7696801 6205.663]\n",
      " [    64  76364 0.6993888 5772.117]\n",
      " [    62  68279 0.7196851 7028.676]\n",
      " [    61  69698 0.741684 8777.077]\n",
      " [    56  68463 0.8157117 8995.18]\n",
      " [    62  78413 0.7907091 6961.204]\n",
      " [    60  65054 0.7086132 5417.237]\n",
      " [    62  69391 0.792106 6518.283]\n",
      " [    64  86283 0.7568019 6852.555]\n",
      " [    63  69849 0.7403871 7670.691]\n",
      " [    58  78635 0.7864401 7162.739]\n",
      " [    62  67030 0.7467384 6740.765]\n",
      " [    59  71302 0.702009 6595.726]\n",
      " [    61  71033 0.8380951 9456.877]\n",
      " [    53  74996 0.7387311 7821.448]\n",
      " [    58  83351 0.8406978 6673.91]\n",
      " [    55  76057 0.877828 6132.898]\n",
      " [    60  67491 0.8466185 7180.714]\n",
      " [    56  60059 0.727584 7166.859]\n",
      " [    60  65340 0.7316485 8354.197]\n",
      " [    58  80278 0.823359 6335.978]\n",
      " [    56  67274 0.7798517 6652.391]\n",
      " [    64  64331 0.7571278 5815.66]\n",
      " [    63  75078 0.7831592 7468.851]\n",
      " [    62  62747 0.7705946 5852.326]\n",
      " [    59  75505 0.7682787 5006.529]\n",
      " [    67  59243 0.74366 5446.557]\n",
      " [    58  77559 0.7122964 5742.524]\n",
      " [    58  70272 0.8229596 5290.087]\n",
      " [    57  65608 0.7662313 6904.318]\n",
      " [    66  71672 0.7538892 7387.835]\n",
      " [    64  78801 0.7403675 6420.944]\n",
      " [    59  69460 0.7527238 6101.372]\n",
      " [    68  77648 0.7965447 6190.864]\n",
      " [    57  74014 0.7873781 5783.847]\n",
      " [    61  71171 0.7210805 6457.791]\n",
      " [    64  76410 0.7756042 6135.308]\n",
      " [    63  56875 0.7622806 7837.234]\n",
      " [    55  73895 0.7471255 5563.907]\n",
      " [    57  76573 0.8405991 6225.376]\n",
      " [    57  69655 0.6748907 5889.831]\n",
      " [    61  73495 0.7727563 9288.19]\n",
      " [    59  75495 0.7945029 6702.952]\n",
      " [    59  56321 0.8065659 6129.289]\n",
      " [    59  67401 0.711434 6529.586]\n",
      " [    58  76052 0.7215882 6681.984]\n",
      " [    56  75599 0.7737371 6799.625]\n",
      " [    61  72060 0.833459 7924.641]\n",
      " [    56  78992 0.8122757 7285.18]\n",
      " [    61  65647 0.71749 7497.232]\n",
      " [    59  77978 0.7188952 8316.311]\n",
      " [    62  69326 0.7980123 7003.096]\n",
      " [    59  69115 0.7598834 5997.69]\n",
      " [    59  80876 0.6573141 7232.825]\n",
      " [    59  73057 0.8302949 7819.393]\n",
      " [    57  64803 0.7285849 6255.553]\n",
      " [    59  73350 0.6797736 6710.574]\n",
      " [    61  65914 0.7781022 6406.877]\n",
      " [    67  68663 0.7738336 7451.994]\n",
      " [    63  67370 0.8999406 5985.077]\n",
      " [    56  80431 0.7594316 8150.557]\n",
      " [    59  82199 0.8035145 5880.815]\n",
      " [    58  80248 0.7249557 7641.16]\n",
      " [    61  68842 0.7544065 4077.659]\n",
      " [    55  76831 0.7421137 7806.399]\n",
      " [    59  73596 0.8567042 8281.719]\n",
      " [    59  90422 0.8062102 6746.281]\n",
      " [    60  70054 0.7143394 6609.919]\n",
      " [    60  65942 0.8005784 5253.265]\n",
      " [    67  80914 0.8196643 6833.507]\n",
      " [    57  79794 0.8224084 5893.975]\n",
      " [    56  73516 0.8064992 7696.832]\n",
      " [    67  78702 0.7632737 5030.365]\n",
      " [    58  69247 0.7237212 8715.68]\n",
      " [    68  68944 0.7455675 6828.71]\n",
      " [    58  78611 0.9104167 7665.884]\n",
      " [    55  64768 0.7332569 6486.354]\n",
      " [    51  72086 0.7911147 6732.096]\n",
      " [    57  72055 0.7549723 6544.847]\n",
      " [    61  78837 0.745949 6811.303]\n",
      " [    60  74460 0.7545393 7567.648]\n",
      " [    64  62886 0.7480163 8302.589]\n",
      " [    65  74430 0.7517742 7145.251]\n",
      " [    59  67346 0.7251569 8857.849]\n",
      " [    58  78078 0.7837796 6483.05]\n",
      " [    63  82343 0.7323186 8090.707]\n",
      " [    61  67372 0.7340673 6618.549]\n",
      " [    59  68038 0.801487 7719.284]\n",
      " [    56  65313 0.754603 5574.244]\n",
      " [    61  72027 0.7623249 6926.124]\n",
      " [    63  70580 0.766509 7262.109]\n",
      " [    58  70676 0.7640284 7664.416]\n",
      " [    62  73675 0.7966192 4688.657]\n",
      " [    60  63476 0.7519 7543.543]\n",
      " [    62  67731 0.8191699 5956.556]\n",
      " [    65  70430 0.6969943 6971.165]\n",
      " [    59  69408 0.879906 6491.771]\n",
      " [    65  71229 0.7878898 9024.337]\n",
      " [    58  70369 0.9045205 7461.568]\n",
      " [    61  74282 0.6922365 7286.755]\n",
      " [    66  77052 0.7072624 6296.417]]\n",
      "\n",
      "Cluster 3:\n",
      "[[    29 131578 0.8470341 3535.514]\n",
      " [    30 122788 0.8728724 5706.15]\n",
      " [    17 134966 0.9072422 4128.045]\n",
      " [    20 129142 0.887052 5603.121]\n",
      " [    18 130813 0.8908912 5256.435]\n",
      " [    25 138021 0.9440172 3005.577]\n",
      " [    27 121468 0.920649 5011.112]\n",
      " [    28 123153 0.9842408 3697.514]\n",
      " [    23 126500 0.8650329 3270.15]\n",
      " [    29 122264 0.8985788 2494.556]\n",
      " [    24 136644 0.8716977 1617.226]\n",
      " [    25 130934 0.913766 3942.389]\n",
      " [    24 130974 0.9118386 4420.073]\n",
      " [    23 120226 0.881913 4698.295]\n",
      " [    22 120525      1 5495.166]\n",
      " [    24 127352 0.9054522 2961.717]\n",
      " [    26 126617 0.8770521 2913.368]\n",
      " [    28 121216 0.8569693 5349.065]\n",
      " [    26 127320 0.8250298 5495.642]\n",
      " [    27 125008 0.9596454 2963.638]\n",
      " [    31 122924 0.8904602 3071.945]\n",
      " [    28 123229 0.873322 610.4462]\n",
      " [    24 134384 0.8747208 3731.34]\n",
      " [    23 129937 0.8727357 4102.065]\n",
      " [    23 138443 0.9226566 3297.059]\n",
      " [    25 131009 0.8640569 4792.427]\n",
      " [    24 134389 0.9388521 4573.606]\n",
      " [    29 142000 0.9400873 5349.821]\n",
      " [    28 129019 0.930832 3016.821]\n",
      " [    26 131827 0.8807195 4352.699]\n",
      " [    22 134209 0.870698 5138.11]\n",
      " [    25 130361 0.9254386 4691.552]\n",
      " [    17 134734 0.8579217      0]\n",
      " [    24 129087 0.8271179 3290.829]\n",
      " [    20 122581 0.8940806 4444.448]\n",
      " [    21 123678 0.8320253 2838.816]\n",
      " [    28 117108 0.8570785 4749.879]\n",
      " [    20 129469 0.9399954 5522.573]\n",
      " [    25 120957 0.8776734 5590.447]\n",
      " [    21 129726 0.9517923 4550.8]\n",
      " [    26 125662 0.9268184 6089.478]\n",
      " [    17 136255 0.9358761 4126.227]\n",
      " [    24 120465 0.9074854 4838.348]\n",
      " [    27 122671 0.9101071 4206.287]\n",
      " [    17 123828 0.9420129 3798.84]\n",
      " [    28 127699 0.8814245 5490.815]\n",
      " [    18 123718 0.8065529 4420.446]\n",
      " [    26 123005 0.9845262 4371.235]\n",
      " [    22 132948 0.8898002 2839.786]\n",
      " [    25 128625 0.816739 4914.117]]\n",
      "\n",
      "Cluster 4:\n",
      "[[    85 111389 0.03679536 16009.24]\n",
      " [    92 122879 0.06072404 13709.67]\n",
      " [    88 120678 0.06327285 14264.47]\n",
      " [    84 122696 0.08218683 13809.73]\n",
      " [    89 119697 0.0916792 16215.4]\n",
      " [    83 119429 0.0421548 15607.56]\n",
      " [    84 114406 0.1238384 16840.57]\n",
      " [    82 121642 0.05465319 14177.51]\n",
      " [    82 126257 0.07809619 15816.1]\n",
      " [    86 128378 0.1260834 13585.78]\n",
      " [    86 115689 0.05784296 14803.15]\n",
      " [    90 117668 0.08272274 12554.69]\n",
      " [    83 117943 0.07721324 15391.95]\n",
      " [    90 124170 0.03075131 14773.41]\n",
      " [    83 117347 0.1556941 15086.7]\n",
      " [    85 118169 0.1231961 14855.95]\n",
      " [    88 114767 0.03220754 17833.09]\n",
      " [    84 115237 0.06877821 14396.57]\n",
      " [    91 118794 0.01921207 14047.39]\n",
      " [    77 128596 0.04082407 14503.41]\n",
      " [    84 110582 0.07904903  14938]\n",
      " [    87 117564 0.1282796 14000.25]\n",
      " [    88 123651 0.02902714 13504.58]\n",
      " [    86 124372      0 15374.47]\n",
      " [    93 126601 0.02517017 14117.45]]\n",
      "Cluster counts:\n",
      "Counter({2: 157, 0: 147, 1: 126, 3: 50, 4: 25})\n"
     ]
    }
   ],
   "source": [
    "# Print Clusters \n",
    "np.set_printoptions(formatter={'float':\"{:6.7g}\".format})\n",
    "for label in set(k_means.labels_):\n",
    "    print('\\nCluster {}:'.format(label))\n",
    "    print(scaler.inverse_transform(X[k_means.labels_==label]))\n",
    "\n",
    "print(\"Cluster counts:\")\n",
    "print(Counter(k_means.labels_))"
   ]
  },
  {
   "cell_type": "code",
   "execution_count": 80,
   "metadata": {},
   "outputs": [
    {
     "data": {
      "text/html": [
       "<div>\n",
       "<style scoped>\n",
       "    .dataframe tbody tr th:only-of-type {\n",
       "        vertical-align: middle;\n",
       "    }\n",
       "\n",
       "    .dataframe tbody tr th {\n",
       "        vertical-align: top;\n",
       "    }\n",
       "\n",
       "    .dataframe thead th {\n",
       "        text-align: right;\n",
       "    }\n",
       "</style>\n",
       "<table border=\"1\" class=\"dataframe\">\n",
       "  <thead>\n",
       "    <tr style=\"text-align: right;\">\n",
       "      <th></th>\n",
       "      <th>Age</th>\n",
       "      <th>Income</th>\n",
       "      <th>Spending Score</th>\n",
       "      <th>Savings</th>\n",
       "    </tr>\n",
       "  </thead>\n",
       "  <tbody>\n",
       "    <tr>\n",
       "      <th>0</th>\n",
       "      <td>-0.042287</td>\n",
       "      <td>0.062733</td>\n",
       "      <td>1.103593</td>\n",
       "      <td>-1.072467</td>\n",
       "    </tr>\n",
       "    <tr>\n",
       "      <th>1</th>\n",
       "      <td>-0.000821</td>\n",
       "      <td>0.174811</td>\n",
       "      <td>1.102641</td>\n",
       "      <td>-1.303473</td>\n",
       "    </tr>\n",
       "    <tr>\n",
       "      <th>2</th>\n",
       "      <td>0.123577</td>\n",
       "      <td>-0.021200</td>\n",
       "      <td>0.761727</td>\n",
       "      <td>-0.526556</td>\n",
       "    </tr>\n",
       "    <tr>\n",
       "      <th>3</th>\n",
       "      <td>-0.000821</td>\n",
       "      <td>-0.031712</td>\n",
       "      <td>1.004705</td>\n",
       "      <td>-0.913395</td>\n",
       "    </tr>\n",
       "    <tr>\n",
       "      <th>4</th>\n",
       "      <td>1.160228</td>\n",
       "      <td>-1.606165</td>\n",
       "      <td>-0.602619</td>\n",
       "      <td>1.012686</td>\n",
       "    </tr>\n",
       "    <tr>\n",
       "      <th>...</th>\n",
       "      <td>...</td>\n",
       "      <td>...</td>\n",
       "      <td>...</td>\n",
       "      <td>...</td>\n",
       "    </tr>\n",
       "    <tr>\n",
       "      <th>500</th>\n",
       "      <td>-1.286268</td>\n",
       "      <td>0.714535</td>\n",
       "      <td>-0.453557</td>\n",
       "      <td>0.621787</td>\n",
       "    </tr>\n",
       "    <tr>\n",
       "      <th>501</th>\n",
       "      <td>1.409024</td>\n",
       "      <td>-1.545704</td>\n",
       "      <td>-1.164109</td>\n",
       "      <td>1.235201</td>\n",
       "    </tr>\n",
       "    <tr>\n",
       "      <th>502</th>\n",
       "      <td>1.284626</td>\n",
       "      <td>-1.118447</td>\n",
       "      <td>-0.578054</td>\n",
       "      <td>0.855313</td>\n",
       "    </tr>\n",
       "    <tr>\n",
       "      <th>503</th>\n",
       "      <td>1.326092</td>\n",
       "      <td>-1.524929</td>\n",
       "      <td>-0.579866</td>\n",
       "      <td>1.322452</td>\n",
       "    </tr>\n",
       "    <tr>\n",
       "      <th>504</th>\n",
       "      <td>1.243160</td>\n",
       "      <td>-1.258335</td>\n",
       "      <td>-0.831890</td>\n",
       "      <td>0.510463</td>\n",
       "    </tr>\n",
       "  </tbody>\n",
       "</table>\n",
       "<p>505 rows × 4 columns</p>\n",
       "</div>"
      ],
      "text/plain": [
       "          Age    Income  Spending Score   Savings\n",
       "0   -0.042287  0.062733        1.103593 -1.072467\n",
       "1   -0.000821  0.174811        1.102641 -1.303473\n",
       "2    0.123577 -0.021200        0.761727 -0.526556\n",
       "3   -0.000821 -0.031712        1.004705 -0.913395\n",
       "4    1.160228 -1.606165       -0.602619  1.012686\n",
       "..        ...       ...             ...       ...\n",
       "500 -1.286268  0.714535       -0.453557  0.621787\n",
       "501  1.409024 -1.545704       -1.164109  1.235201\n",
       "502  1.284626 -1.118447       -0.578054  0.855313\n",
       "503  1.326092 -1.524929       -0.579866  1.322452\n",
       "504  1.243160 -1.258335       -0.831890  0.510463\n",
       "\n",
       "[505 rows x 4 columns]"
      ]
     },
     "execution_count": 80,
     "metadata": {},
     "output_type": "execute_result"
    }
   ],
   "source": [
    "X = pd.DataFrame(X)\n",
    "X.columns=['Age','Income','Spending Score','Savings']\n",
    "X"
   ]
  },
  {
   "cell_type": "code",
   "execution_count": 81,
   "metadata": {},
   "outputs": [
    {
     "name": "stdout",
     "output_type": "stream",
     "text": [
      "\n",
      "Cluster 0:\n"
     ]
    },
    {
     "data": {
      "text/html": [
       "<div>\n",
       "<style scoped>\n",
       "    .dataframe tbody tr th:only-of-type {\n",
       "        vertical-align: middle;\n",
       "    }\n",
       "\n",
       "    .dataframe tbody tr th {\n",
       "        vertical-align: top;\n",
       "    }\n",
       "\n",
       "    .dataframe thead th {\n",
       "        text-align: right;\n",
       "    }\n",
       "</style>\n",
       "<table border=\"1\" class=\"dataframe\">\n",
       "  <thead>\n",
       "    <tr style=\"text-align: right;\">\n",
       "      <th></th>\n",
       "      <th>Age</th>\n",
       "      <th>Income</th>\n",
       "      <th>Spending Score</th>\n",
       "      <th>Savings</th>\n",
       "    </tr>\n",
       "  </thead>\n",
       "  <tbody>\n",
       "    <tr>\n",
       "      <th>485</th>\n",
       "      <td>1.284626</td>\n",
       "      <td>-1.466499</td>\n",
       "      <td>-0.573590</td>\n",
       "      <td>0.821470</td>\n",
       "    </tr>\n",
       "    <tr>\n",
       "      <th>486</th>\n",
       "      <td>1.326092</td>\n",
       "      <td>-1.316793</td>\n",
       "      <td>-0.776438</td>\n",
       "      <td>1.132151</td>\n",
       "    </tr>\n",
       "    <tr>\n",
       "      <th>488</th>\n",
       "      <td>1.367558</td>\n",
       "      <td>-1.579355</td>\n",
       "      <td>-0.683255</td>\n",
       "      <td>0.703620</td>\n",
       "    </tr>\n",
       "    <tr>\n",
       "      <th>489</th>\n",
       "      <td>1.574888</td>\n",
       "      <td>-1.341656</td>\n",
       "      <td>-0.852659</td>\n",
       "      <td>0.620046</td>\n",
       "    </tr>\n",
       "    <tr>\n",
       "      <th>490</th>\n",
       "      <td>1.035829</td>\n",
       "      <td>-1.086019</td>\n",
       "      <td>-0.583946</td>\n",
       "      <td>0.950770</td>\n",
       "    </tr>\n",
       "    <tr>\n",
       "      <th>493</th>\n",
       "      <td>1.367558</td>\n",
       "      <td>-1.098006</td>\n",
       "      <td>-0.648148</td>\n",
       "      <td>1.109584</td>\n",
       "    </tr>\n",
       "    <tr>\n",
       "      <th>494</th>\n",
       "      <td>1.160228</td>\n",
       "      <td>-1.268291</td>\n",
       "      <td>-0.628164</td>\n",
       "      <td>1.270098</td>\n",
       "    </tr>\n",
       "    <tr>\n",
       "      <th>497</th>\n",
       "      <td>1.326092</td>\n",
       "      <td>-1.244736</td>\n",
       "      <td>-0.776418</td>\n",
       "      <td>0.734084</td>\n",
       "    </tr>\n",
       "    <tr>\n",
       "      <th>501</th>\n",
       "      <td>1.409024</td>\n",
       "      <td>-1.545704</td>\n",
       "      <td>-1.164109</td>\n",
       "      <td>1.235201</td>\n",
       "    </tr>\n",
       "    <tr>\n",
       "      <th>502</th>\n",
       "      <td>1.284626</td>\n",
       "      <td>-1.118447</td>\n",
       "      <td>-0.578054</td>\n",
       "      <td>0.855313</td>\n",
       "    </tr>\n",
       "    <tr>\n",
       "      <th>503</th>\n",
       "      <td>1.326092</td>\n",
       "      <td>-1.524929</td>\n",
       "      <td>-0.579866</td>\n",
       "      <td>1.322452</td>\n",
       "    </tr>\n",
       "    <tr>\n",
       "      <th>504</th>\n",
       "      <td>1.243160</td>\n",
       "      <td>-1.258335</td>\n",
       "      <td>-0.831890</td>\n",
       "      <td>0.510463</td>\n",
       "    </tr>\n",
       "    <tr>\n",
       "      <th>mean</th>\n",
       "      <td>1.192385</td>\n",
       "      <td>-1.325106</td>\n",
       "      <td>-0.679638</td>\n",
       "      <td>0.970164</td>\n",
       "    </tr>\n",
       "  </tbody>\n",
       "</table>\n",
       "</div>"
      ],
      "text/plain": [
       "           Age    Income  Spending Score   Savings\n",
       "485   1.284626 -1.466499       -0.573590  0.821470\n",
       "486   1.326092 -1.316793       -0.776438  1.132151\n",
       "488   1.367558 -1.579355       -0.683255  0.703620\n",
       "489   1.574888 -1.341656       -0.852659  0.620046\n",
       "490   1.035829 -1.086019       -0.583946  0.950770\n",
       "493   1.367558 -1.098006       -0.648148  1.109584\n",
       "494   1.160228 -1.268291       -0.628164  1.270098\n",
       "497   1.326092 -1.244736       -0.776418  0.734084\n",
       "501   1.409024 -1.545704       -1.164109  1.235201\n",
       "502   1.284626 -1.118447       -0.578054  0.855313\n",
       "503   1.326092 -1.524929       -0.579866  1.322452\n",
       "504   1.243160 -1.258335       -0.831890  0.510463\n",
       "mean  1.192385 -1.325106       -0.679638  0.970164"
      ]
     },
     "execution_count": 81,
     "metadata": {},
     "output_type": "execute_result"
    },
    {
     "name": "stdout",
     "output_type": "stream",
     "text": [
      "\n",
      "Cluster 1:\n"
     ]
    },
    {
     "data": {
      "text/html": [
       "<div>\n",
       "<style scoped>\n",
       "    .dataframe tbody tr th:only-of-type {\n",
       "        vertical-align: middle;\n",
       "    }\n",
       "\n",
       "    .dataframe tbody tr th {\n",
       "        vertical-align: top;\n",
       "    }\n",
       "\n",
       "    .dataframe thead th {\n",
       "        text-align: right;\n",
       "    }\n",
       "</style>\n",
       "<table border=\"1\" class=\"dataframe\">\n",
       "  <thead>\n",
       "    <tr style=\"text-align: right;\">\n",
       "      <th></th>\n",
       "      <th>Age</th>\n",
       "      <th>Income</th>\n",
       "      <th>Spending Score</th>\n",
       "      <th>Savings</th>\n",
       "    </tr>\n",
       "  </thead>\n",
       "  <tbody>\n",
       "    <tr>\n",
       "      <th>454</th>\n",
       "      <td>-1.161870</td>\n",
       "      <td>0.901590</td>\n",
       "      <td>-0.504442</td>\n",
       "      <td>0.069791</td>\n",
       "    </tr>\n",
       "    <tr>\n",
       "      <th>457</th>\n",
       "      <td>-0.996006</td>\n",
       "      <td>0.962051</td>\n",
       "      <td>-0.841685</td>\n",
       "      <td>0.619312</td>\n",
       "    </tr>\n",
       "    <tr>\n",
       "      <th>460</th>\n",
       "      <td>-1.286268</td>\n",
       "      <td>0.697459</td>\n",
       "      <td>-0.946440</td>\n",
       "      <td>0.739818</td>\n",
       "    </tr>\n",
       "    <tr>\n",
       "      <th>461</th>\n",
       "      <td>-1.078938</td>\n",
       "      <td>1.143099</td>\n",
       "      <td>-0.709982</td>\n",
       "      <td>0.655710</td>\n",
       "    </tr>\n",
       "    <tr>\n",
       "      <th>463</th>\n",
       "      <td>-1.286268</td>\n",
       "      <td>0.535322</td>\n",
       "      <td>-0.776811</td>\n",
       "      <td>0.705873</td>\n",
       "    </tr>\n",
       "    <tr>\n",
       "      <th>468</th>\n",
       "      <td>-1.120404</td>\n",
       "      <td>1.155169</td>\n",
       "      <td>-0.746896</td>\n",
       "      <td>0.495131</td>\n",
       "    </tr>\n",
       "    <tr>\n",
       "      <th>471</th>\n",
       "      <td>-1.161870</td>\n",
       "      <td>0.714618</td>\n",
       "      <td>-0.774009</td>\n",
       "      <td>1.022407</td>\n",
       "    </tr>\n",
       "    <tr>\n",
       "      <th>476</th>\n",
       "      <td>-1.078938</td>\n",
       "      <td>0.868912</td>\n",
       "      <td>-0.951075</td>\n",
       "      <td>0.519625</td>\n",
       "    </tr>\n",
       "    <tr>\n",
       "      <th>477</th>\n",
       "      <td>-1.078938</td>\n",
       "      <td>0.878451</td>\n",
       "      <td>-0.627070</td>\n",
       "      <td>0.613434</td>\n",
       "    </tr>\n",
       "    <tr>\n",
       "      <th>482</th>\n",
       "      <td>-1.120404</td>\n",
       "      <td>0.915078</td>\n",
       "      <td>-0.839366</td>\n",
       "      <td>0.977675</td>\n",
       "    </tr>\n",
       "    <tr>\n",
       "      <th>498</th>\n",
       "      <td>-1.203336</td>\n",
       "      <td>0.626207</td>\n",
       "      <td>-0.362296</td>\n",
       "      <td>0.900909</td>\n",
       "    </tr>\n",
       "    <tr>\n",
       "      <th>500</th>\n",
       "      <td>-1.286268</td>\n",
       "      <td>0.714535</td>\n",
       "      <td>-0.453557</td>\n",
       "      <td>0.621787</td>\n",
       "    </tr>\n",
       "    <tr>\n",
       "      <th>mean</th>\n",
       "      <td>-1.088152</td>\n",
       "      <td>0.827441</td>\n",
       "      <td>-0.752406</td>\n",
       "      <td>0.627046</td>\n",
       "    </tr>\n",
       "  </tbody>\n",
       "</table>\n",
       "</div>"
      ],
      "text/plain": [
       "           Age    Income  Spending Score   Savings\n",
       "454  -1.161870  0.901590       -0.504442  0.069791\n",
       "457  -0.996006  0.962051       -0.841685  0.619312\n",
       "460  -1.286268  0.697459       -0.946440  0.739818\n",
       "461  -1.078938  1.143099       -0.709982  0.655710\n",
       "463  -1.286268  0.535322       -0.776811  0.705873\n",
       "468  -1.120404  1.155169       -0.746896  0.495131\n",
       "471  -1.161870  0.714618       -0.774009  1.022407\n",
       "476  -1.078938  0.868912       -0.951075  0.519625\n",
       "477  -1.078938  0.878451       -0.627070  0.613434\n",
       "482  -1.120404  0.915078       -0.839366  0.977675\n",
       "498  -1.203336  0.626207       -0.362296  0.900909\n",
       "500  -1.286268  0.714535       -0.453557  0.621787\n",
       "mean -1.088152  0.827441       -0.752406  0.627046"
      ]
     },
     "execution_count": 81,
     "metadata": {},
     "output_type": "execute_result"
    },
    {
     "name": "stdout",
     "output_type": "stream",
     "text": [
      "\n",
      "Cluster 2:\n"
     ]
    },
    {
     "data": {
      "text/html": [
       "<div>\n",
       "<style scoped>\n",
       "    .dataframe tbody tr th:only-of-type {\n",
       "        vertical-align: middle;\n",
       "    }\n",
       "\n",
       "    .dataframe tbody tr th {\n",
       "        vertical-align: top;\n",
       "    }\n",
       "\n",
       "    .dataframe thead th {\n",
       "        text-align: right;\n",
       "    }\n",
       "</style>\n",
       "<table border=\"1\" class=\"dataframe\">\n",
       "  <thead>\n",
       "    <tr style=\"text-align: right;\">\n",
       "      <th></th>\n",
       "      <th>Age</th>\n",
       "      <th>Income</th>\n",
       "      <th>Spending Score</th>\n",
       "      <th>Savings</th>\n",
       "    </tr>\n",
       "  </thead>\n",
       "  <tbody>\n",
       "    <tr>\n",
       "      <th>467</th>\n",
       "      <td>0.082111</td>\n",
       "      <td>-0.096957</td>\n",
       "      <td>0.991771</td>\n",
       "      <td>-0.998383</td>\n",
       "    </tr>\n",
       "    <tr>\n",
       "      <th>469</th>\n",
       "      <td>0.165043</td>\n",
       "      <td>-0.137199</td>\n",
       "      <td>1.007903</td>\n",
       "      <td>-0.930429</td>\n",
       "    </tr>\n",
       "    <tr>\n",
       "      <th>470</th>\n",
       "      <td>-0.042287</td>\n",
       "      <td>-0.134529</td>\n",
       "      <td>0.998339</td>\n",
       "      <td>-0.849062</td>\n",
       "    </tr>\n",
       "    <tr>\n",
       "      <th>472</th>\n",
       "      <td>0.123577</td>\n",
       "      <td>-0.051124</td>\n",
       "      <td>1.123989</td>\n",
       "      <td>-1.450915</td>\n",
       "    </tr>\n",
       "    <tr>\n",
       "      <th>473</th>\n",
       "      <td>0.040645</td>\n",
       "      <td>-0.334767</td>\n",
       "      <td>0.951579</td>\n",
       "      <td>-0.873509</td>\n",
       "    </tr>\n",
       "    <tr>\n",
       "      <th>474</th>\n",
       "      <td>0.123577</td>\n",
       "      <td>-0.216432</td>\n",
       "      <td>1.210931</td>\n",
       "      <td>-1.194480</td>\n",
       "    </tr>\n",
       "    <tr>\n",
       "      <th>478</th>\n",
       "      <td>0.247975</td>\n",
       "      <td>-0.141370</td>\n",
       "      <td>0.739895</td>\n",
       "      <td>-0.989273</td>\n",
       "    </tr>\n",
       "    <tr>\n",
       "      <th>479</th>\n",
       "      <td>-0.000821</td>\n",
       "      <td>-0.169793</td>\n",
       "      <td>1.445093</td>\n",
       "      <td>-1.086232</td>\n",
       "    </tr>\n",
       "    <tr>\n",
       "      <th>480</th>\n",
       "      <td>0.247975</td>\n",
       "      <td>-0.119150</td>\n",
       "      <td>1.090334</td>\n",
       "      <td>-0.574015</td>\n",
       "    </tr>\n",
       "    <tr>\n",
       "      <th>491</th>\n",
       "      <td>-0.042287</td>\n",
       "      <td>-0.143067</td>\n",
       "      <td>1.539992</td>\n",
       "      <td>-0.890089</td>\n",
       "    </tr>\n",
       "    <tr>\n",
       "      <th>492</th>\n",
       "      <td>0.082111</td>\n",
       "      <td>-0.034243</td>\n",
       "      <td>0.721552</td>\n",
       "      <td>-0.925445</td>\n",
       "    </tr>\n",
       "    <tr>\n",
       "      <th>495</th>\n",
       "      <td>0.289441</td>\n",
       "      <td>0.042793</td>\n",
       "      <td>0.779483</td>\n",
       "      <td>-1.125742</td>\n",
       "    </tr>\n",
       "    <tr>\n",
       "      <th>mean</th>\n",
       "      <td>0.038796</td>\n",
       "      <td>-0.085246</td>\n",
       "      <td>1.027216</td>\n",
       "      <td>-1.005695</td>\n",
       "    </tr>\n",
       "  </tbody>\n",
       "</table>\n",
       "</div>"
      ],
      "text/plain": [
       "           Age    Income  Spending Score   Savings\n",
       "467   0.082111 -0.096957        0.991771 -0.998383\n",
       "469   0.165043 -0.137199        1.007903 -0.930429\n",
       "470  -0.042287 -0.134529        0.998339 -0.849062\n",
       "472   0.123577 -0.051124        1.123989 -1.450915\n",
       "473   0.040645 -0.334767        0.951579 -0.873509\n",
       "474   0.123577 -0.216432        1.210931 -1.194480\n",
       "478   0.247975 -0.141370        0.739895 -0.989273\n",
       "479  -0.000821 -0.169793        1.445093 -1.086232\n",
       "480   0.247975 -0.119150        1.090334 -0.574015\n",
       "491  -0.042287 -0.143067        1.539992 -0.890089\n",
       "492   0.082111 -0.034243        0.721552 -0.925445\n",
       "495   0.289441  0.042793        0.779483 -1.125742\n",
       "mean  0.038796 -0.085246        1.027216 -1.005695"
      ]
     },
     "execution_count": 81,
     "metadata": {},
     "output_type": "execute_result"
    },
    {
     "name": "stdout",
     "output_type": "stream",
     "text": [
      "\n",
      "Cluster 3:\n"
     ]
    },
    {
     "data": {
      "text/html": [
       "<div>\n",
       "<style scoped>\n",
       "    .dataframe tbody tr th:only-of-type {\n",
       "        vertical-align: middle;\n",
       "    }\n",
       "\n",
       "    .dataframe tbody tr th {\n",
       "        vertical-align: top;\n",
       "    }\n",
       "\n",
       "    .dataframe thead th {\n",
       "        text-align: right;\n",
       "    }\n",
       "</style>\n",
       "<table border=\"1\" class=\"dataframe\">\n",
       "  <thead>\n",
       "    <tr style=\"text-align: right;\">\n",
       "      <th></th>\n",
       "      <th>Age</th>\n",
       "      <th>Income</th>\n",
       "      <th>Spending Score</th>\n",
       "      <th>Savings</th>\n",
       "    </tr>\n",
       "  </thead>\n",
       "  <tbody>\n",
       "    <tr>\n",
       "      <th>406</th>\n",
       "      <td>-1.410666</td>\n",
       "      <td>1.263825</td>\n",
       "      <td>1.436486</td>\n",
       "      <td>-1.268526</td>\n",
       "    </tr>\n",
       "    <tr>\n",
       "      <th>412</th>\n",
       "      <td>-1.576530</td>\n",
       "      <td>1.507698</td>\n",
       "      <td>1.722243</td>\n",
       "      <td>-1.478797</td>\n",
       "    </tr>\n",
       "    <tr>\n",
       "      <th>415</th>\n",
       "      <td>-1.369200</td>\n",
       "      <td>1.394675</td>\n",
       "      <td>1.625959</td>\n",
       "      <td>-1.167596</td>\n",
       "    </tr>\n",
       "    <tr>\n",
       "      <th>442</th>\n",
       "      <td>-1.742394</td>\n",
       "      <td>1.689275</td>\n",
       "      <td>1.660880</td>\n",
       "      <td>-1.564668</td>\n",
       "    </tr>\n",
       "    <tr>\n",
       "      <th>445</th>\n",
       "      <td>-1.452132</td>\n",
       "      <td>1.250143</td>\n",
       "      <td>1.551423</td>\n",
       "      <td>-1.420640</td>\n",
       "    </tr>\n",
       "    <tr>\n",
       "      <th>451</th>\n",
       "      <td>-1.327734</td>\n",
       "      <td>1.311493</td>\n",
       "      <td>1.561530</td>\n",
       "      <td>-1.548476</td>\n",
       "    </tr>\n",
       "    <tr>\n",
       "      <th>456</th>\n",
       "      <td>-1.742394</td>\n",
       "      <td>1.343670</td>\n",
       "      <td>1.684540</td>\n",
       "      <td>-1.630882</td>\n",
       "    </tr>\n",
       "    <tr>\n",
       "      <th>458</th>\n",
       "      <td>-1.286268</td>\n",
       "      <td>1.451326</td>\n",
       "      <td>1.450948</td>\n",
       "      <td>-1.288677</td>\n",
       "    </tr>\n",
       "    <tr>\n",
       "      <th>466</th>\n",
       "      <td>-1.700928</td>\n",
       "      <td>1.340611</td>\n",
       "      <td>1.162288</td>\n",
       "      <td>-1.505162</td>\n",
       "    </tr>\n",
       "    <tr>\n",
       "      <th>487</th>\n",
       "      <td>-1.369200</td>\n",
       "      <td>1.320782</td>\n",
       "      <td>1.848446</td>\n",
       "      <td>-1.515115</td>\n",
       "    </tr>\n",
       "    <tr>\n",
       "      <th>496</th>\n",
       "      <td>-1.535064</td>\n",
       "      <td>1.597305</td>\n",
       "      <td>1.483239</td>\n",
       "      <td>-1.824853</td>\n",
       "    </tr>\n",
       "    <tr>\n",
       "      <th>499</th>\n",
       "      <td>-1.410666</td>\n",
       "      <td>1.477079</td>\n",
       "      <td>1.201559</td>\n",
       "      <td>-1.405315</td>\n",
       "    </tr>\n",
       "    <tr>\n",
       "      <th>mean</th>\n",
       "      <td>-1.444668</td>\n",
       "      <td>1.460507</td>\n",
       "      <td>1.510580</td>\n",
       "      <td>-1.572496</td>\n",
       "    </tr>\n",
       "  </tbody>\n",
       "</table>\n",
       "</div>"
      ],
      "text/plain": [
       "           Age    Income  Spending Score   Savings\n",
       "406  -1.410666  1.263825        1.436486 -1.268526\n",
       "412  -1.576530  1.507698        1.722243 -1.478797\n",
       "415  -1.369200  1.394675        1.625959 -1.167596\n",
       "442  -1.742394  1.689275        1.660880 -1.564668\n",
       "445  -1.452132  1.250143        1.551423 -1.420640\n",
       "451  -1.327734  1.311493        1.561530 -1.548476\n",
       "456  -1.742394  1.343670        1.684540 -1.630882\n",
       "458  -1.286268  1.451326        1.450948 -1.288677\n",
       "466  -1.700928  1.340611        1.162288 -1.505162\n",
       "487  -1.369200  1.320782        1.848446 -1.515115\n",
       "496  -1.535064  1.597305        1.483239 -1.824853\n",
       "499  -1.410666  1.477079        1.201559 -1.405315\n",
       "mean -1.444668  1.460507        1.510580 -1.572496"
      ]
     },
     "execution_count": 81,
     "metadata": {},
     "output_type": "execute_result"
    },
    {
     "name": "stdout",
     "output_type": "stream",
     "text": [
      "\n",
      "Cluster 4:\n"
     ]
    },
    {
     "data": {
      "text/html": [
       "<div>\n",
       "<style scoped>\n",
       "    .dataframe tbody tr th:only-of-type {\n",
       "        vertical-align: middle;\n",
       "    }\n",
       "\n",
       "    .dataframe tbody tr th {\n",
       "        vertical-align: top;\n",
       "    }\n",
       "\n",
       "    .dataframe thead th {\n",
       "        text-align: right;\n",
       "    }\n",
       "</style>\n",
       "<table border=\"1\" class=\"dataframe\">\n",
       "  <thead>\n",
       "    <tr style=\"text-align: right;\">\n",
       "      <th></th>\n",
       "      <th>Age</th>\n",
       "      <th>Income</th>\n",
       "      <th>Spending Score</th>\n",
       "      <th>Savings</th>\n",
       "    </tr>\n",
       "  </thead>\n",
       "  <tbody>\n",
       "    <tr>\n",
       "      <th>283</th>\n",
       "      <td>1.284626</td>\n",
       "      <td>1.353181</td>\n",
       "      <td>-1.828737</td>\n",
       "      <td>0.588746</td>\n",
       "    </tr>\n",
       "    <tr>\n",
       "      <th>288</th>\n",
       "      <td>0.994363</td>\n",
       "      <td>1.163428</td>\n",
       "      <td>-1.347032</td>\n",
       "      <td>0.652110</td>\n",
       "    </tr>\n",
       "    <tr>\n",
       "      <th>311</th>\n",
       "      <td>1.077295</td>\n",
       "      <td>1.186289</td>\n",
       "      <td>-1.472325</td>\n",
       "      <td>0.605440</td>\n",
       "    </tr>\n",
       "    <tr>\n",
       "      <th>312</th>\n",
       "      <td>1.201694</td>\n",
       "      <td>1.091677</td>\n",
       "      <td>-1.823122</td>\n",
       "      <td>1.207573</td>\n",
       "    </tr>\n",
       "    <tr>\n",
       "      <th>343</th>\n",
       "      <td>1.035829</td>\n",
       "      <td>1.104748</td>\n",
       "      <td>-1.682128</td>\n",
       "      <td>0.512529</td>\n",
       "    </tr>\n",
       "    <tr>\n",
       "      <th>351</th>\n",
       "      <td>1.326092</td>\n",
       "      <td>1.203671</td>\n",
       "      <td>-1.873225</td>\n",
       "      <td>0.441907</td>\n",
       "    </tr>\n",
       "    <tr>\n",
       "      <th>353</th>\n",
       "      <td>0.745567</td>\n",
       "      <td>1.476272</td>\n",
       "      <td>-1.789902</td>\n",
       "      <td>0.534138</td>\n",
       "    </tr>\n",
       "    <tr>\n",
       "      <th>368</th>\n",
       "      <td>1.035829</td>\n",
       "      <td>0.975288</td>\n",
       "      <td>-1.642530</td>\n",
       "      <td>0.622034</td>\n",
       "    </tr>\n",
       "    <tr>\n",
       "      <th>383</th>\n",
       "      <td>1.160228</td>\n",
       "      <td>1.169463</td>\n",
       "      <td>-1.452726</td>\n",
       "      <td>0.432373</td>\n",
       "    </tr>\n",
       "    <tr>\n",
       "      <th>414</th>\n",
       "      <td>1.201694</td>\n",
       "      <td>1.338748</td>\n",
       "      <td>-1.835384</td>\n",
       "      <td>0.332122</td>\n",
       "    </tr>\n",
       "    <tr>\n",
       "      <th>427</th>\n",
       "      <td>1.118762</td>\n",
       "      <td>1.358799</td>\n",
       "      <td>-1.947295</td>\n",
       "      <td>0.710311</td>\n",
       "    </tr>\n",
       "    <tr>\n",
       "      <th>455</th>\n",
       "      <td>1.409024</td>\n",
       "      <td>1.420790</td>\n",
       "      <td>-1.850254</td>\n",
       "      <td>0.456077</td>\n",
       "    </tr>\n",
       "    <tr>\n",
       "      <th>mean</th>\n",
       "      <td>1.118762</td>\n",
       "      <td>1.235654</td>\n",
       "      <td>-1.683670</td>\n",
       "      <td>0.595881</td>\n",
       "    </tr>\n",
       "  </tbody>\n",
       "</table>\n",
       "</div>"
      ],
      "text/plain": [
       "           Age    Income  Spending Score   Savings\n",
       "283   1.284626  1.353181       -1.828737  0.588746\n",
       "288   0.994363  1.163428       -1.347032  0.652110\n",
       "311   1.077295  1.186289       -1.472325  0.605440\n",
       "312   1.201694  1.091677       -1.823122  1.207573\n",
       "343   1.035829  1.104748       -1.682128  0.512529\n",
       "351   1.326092  1.203671       -1.873225  0.441907\n",
       "353   0.745567  1.476272       -1.789902  0.534138\n",
       "368   1.035829  0.975288       -1.642530  0.622034\n",
       "383   1.160228  1.169463       -1.452726  0.432373\n",
       "414   1.201694  1.338748       -1.835384  0.332122\n",
       "427   1.118762  1.358799       -1.947295  0.710311\n",
       "455   1.409024  1.420790       -1.850254  0.456077\n",
       "mean  1.118762  1.235654       -1.683670  0.595881"
      ]
     },
     "execution_count": 81,
     "metadata": {},
     "output_type": "execute_result"
    }
   ],
   "source": [
    "# Print Clusters\n",
    "for label in set(k_means.labels_):\n",
    "    print('\\nCluster {}:'.format(label))\n",
    "    X_tmp = X[k_means.labels_==label].copy()\n",
    "    X_tmp.loc['mean'] = X_tmp.mean()\n",
    "    X_tmp.tail(13)"
   ]
  },
  {
   "cell_type": "code",
   "execution_count": 82,
   "metadata": {},
   "outputs": [
    {
     "name": "stdout",
     "output_type": "stream",
     "text": [
      "\n",
      "Cluster 0:\n"
     ]
    },
    {
     "data": {
      "text/html": [
       "<div>\n",
       "<style scoped>\n",
       "    .dataframe tbody tr th:only-of-type {\n",
       "        vertical-align: middle;\n",
       "    }\n",
       "\n",
       "    .dataframe tbody tr th {\n",
       "        vertical-align: top;\n",
       "    }\n",
       "\n",
       "    .dataframe thead th {\n",
       "        text-align: right;\n",
       "    }\n",
       "</style>\n",
       "<table border=\"1\" class=\"dataframe\">\n",
       "  <thead>\n",
       "    <tr style=\"text-align: right;\">\n",
       "      <th></th>\n",
       "      <th>0</th>\n",
       "    </tr>\n",
       "  </thead>\n",
       "  <tbody>\n",
       "    <tr>\n",
       "      <th>Age</th>\n",
       "      <td>89.000000</td>\n",
       "    </tr>\n",
       "    <tr>\n",
       "      <th>Income</th>\n",
       "      <td>26940.000000</td>\n",
       "    </tr>\n",
       "    <tr>\n",
       "      <th>Spending Score</th>\n",
       "      <td>0.326005</td>\n",
       "    </tr>\n",
       "    <tr>\n",
       "      <th>Savings</th>\n",
       "      <td>16555.159377</td>\n",
       "    </tr>\n",
       "  </tbody>\n",
       "</table>\n",
       "</div>"
      ],
      "text/plain": [
       "                           0\n",
       "Age                89.000000\n",
       "Income          26940.000000\n",
       "Spending Score      0.326005\n",
       "Savings         16555.159377"
      ]
     },
     "execution_count": 82,
     "metadata": {},
     "output_type": "execute_result"
    },
    {
     "name": "stdout",
     "output_type": "stream",
     "text": [
      "\n",
      "Cluster 1:\n"
     ]
    },
    {
     "data": {
      "text/html": [
       "<div>\n",
       "<style scoped>\n",
       "    .dataframe tbody tr th:only-of-type {\n",
       "        vertical-align: middle;\n",
       "    }\n",
       "\n",
       "    .dataframe tbody tr th {\n",
       "        vertical-align: top;\n",
       "    }\n",
       "\n",
       "    .dataframe thead th {\n",
       "        text-align: right;\n",
       "    }\n",
       "</style>\n",
       "<table border=\"1\" class=\"dataframe\">\n",
       "  <thead>\n",
       "    <tr style=\"text-align: right;\">\n",
       "      <th></th>\n",
       "      <th>0</th>\n",
       "    </tr>\n",
       "  </thead>\n",
       "  <tbody>\n",
       "    <tr>\n",
       "      <th>Age</th>\n",
       "      <td>34.000000</td>\n",
       "    </tr>\n",
       "    <tr>\n",
       "      <th>Income</th>\n",
       "      <td>103204.000000</td>\n",
       "    </tr>\n",
       "    <tr>\n",
       "      <th>Spending Score</th>\n",
       "      <td>0.301087</td>\n",
       "    </tr>\n",
       "    <tr>\n",
       "      <th>Savings</th>\n",
       "      <td>15149.810421</td>\n",
       "    </tr>\n",
       "  </tbody>\n",
       "</table>\n",
       "</div>"
      ],
      "text/plain": [
       "                            0\n",
       "Age                 34.000000\n",
       "Income          103204.000000\n",
       "Spending Score       0.301087\n",
       "Savings          15149.810421"
      ]
     },
     "execution_count": 82,
     "metadata": {},
     "output_type": "execute_result"
    },
    {
     "name": "stdout",
     "output_type": "stream",
     "text": [
      "\n",
      "Cluster 2:\n"
     ]
    },
    {
     "data": {
      "text/html": [
       "<div>\n",
       "<style scoped>\n",
       "    .dataframe tbody tr th:only-of-type {\n",
       "        vertical-align: middle;\n",
       "    }\n",
       "\n",
       "    .dataframe tbody tr th {\n",
       "        vertical-align: top;\n",
       "    }\n",
       "\n",
       "    .dataframe thead th {\n",
       "        text-align: right;\n",
       "    }\n",
       "</style>\n",
       "<table border=\"1\" class=\"dataframe\">\n",
       "  <thead>\n",
       "    <tr style=\"text-align: right;\">\n",
       "      <th></th>\n",
       "      <th>0</th>\n",
       "    </tr>\n",
       "  </thead>\n",
       "  <tbody>\n",
       "    <tr>\n",
       "      <th>Age</th>\n",
       "      <td>61.000000</td>\n",
       "    </tr>\n",
       "    <tr>\n",
       "      <th>Income</th>\n",
       "      <td>72027.000000</td>\n",
       "    </tr>\n",
       "    <tr>\n",
       "      <th>Spending Score</th>\n",
       "      <td>0.762325</td>\n",
       "    </tr>\n",
       "    <tr>\n",
       "      <th>Savings</th>\n",
       "      <td>6926.123598</td>\n",
       "    </tr>\n",
       "  </tbody>\n",
       "</table>\n",
       "</div>"
      ],
      "text/plain": [
       "                           0\n",
       "Age                61.000000\n",
       "Income          72027.000000\n",
       "Spending Score      0.762325\n",
       "Savings          6926.123598"
      ]
     },
     "execution_count": 82,
     "metadata": {},
     "output_type": "execute_result"
    },
    {
     "name": "stdout",
     "output_type": "stream",
     "text": [
      "\n",
      "Cluster 3:\n"
     ]
    },
    {
     "data": {
      "text/html": [
       "<div>\n",
       "<style scoped>\n",
       "    .dataframe tbody tr th:only-of-type {\n",
       "        vertical-align: middle;\n",
       "    }\n",
       "\n",
       "    .dataframe tbody tr th {\n",
       "        vertical-align: top;\n",
       "    }\n",
       "\n",
       "    .dataframe thead th {\n",
       "        text-align: right;\n",
       "    }\n",
       "</style>\n",
       "<table border=\"1\" class=\"dataframe\">\n",
       "  <thead>\n",
       "    <tr style=\"text-align: right;\">\n",
       "      <th></th>\n",
       "      <th>0</th>\n",
       "    </tr>\n",
       "  </thead>\n",
       "  <tbody>\n",
       "    <tr>\n",
       "      <th>Age</th>\n",
       "      <td>25.000000</td>\n",
       "    </tr>\n",
       "    <tr>\n",
       "      <th>Income</th>\n",
       "      <td>130934.000000</td>\n",
       "    </tr>\n",
       "    <tr>\n",
       "      <th>Spending Score</th>\n",
       "      <td>0.913766</td>\n",
       "    </tr>\n",
       "    <tr>\n",
       "      <th>Savings</th>\n",
       "      <td>3942.389134</td>\n",
       "    </tr>\n",
       "  </tbody>\n",
       "</table>\n",
       "</div>"
      ],
      "text/plain": [
       "                            0\n",
       "Age                 25.000000\n",
       "Income          130934.000000\n",
       "Spending Score       0.913766\n",
       "Savings           3942.389134"
      ]
     },
     "execution_count": 82,
     "metadata": {},
     "output_type": "execute_result"
    },
    {
     "name": "stdout",
     "output_type": "stream",
     "text": [
      "\n",
      "Cluster 4:\n"
     ]
    },
    {
     "data": {
      "text/html": [
       "<div>\n",
       "<style scoped>\n",
       "    .dataframe tbody tr th:only-of-type {\n",
       "        vertical-align: middle;\n",
       "    }\n",
       "\n",
       "    .dataframe tbody tr th {\n",
       "        vertical-align: top;\n",
       "    }\n",
       "\n",
       "    .dataframe thead th {\n",
       "        text-align: right;\n",
       "    }\n",
       "</style>\n",
       "<table border=\"1\" class=\"dataframe\">\n",
       "  <thead>\n",
       "    <tr style=\"text-align: right;\">\n",
       "      <th></th>\n",
       "      <th>0</th>\n",
       "    </tr>\n",
       "  </thead>\n",
       "  <tbody>\n",
       "    <tr>\n",
       "      <th>Age</th>\n",
       "      <td>86.000000</td>\n",
       "    </tr>\n",
       "    <tr>\n",
       "      <th>Income</th>\n",
       "      <td>115689.000000</td>\n",
       "    </tr>\n",
       "    <tr>\n",
       "      <th>Spending Score</th>\n",
       "      <td>0.057843</td>\n",
       "    </tr>\n",
       "    <tr>\n",
       "      <th>Savings</th>\n",
       "      <td>14803.153273</td>\n",
       "    </tr>\n",
       "  </tbody>\n",
       "</table>\n",
       "</div>"
      ],
      "text/plain": [
       "                            0\n",
       "Age                 86.000000\n",
       "Income          115689.000000\n",
       "Spending Score       0.057843\n",
       "Savings          14803.153273"
      ]
     },
     "execution_count": 82,
     "metadata": {},
     "output_type": "execute_result"
    }
   ],
   "source": [
    "# Print Examplars \n",
    "for i, label in enumerate(set(k_means.labels_)):    \n",
    "    X_tmp = X[k_means.labels_==label].copy()\n",
    "    \n",
    "    exemplar_idx = distance.cdist([k_means.cluster_centers_[i]], X_tmp).argmin()\n",
    "    exemplar = pd.DataFrame(scaler.inverse_transform(X_tmp.iloc[exemplar_idx]))\n",
    "    exemplar.index=['Age','Income','Spending Score','Savings']\n",
    "    print('\\nCluster {}:'.format(label))\n",
    "    exemplar"
   ]
  },
  {
   "cell_type": "code",
   "execution_count": 85,
   "metadata": {},
   "outputs": [
    {
     "name": "stdout",
     "output_type": "stream",
     "text": [
      "All Data:\n",
      "Number of Instances: 505\n"
     ]
    },
    {
     "data": {
      "text/html": [
       "<div>\n",
       "<style scoped>\n",
       "    .dataframe tbody tr th:only-of-type {\n",
       "        vertical-align: middle;\n",
       "    }\n",
       "\n",
       "    .dataframe tbody tr th {\n",
       "        vertical-align: top;\n",
       "    }\n",
       "\n",
       "    .dataframe thead th {\n",
       "        text-align: right;\n",
       "    }\n",
       "</style>\n",
       "<table border=\"1\" class=\"dataframe\">\n",
       "  <thead>\n",
       "    <tr style=\"text-align: right;\">\n",
       "      <th></th>\n",
       "      <th>Min</th>\n",
       "      <th>Mean</th>\n",
       "      <th>Max</th>\n",
       "      <th>Variance</th>\n",
       "      <th>Skewness</th>\n",
       "      <th>Kurtosis</th>\n",
       "    </tr>\n",
       "  </thead>\n",
       "  <tbody>\n",
       "    <tr>\n",
       "      <th>Age</th>\n",
       "      <td>17.00</td>\n",
       "      <td>59.02</td>\n",
       "      <td>97.00</td>\n",
       "      <td>83.18</td>\n",
       "      <td>57.56</td>\n",
       "      <td>24.79</td>\n",
       "    </tr>\n",
       "    <tr>\n",
       "      <th>Income</th>\n",
       "      <td>12000.00</td>\n",
       "      <td>75513.29</td>\n",
       "      <td>142000.00</td>\n",
       "      <td>111541.90</td>\n",
       "      <td>70425.76</td>\n",
       "      <td>30539.63</td>\n",
       "    </tr>\n",
       "    <tr>\n",
       "      <th>Spending Score</th>\n",
       "      <td>0.00</td>\n",
       "      <td>0.51</td>\n",
       "      <td>1.00</td>\n",
       "      <td>0.76</td>\n",
       "      <td>0.57</td>\n",
       "      <td>0.14</td>\n",
       "    </tr>\n",
       "    <tr>\n",
       "      <th>Savings</th>\n",
       "      <td>0.00</td>\n",
       "      <td>11862.46</td>\n",
       "      <td>20000.00</td>\n",
       "      <td>16816.59</td>\n",
       "      <td>10068.59</td>\n",
       "      <td>4685.19</td>\n",
       "    </tr>\n",
       "  </tbody>\n",
       "</table>\n",
       "</div>"
      ],
      "text/plain": [
       "                    Min     Mean       Max  Variance  Skewness  Kurtosis\n",
       "Age               17.00    59.02     97.00     83.18     57.56     24.79\n",
       "Income         12000.00 75513.29 142000.00 111541.90  70425.76  30539.63\n",
       "Spending Score     0.00     0.51      1.00      0.76      0.57      0.14\n",
       "Savings            0.00 11862.46  20000.00  16816.59  10068.59   4685.19"
      ]
     },
     "metadata": {},
     "output_type": "display_data"
    },
    {
     "name": "stdout",
     "output_type": "stream",
     "text": [
      "\n",
      "Cluster 0:\n",
      "Number of Instances: 147\n"
     ]
    },
    {
     "data": {
      "text/html": [
       "<div>\n",
       "<style scoped>\n",
       "    .dataframe tbody tr th:only-of-type {\n",
       "        vertical-align: middle;\n",
       "    }\n",
       "\n",
       "    .dataframe tbody tr th {\n",
       "        vertical-align: top;\n",
       "    }\n",
       "\n",
       "    .dataframe thead th {\n",
       "        text-align: right;\n",
       "    }\n",
       "</style>\n",
       "<table border=\"1\" class=\"dataframe\">\n",
       "  <thead>\n",
       "    <tr style=\"text-align: right;\">\n",
       "      <th></th>\n",
       "      <th>Min</th>\n",
       "      <th>Mean</th>\n",
       "      <th>Max</th>\n",
       "      <th>Variance</th>\n",
       "      <th>Skewness</th>\n",
       "      <th>Kurtosis</th>\n",
       "    </tr>\n",
       "  </thead>\n",
       "  <tbody>\n",
       "    <tr>\n",
       "      <th>Age</th>\n",
       "      <td>79.00</td>\n",
       "      <td>87.78</td>\n",
       "      <td>97.00</td>\n",
       "      <td>59.53</td>\n",
       "      <td>58.71</td>\n",
       "      <td>47.69</td>\n",
       "    </tr>\n",
       "    <tr>\n",
       "      <th>Income</th>\n",
       "      <td>12000.00</td>\n",
       "      <td>27866.10</td>\n",
       "      <td>46977.00</td>\n",
       "      <td>76669.86</td>\n",
       "      <td>80132.22</td>\n",
       "      <td>81449.08</td>\n",
       "    </tr>\n",
       "    <tr>\n",
       "      <th>Spending Score</th>\n",
       "      <td>0.20</td>\n",
       "      <td>0.33</td>\n",
       "      <td>0.47</td>\n",
       "      <td>0.51</td>\n",
       "      <td>0.59</td>\n",
       "      <td>0.63</td>\n",
       "    </tr>\n",
       "    <tr>\n",
       "      <th>Savings</th>\n",
       "      <td>13470.97</td>\n",
       "      <td>16659.26</td>\n",
       "      <td>20000.00</td>\n",
       "      <td>12145.91</td>\n",
       "      <td>11114.44</td>\n",
       "      <td>11991.20</td>\n",
       "    </tr>\n",
       "  </tbody>\n",
       "</table>\n",
       "</div>"
      ],
      "text/plain": [
       "                    Min     Mean      Max  Variance  Skewness  Kurtosis\n",
       "Age               79.00    87.78    97.00     59.53     58.71     47.69\n",
       "Income         12000.00 27866.10 46977.00  76669.86  80132.22  81449.08\n",
       "Spending Score     0.20     0.33     0.47      0.51      0.59      0.63\n",
       "Savings        13470.97 16659.26 20000.00  12145.91  11114.44  11991.20"
      ]
     },
     "metadata": {},
     "output_type": "display_data"
    },
    {
     "name": "stdout",
     "output_type": "stream",
     "text": [
      "\n",
      "Cluster 1:\n",
      "Number of Instances: 126\n"
     ]
    },
    {
     "data": {
      "text/html": [
       "<div>\n",
       "<style scoped>\n",
       "    .dataframe tbody tr th:only-of-type {\n",
       "        vertical-align: middle;\n",
       "    }\n",
       "\n",
       "    .dataframe tbody tr th {\n",
       "        vertical-align: top;\n",
       "    }\n",
       "\n",
       "    .dataframe thead th {\n",
       "        text-align: right;\n",
       "    }\n",
       "</style>\n",
       "<table border=\"1\" class=\"dataframe\">\n",
       "  <thead>\n",
       "    <tr style=\"text-align: right;\">\n",
       "      <th></th>\n",
       "      <th>Min</th>\n",
       "      <th>Mean</th>\n",
       "      <th>Max</th>\n",
       "      <th>Variance</th>\n",
       "      <th>Skewness</th>\n",
       "      <th>Kurtosis</th>\n",
       "    </tr>\n",
       "  </thead>\n",
       "  <tbody>\n",
       "    <tr>\n",
       "      <th>Age</th>\n",
       "      <td>22.00</td>\n",
       "      <td>32.78</td>\n",
       "      <td>44.00</td>\n",
       "      <td>59.62</td>\n",
       "      <td>62.86</td>\n",
       "      <td>66.99</td>\n",
       "    </tr>\n",
       "    <tr>\n",
       "      <th>Income</th>\n",
       "      <td>89598.00</td>\n",
       "      <td>105265.81</td>\n",
       "      <td>119877.00</td>\n",
       "      <td>76541.57</td>\n",
       "      <td>76634.13</td>\n",
       "      <td>64585.25</td>\n",
       "    </tr>\n",
       "    <tr>\n",
       "      <th>Spending Score</th>\n",
       "      <td>0.17</td>\n",
       "      <td>0.31</td>\n",
       "      <td>0.41</td>\n",
       "      <td>0.51</td>\n",
       "      <td>0.45</td>\n",
       "      <td>0.51</td>\n",
       "    </tr>\n",
       "    <tr>\n",
       "      <th>Savings</th>\n",
       "      <td>12207.53</td>\n",
       "      <td>14962.78</td>\n",
       "      <td>17968.55</td>\n",
       "      <td>12090.45</td>\n",
       "      <td>12134.49</td>\n",
       "      <td>10963.23</td>\n",
       "    </tr>\n",
       "  </tbody>\n",
       "</table>\n",
       "</div>"
      ],
      "text/plain": [
       "                    Min      Mean       Max  Variance  Skewness  Kurtosis\n",
       "Age               22.00     32.78     44.00     59.62     62.86     66.99\n",
       "Income         89598.00 105265.81 119877.00  76541.57  76634.13  64585.25\n",
       "Spending Score     0.17      0.31      0.41      0.51      0.45      0.51\n",
       "Savings        12207.53  14962.78  17968.55  12090.45  12134.49  10963.23"
      ]
     },
     "metadata": {},
     "output_type": "display_data"
    },
    {
     "name": "stdout",
     "output_type": "stream",
     "text": [
      "\n",
      "Cluster 2:\n",
      "Number of Instances: 157\n"
     ]
    },
    {
     "data": {
      "text/html": [
       "<div>\n",
       "<style scoped>\n",
       "    .dataframe tbody tr th:only-of-type {\n",
       "        vertical-align: middle;\n",
       "    }\n",
       "\n",
       "    .dataframe tbody tr th {\n",
       "        vertical-align: top;\n",
       "    }\n",
       "\n",
       "    .dataframe thead th {\n",
       "        text-align: right;\n",
       "    }\n",
       "</style>\n",
       "<table border=\"1\" class=\"dataframe\">\n",
       "  <thead>\n",
       "    <tr style=\"text-align: right;\">\n",
       "      <th></th>\n",
       "      <th>Min</th>\n",
       "      <th>Mean</th>\n",
       "      <th>Max</th>\n",
       "      <th>Variance</th>\n",
       "      <th>Skewness</th>\n",
       "      <th>Kurtosis</th>\n",
       "    </tr>\n",
       "  </thead>\n",
       "  <tbody>\n",
       "    <tr>\n",
       "      <th>Age</th>\n",
       "      <td>51.00</td>\n",
       "      <td>59.96</td>\n",
       "      <td>68.00</td>\n",
       "      <td>59.49</td>\n",
       "      <td>63.48</td>\n",
       "      <td>52.66</td>\n",
       "    </tr>\n",
       "    <tr>\n",
       "      <th>Income</th>\n",
       "      <td>56321.00</td>\n",
       "      <td>72448.06</td>\n",
       "      <td>90422.00</td>\n",
       "      <td>76596.27</td>\n",
       "      <td>80762.80</td>\n",
       "      <td>76774.09</td>\n",
       "    </tr>\n",
       "    <tr>\n",
       "      <th>Spending Score</th>\n",
       "      <td>0.66</td>\n",
       "      <td>0.77</td>\n",
       "      <td>0.91</td>\n",
       "      <td>0.51</td>\n",
       "      <td>0.61</td>\n",
       "      <td>0.58</td>\n",
       "    </tr>\n",
       "    <tr>\n",
       "      <th>Savings</th>\n",
       "      <td>4077.66</td>\n",
       "      <td>6889.97</td>\n",
       "      <td>10547.78</td>\n",
       "      <td>12086.41</td>\n",
       "      <td>13179.50</td>\n",
       "      <td>14336.46</td>\n",
       "    </tr>\n",
       "  </tbody>\n",
       "</table>\n",
       "</div>"
      ],
      "text/plain": [
       "                    Min     Mean      Max  Variance  Skewness  Kurtosis\n",
       "Age               51.00    59.96    68.00     59.49     63.48     52.66\n",
       "Income         56321.00 72448.06 90422.00  76596.27  80762.80  76774.09\n",
       "Spending Score     0.66     0.77     0.91      0.51      0.61      0.58\n",
       "Savings         4077.66  6889.97 10547.78  12086.41  13179.50  14336.46"
      ]
     },
     "metadata": {},
     "output_type": "display_data"
    },
    {
     "name": "stdout",
     "output_type": "stream",
     "text": [
      "\n",
      "Cluster 3:\n",
      "Number of Instances: 50\n"
     ]
    },
    {
     "data": {
      "text/html": [
       "<div>\n",
       "<style scoped>\n",
       "    .dataframe tbody tr th:only-of-type {\n",
       "        vertical-align: middle;\n",
       "    }\n",
       "\n",
       "    .dataframe tbody tr th {\n",
       "        vertical-align: top;\n",
       "    }\n",
       "\n",
       "    .dataframe thead th {\n",
       "        text-align: right;\n",
       "    }\n",
       "</style>\n",
       "<table border=\"1\" class=\"dataframe\">\n",
       "  <thead>\n",
       "    <tr style=\"text-align: right;\">\n",
       "      <th></th>\n",
       "      <th>Min</th>\n",
       "      <th>Mean</th>\n",
       "      <th>Max</th>\n",
       "      <th>Variance</th>\n",
       "      <th>Skewness</th>\n",
       "      <th>Kurtosis</th>\n",
       "    </tr>\n",
       "  </thead>\n",
       "  <tbody>\n",
       "    <tr>\n",
       "      <th>Age</th>\n",
       "      <td>17.00</td>\n",
       "      <td>24.18</td>\n",
       "      <td>31.00</td>\n",
       "      <td>59.58</td>\n",
       "      <td>49.02</td>\n",
       "      <td>45.82</td>\n",
       "    </tr>\n",
       "    <tr>\n",
       "      <th>Income</th>\n",
       "      <td>117108.00</td>\n",
       "      <td>128029.12</td>\n",
       "      <td>142000.00</td>\n",
       "      <td>76413.35</td>\n",
       "      <td>86686.66</td>\n",
       "      <td>52197.55</td>\n",
       "    </tr>\n",
       "    <tr>\n",
       "      <th>Spending Score</th>\n",
       "      <td>0.81</td>\n",
       "      <td>0.90</td>\n",
       "      <td>1.00</td>\n",
       "      <td>0.51</td>\n",
       "      <td>0.55</td>\n",
       "      <td>0.44</td>\n",
       "    </tr>\n",
       "    <tr>\n",
       "      <th>Savings</th>\n",
       "      <td>0.00</td>\n",
       "      <td>4087.52</td>\n",
       "      <td>6089.48</td>\n",
       "      <td>12192.66</td>\n",
       "      <td>6842.94</td>\n",
       "      <td>18038.91</td>\n",
       "    </tr>\n",
       "  </tbody>\n",
       "</table>\n",
       "</div>"
      ],
      "text/plain": [
       "                     Min      Mean       Max  Variance  Skewness  Kurtosis\n",
       "Age                17.00     24.18     31.00     59.58     49.02     45.82\n",
       "Income         117108.00 128029.12 142000.00  76413.35  86686.66  52197.55\n",
       "Spending Score      0.81      0.90      1.00      0.51      0.55      0.44\n",
       "Savings             0.00   4087.52   6089.48  12192.66   6842.94  18038.91"
      ]
     },
     "metadata": {},
     "output_type": "display_data"
    },
    {
     "name": "stdout",
     "output_type": "stream",
     "text": [
      "\n",
      "Cluster 4:\n",
      "Number of Instances: 25\n"
     ]
    },
    {
     "data": {
      "text/html": [
       "<div>\n",
       "<style scoped>\n",
       "    .dataframe tbody tr th:only-of-type {\n",
       "        vertical-align: middle;\n",
       "    }\n",
       "\n",
       "    .dataframe tbody tr th {\n",
       "        vertical-align: top;\n",
       "    }\n",
       "\n",
       "    .dataframe thead th {\n",
       "        text-align: right;\n",
       "    }\n",
       "</style>\n",
       "<table border=\"1\" class=\"dataframe\">\n",
       "  <thead>\n",
       "    <tr style=\"text-align: right;\">\n",
       "      <th></th>\n",
       "      <th>Min</th>\n",
       "      <th>Mean</th>\n",
       "      <th>Max</th>\n",
       "      <th>Variance</th>\n",
       "      <th>Skewness</th>\n",
       "      <th>Kurtosis</th>\n",
       "    </tr>\n",
       "  </thead>\n",
       "  <tbody>\n",
       "    <tr>\n",
       "      <th>Age</th>\n",
       "      <td>77.00</td>\n",
       "      <td>86.00</td>\n",
       "      <td>93.00</td>\n",
       "      <td>59.58</td>\n",
       "      <td>56.77</td>\n",
       "      <td>58.46</td>\n",
       "    </tr>\n",
       "    <tr>\n",
       "      <th>Income</th>\n",
       "      <td>110582.00</td>\n",
       "      <td>119944.04</td>\n",
       "      <td>128596.00</td>\n",
       "      <td>76192.26</td>\n",
       "      <td>76326.08</td>\n",
       "      <td>48538.51</td>\n",
       "    </tr>\n",
       "    <tr>\n",
       "      <th>Spending Score</th>\n",
       "      <td>0.00</td>\n",
       "      <td>0.07</td>\n",
       "      <td>0.16</td>\n",
       "      <td>0.51</td>\n",
       "      <td>0.62</td>\n",
       "      <td>0.36</td>\n",
       "    </tr>\n",
       "    <tr>\n",
       "      <th>Savings</th>\n",
       "      <td>12554.69</td>\n",
       "      <td>14808.68</td>\n",
       "      <td>17833.09</td>\n",
       "      <td>12134.30</td>\n",
       "      <td>14948.38</td>\n",
       "      <td>14021.13</td>\n",
       "    </tr>\n",
       "  </tbody>\n",
       "</table>\n",
       "</div>"
      ],
      "text/plain": [
       "                     Min      Mean       Max  Variance  Skewness  Kurtosis\n",
       "Age                77.00     86.00     93.00     59.58     56.77     58.46\n",
       "Income         110582.00 119944.04 128596.00  76192.26  76326.08  48538.51\n",
       "Spending Score      0.00      0.07      0.16      0.51      0.62      0.36\n",
       "Savings         12554.69  14808.68  17833.09  12134.30  14948.38  14021.13"
      ]
     },
     "metadata": {},
     "output_type": "display_data"
    }
   ],
   "source": [
    "# Print Cluster Statistics/Summary\n",
    "col_names = X.columns\n",
    "pd.set_option(\"display.precision\", 2)\n",
    "pd.set_option('display.float_format', lambda x: '%.2f' % x)\n",
    "\n",
    "def stats_to_df(d, scaler):\n",
    "    tmp_df = pd.DataFrame(columns=col_names)\n",
    "    \n",
    "    tmp_df.loc[0] = scaler.inverse_transform(d.minmax[0])\n",
    "    tmp_df.loc[1] = scaler.inverse_transform(d.mean)\n",
    "    tmp_df.loc[2] = scaler.inverse_transform(d.minmax[1])\n",
    "    tmp_df.loc[3] = scaler.inverse_transform(d.variance)\n",
    "    tmp_df.loc[4] = scaler.inverse_transform(d.skewness)\n",
    "    tmp_df.loc[5] = scaler.inverse_transform(d.kurtosis)\n",
    "    tmp_df.index = ['Min', 'Mean', 'Max', 'Variance', 'Skewness', 'Kurtosis'] \n",
    "    return tmp_df.T\n",
    "\n",
    "print('All Data:')\n",
    "print('Number of Instances: {}'.format(X.shape[0]))\n",
    "d = stats.describe(X, axis=0)\n",
    "display(stats_to_df(d, scaler))\n",
    "\n",
    "for i, label in enumerate(set(k_means.labels_)):\n",
    "    d = stats.describe(X[k_means.labels_==label], axis=0)\n",
    "    print('\\nCluster {}:'.format(label))\n",
    "    print('Number of Instances: {}'.format(d.nobs))\n",
    "    display(stats_to_df(d, scaler))"
   ]
  },
  {
   "cell_type": "code",
   "execution_count": 86,
   "metadata": {},
   "outputs": [
    {
     "data": {
      "text/html": [
       "<div>\n",
       "<style scoped>\n",
       "    .dataframe tbody tr th:only-of-type {\n",
       "        vertical-align: middle;\n",
       "    }\n",
       "\n",
       "    .dataframe tbody tr th {\n",
       "        vertical-align: top;\n",
       "    }\n",
       "\n",
       "    .dataframe thead th {\n",
       "        text-align: right;\n",
       "    }\n",
       "</style>\n",
       "<table border=\"1\" class=\"dataframe\">\n",
       "  <thead>\n",
       "    <tr style=\"text-align: right;\">\n",
       "      <th></th>\n",
       "      <th>Age</th>\n",
       "      <th>Income</th>\n",
       "      <th>Spending Score</th>\n",
       "      <th>Savings</th>\n",
       "      <th>cluster</th>\n",
       "    </tr>\n",
       "  </thead>\n",
       "  <tbody>\n",
       "    <tr>\n",
       "      <th>0</th>\n",
       "      <td>58.00</td>\n",
       "      <td>77769.00</td>\n",
       "      <td>0.79</td>\n",
       "      <td>6559.83</td>\n",
       "      <td>2</td>\n",
       "    </tr>\n",
       "    <tr>\n",
       "      <th>1</th>\n",
       "      <td>59.00</td>\n",
       "      <td>81799.00</td>\n",
       "      <td>0.79</td>\n",
       "      <td>5417.66</td>\n",
       "      <td>2</td>\n",
       "    </tr>\n",
       "    <tr>\n",
       "      <th>2</th>\n",
       "      <td>62.00</td>\n",
       "      <td>74751.00</td>\n",
       "      <td>0.70</td>\n",
       "      <td>9258.99</td>\n",
       "      <td>2</td>\n",
       "    </tr>\n",
       "    <tr>\n",
       "      <th>3</th>\n",
       "      <td>59.00</td>\n",
       "      <td>74373.00</td>\n",
       "      <td>0.77</td>\n",
       "      <td>7346.33</td>\n",
       "      <td>2</td>\n",
       "    </tr>\n",
       "    <tr>\n",
       "      <th>4</th>\n",
       "      <td>87.00</td>\n",
       "      <td>17760.00</td>\n",
       "      <td>0.35</td>\n",
       "      <td>16869.51</td>\n",
       "      <td>0</td>\n",
       "    </tr>\n",
       "  </tbody>\n",
       "</table>\n",
       "</div>"
      ],
      "text/plain": [
       "    Age   Income  Spending Score  Savings  cluster\n",
       "0 58.00 77769.00            0.79  6559.83        2\n",
       "1 59.00 81799.00            0.79  5417.66        2\n",
       "2 62.00 74751.00            0.70  9258.99        2\n",
       "3 59.00 74373.00            0.77  7346.33        2\n",
       "4 87.00 17760.00            0.35 16869.51        0"
      ]
     },
     "execution_count": 86,
     "metadata": {},
     "output_type": "execute_result"
    }
   ],
   "source": [
    "X_df = pd.DataFrame(scaler.inverse_transform(X), columns=col_names)\n",
    "X_df['cluster'] = k_means.labels_\n",
    "X_df.head()"
   ]
  },
  {
   "cell_type": "code",
   "execution_count": 87,
   "metadata": {},
   "outputs": [
    {
     "data": {
      "text/html": [
       "<div>\n",
       "<style scoped>\n",
       "    .dataframe tbody tr th:only-of-type {\n",
       "        vertical-align: middle;\n",
       "    }\n",
       "\n",
       "    .dataframe tbody tr th {\n",
       "        vertical-align: top;\n",
       "    }\n",
       "\n",
       "    .dataframe thead tr th {\n",
       "        text-align: left;\n",
       "    }\n",
       "\n",
       "    .dataframe thead tr:last-of-type th {\n",
       "        text-align: right;\n",
       "    }\n",
       "</style>\n",
       "<table border=\"1\" class=\"dataframe\">\n",
       "  <thead>\n",
       "    <tr>\n",
       "      <th></th>\n",
       "      <th colspan=\"8\" halign=\"left\">Age</th>\n",
       "      <th colspan=\"2\" halign=\"left\">Income</th>\n",
       "      <th>...</th>\n",
       "      <th colspan=\"2\" halign=\"left\">Spending Score</th>\n",
       "      <th colspan=\"8\" halign=\"left\">Savings</th>\n",
       "    </tr>\n",
       "    <tr>\n",
       "      <th></th>\n",
       "      <th>count</th>\n",
       "      <th>mean</th>\n",
       "      <th>std</th>\n",
       "      <th>min</th>\n",
       "      <th>25%</th>\n",
       "      <th>50%</th>\n",
       "      <th>75%</th>\n",
       "      <th>max</th>\n",
       "      <th>count</th>\n",
       "      <th>mean</th>\n",
       "      <th>...</th>\n",
       "      <th>75%</th>\n",
       "      <th>max</th>\n",
       "      <th>count</th>\n",
       "      <th>mean</th>\n",
       "      <th>std</th>\n",
       "      <th>min</th>\n",
       "      <th>25%</th>\n",
       "      <th>50%</th>\n",
       "      <th>75%</th>\n",
       "      <th>max</th>\n",
       "    </tr>\n",
       "    <tr>\n",
       "      <th>cluster</th>\n",
       "      <th></th>\n",
       "      <th></th>\n",
       "      <th></th>\n",
       "      <th></th>\n",
       "      <th></th>\n",
       "      <th></th>\n",
       "      <th></th>\n",
       "      <th></th>\n",
       "      <th></th>\n",
       "      <th></th>\n",
       "      <th></th>\n",
       "      <th></th>\n",
       "      <th></th>\n",
       "      <th></th>\n",
       "      <th></th>\n",
       "      <th></th>\n",
       "      <th></th>\n",
       "      <th></th>\n",
       "      <th></th>\n",
       "      <th></th>\n",
       "      <th></th>\n",
       "    </tr>\n",
       "  </thead>\n",
       "  <tbody>\n",
       "    <tr>\n",
       "      <th>0</th>\n",
       "      <td>147.00</td>\n",
       "      <td>87.78</td>\n",
       "      <td>3.51</td>\n",
       "      <td>79.00</td>\n",
       "      <td>85.00</td>\n",
       "      <td>88.00</td>\n",
       "      <td>91.00</td>\n",
       "      <td>97.00</td>\n",
       "      <td>147.00</td>\n",
       "      <td>27866.10</td>\n",
       "      <td>...</td>\n",
       "      <td>0.36</td>\n",
       "      <td>0.47</td>\n",
       "      <td>147.00</td>\n",
       "      <td>16659.26</td>\n",
       "      <td>1183.85</td>\n",
       "      <td>13470.97</td>\n",
       "      <td>15957.28</td>\n",
       "      <td>16711.07</td>\n",
       "      <td>17433.13</td>\n",
       "      <td>20000.00</td>\n",
       "    </tr>\n",
       "    <tr>\n",
       "      <th>1</th>\n",
       "      <td>126.00</td>\n",
       "      <td>32.78</td>\n",
       "      <td>3.79</td>\n",
       "      <td>22.00</td>\n",
       "      <td>30.00</td>\n",
       "      <td>33.00</td>\n",
       "      <td>35.00</td>\n",
       "      <td>44.00</td>\n",
       "      <td>126.00</td>\n",
       "      <td>105265.81</td>\n",
       "      <td>...</td>\n",
       "      <td>0.34</td>\n",
       "      <td>0.41</td>\n",
       "      <td>126.00</td>\n",
       "      <td>14962.78</td>\n",
       "      <td>1061.73</td>\n",
       "      <td>12207.53</td>\n",
       "      <td>14223.79</td>\n",
       "      <td>14976.94</td>\n",
       "      <td>15682.29</td>\n",
       "      <td>17968.55</td>\n",
       "    </tr>\n",
       "    <tr>\n",
       "      <th>2</th>\n",
       "      <td>157.00</td>\n",
       "      <td>59.96</td>\n",
       "      <td>3.38</td>\n",
       "      <td>51.00</td>\n",
       "      <td>58.00</td>\n",
       "      <td>59.00</td>\n",
       "      <td>62.00</td>\n",
       "      <td>68.00</td>\n",
       "      <td>157.00</td>\n",
       "      <td>72448.06</td>\n",
       "      <td>...</td>\n",
       "      <td>0.80</td>\n",
       "      <td>0.91</td>\n",
       "      <td>157.00</td>\n",
       "      <td>6889.97</td>\n",
       "      <td>1052.28</td>\n",
       "      <td>4077.66</td>\n",
       "      <td>6225.38</td>\n",
       "      <td>6845.06</td>\n",
       "      <td>7497.23</td>\n",
       "      <td>10547.78</td>\n",
       "    </tr>\n",
       "    <tr>\n",
       "      <th>3</th>\n",
       "      <td>50.00</td>\n",
       "      <td>24.18</td>\n",
       "      <td>3.66</td>\n",
       "      <td>17.00</td>\n",
       "      <td>22.00</td>\n",
       "      <td>24.50</td>\n",
       "      <td>27.00</td>\n",
       "      <td>31.00</td>\n",
       "      <td>50.00</td>\n",
       "      <td>128029.12</td>\n",
       "      <td>...</td>\n",
       "      <td>0.93</td>\n",
       "      <td>1.00</td>\n",
       "      <td>50.00</td>\n",
       "      <td>4087.52</td>\n",
       "      <td>1277.75</td>\n",
       "      <td>0.00</td>\n",
       "      <td>3275.32</td>\n",
       "      <td>4361.97</td>\n",
       "      <td>4986.86</td>\n",
       "      <td>6089.48</td>\n",
       "    </tr>\n",
       "    <tr>\n",
       "      <th>4</th>\n",
       "      <td>25.00</td>\n",
       "      <td>86.00</td>\n",
       "      <td>3.66</td>\n",
       "      <td>77.00</td>\n",
       "      <td>84.00</td>\n",
       "      <td>86.00</td>\n",
       "      <td>88.00</td>\n",
       "      <td>93.00</td>\n",
       "      <td>25.00</td>\n",
       "      <td>119944.04</td>\n",
       "      <td>...</td>\n",
       "      <td>0.08</td>\n",
       "      <td>0.16</td>\n",
       "      <td>25.00</td>\n",
       "      <td>14808.68</td>\n",
       "      <td>1159.34</td>\n",
       "      <td>12554.69</td>\n",
       "      <td>14047.39</td>\n",
       "      <td>14773.41</td>\n",
       "      <td>15391.95</td>\n",
       "      <td>17833.09</td>\n",
       "    </tr>\n",
       "  </tbody>\n",
       "</table>\n",
       "<p>5 rows × 32 columns</p>\n",
       "</div>"
      ],
      "text/plain": [
       "           Age                                          Income            ...  \\\n",
       "         count  mean  std   min   25%   50%   75%   max  count      mean  ...   \n",
       "cluster                                                                   ...   \n",
       "0       147.00 87.78 3.51 79.00 85.00 88.00 91.00 97.00 147.00  27866.10  ...   \n",
       "1       126.00 32.78 3.79 22.00 30.00 33.00 35.00 44.00 126.00 105265.81  ...   \n",
       "2       157.00 59.96 3.38 51.00 58.00 59.00 62.00 68.00 157.00  72448.06  ...   \n",
       "3        50.00 24.18 3.66 17.00 22.00 24.50 27.00 31.00  50.00 128029.12  ...   \n",
       "4        25.00 86.00 3.66 77.00 84.00 86.00 88.00 93.00  25.00 119944.04  ...   \n",
       "\n",
       "        Spending Score      Savings                                     \\\n",
       "                   75%  max   count     mean     std      min      25%   \n",
       "cluster                                                                  \n",
       "0                 0.36 0.47  147.00 16659.26 1183.85 13470.97 15957.28   \n",
       "1                 0.34 0.41  126.00 14962.78 1061.73 12207.53 14223.79   \n",
       "2                 0.80 0.91  157.00  6889.97 1052.28  4077.66  6225.38   \n",
       "3                 0.93 1.00   50.00  4087.52 1277.75     0.00  3275.32   \n",
       "4                 0.08 0.16   25.00 14808.68 1159.34 12554.69 14047.39   \n",
       "\n",
       "                                    \n",
       "             50%      75%      max  \n",
       "cluster                             \n",
       "0       16711.07 17433.13 20000.00  \n",
       "1       14976.94 15682.29 17968.55  \n",
       "2        6845.06  7497.23 10547.78  \n",
       "3        4361.97  4986.86  6089.48  \n",
       "4       14773.41 15391.95 17833.09  \n",
       "\n",
       "[5 rows x 32 columns]"
      ]
     },
     "execution_count": 87,
     "metadata": {},
     "output_type": "execute_result"
    }
   ],
   "source": [
    "cl_group = X_df.groupby(['cluster']).agg('describe')\n",
    "cl_group"
   ]
  },
  {
   "cell_type": "code",
   "execution_count": 88,
   "metadata": {},
   "outputs": [
    {
     "name": "stdout",
     "output_type": "stream",
     "text": [
      "<class 'pandas.core.frame.DataFrame'>\n",
      "Int64Index: 5 entries, 0 to 4\n",
      "Data columns (total 32 columns):\n",
      " #   Column                   Non-Null Count  Dtype  \n",
      "---  ------                   --------------  -----  \n",
      " 0   (Age, count)             5 non-null      float64\n",
      " 1   (Age, mean)              5 non-null      float64\n",
      " 2   (Age, std)               5 non-null      float64\n",
      " 3   (Age, min)               5 non-null      float64\n",
      " 4   (Age, 25%)               5 non-null      float64\n",
      " 5   (Age, 50%)               5 non-null      float64\n",
      " 6   (Age, 75%)               5 non-null      float64\n",
      " 7   (Age, max)               5 non-null      float64\n",
      " 8   (Income, count)          5 non-null      float64\n",
      " 9   (Income, mean)           5 non-null      float64\n",
      " 10  (Income, std)            5 non-null      float64\n",
      " 11  (Income, min)            5 non-null      float64\n",
      " 12  (Income, 25%)            5 non-null      float64\n",
      " 13  (Income, 50%)            5 non-null      float64\n",
      " 14  (Income, 75%)            5 non-null      float64\n",
      " 15  (Income, max)            5 non-null      float64\n",
      " 16  (Spending Score, count)  5 non-null      float64\n",
      " 17  (Spending Score, mean)   5 non-null      float64\n",
      " 18  (Spending Score, std)    5 non-null      float64\n",
      " 19  (Spending Score, min)    5 non-null      float64\n",
      " 20  (Spending Score, 25%)    5 non-null      float64\n",
      " 21  (Spending Score, 50%)    5 non-null      float64\n",
      " 22  (Spending Score, 75%)    5 non-null      float64\n",
      " 23  (Spending Score, max)    5 non-null      float64\n",
      " 24  (Savings, count)         5 non-null      float64\n",
      " 25  (Savings, mean)          5 non-null      float64\n",
      " 26  (Savings, std)           5 non-null      float64\n",
      " 27  (Savings, min)           5 non-null      float64\n",
      " 28  (Savings, 25%)           5 non-null      float64\n",
      " 29  (Savings, 50%)           5 non-null      float64\n",
      " 30  (Savings, 75%)           5 non-null      float64\n",
      " 31  (Savings, max)           5 non-null      float64\n",
      "dtypes: float64(32)\n",
      "memory usage: 1.3 KB\n"
     ]
    },
    {
     "data": {
      "text/html": [
       "<div>\n",
       "<style scoped>\n",
       "    .dataframe tbody tr th:only-of-type {\n",
       "        vertical-align: middle;\n",
       "    }\n",
       "\n",
       "    .dataframe tbody tr th {\n",
       "        vertical-align: top;\n",
       "    }\n",
       "\n",
       "    .dataframe thead th {\n",
       "        text-align: right;\n",
       "    }\n",
       "</style>\n",
       "<table border=\"1\" class=\"dataframe\">\n",
       "  <thead>\n",
       "    <tr style=\"text-align: right;\">\n",
       "      <th></th>\n",
       "      <th>count</th>\n",
       "      <th>mean</th>\n",
       "      <th>std</th>\n",
       "      <th>min</th>\n",
       "      <th>25%</th>\n",
       "      <th>50%</th>\n",
       "      <th>75%</th>\n",
       "      <th>max</th>\n",
       "    </tr>\n",
       "    <tr>\n",
       "      <th>cluster</th>\n",
       "      <th></th>\n",
       "      <th></th>\n",
       "      <th></th>\n",
       "      <th></th>\n",
       "      <th></th>\n",
       "      <th></th>\n",
       "      <th></th>\n",
       "      <th></th>\n",
       "    </tr>\n",
       "  </thead>\n",
       "  <tbody>\n",
       "    <tr>\n",
       "      <th>0</th>\n",
       "      <td>147.00</td>\n",
       "      <td>87.78</td>\n",
       "      <td>3.51</td>\n",
       "      <td>79.00</td>\n",
       "      <td>85.00</td>\n",
       "      <td>88.00</td>\n",
       "      <td>91.00</td>\n",
       "      <td>97.00</td>\n",
       "    </tr>\n",
       "    <tr>\n",
       "      <th>1</th>\n",
       "      <td>126.00</td>\n",
       "      <td>32.78</td>\n",
       "      <td>3.79</td>\n",
       "      <td>22.00</td>\n",
       "      <td>30.00</td>\n",
       "      <td>33.00</td>\n",
       "      <td>35.00</td>\n",
       "      <td>44.00</td>\n",
       "    </tr>\n",
       "    <tr>\n",
       "      <th>2</th>\n",
       "      <td>157.00</td>\n",
       "      <td>59.96</td>\n",
       "      <td>3.38</td>\n",
       "      <td>51.00</td>\n",
       "      <td>58.00</td>\n",
       "      <td>59.00</td>\n",
       "      <td>62.00</td>\n",
       "      <td>68.00</td>\n",
       "    </tr>\n",
       "    <tr>\n",
       "      <th>3</th>\n",
       "      <td>50.00</td>\n",
       "      <td>24.18</td>\n",
       "      <td>3.66</td>\n",
       "      <td>17.00</td>\n",
       "      <td>22.00</td>\n",
       "      <td>24.50</td>\n",
       "      <td>27.00</td>\n",
       "      <td>31.00</td>\n",
       "    </tr>\n",
       "    <tr>\n",
       "      <th>4</th>\n",
       "      <td>25.00</td>\n",
       "      <td>86.00</td>\n",
       "      <td>3.66</td>\n",
       "      <td>77.00</td>\n",
       "      <td>84.00</td>\n",
       "      <td>86.00</td>\n",
       "      <td>88.00</td>\n",
       "      <td>93.00</td>\n",
       "    </tr>\n",
       "  </tbody>\n",
       "</table>\n",
       "</div>"
      ],
      "text/plain": [
       "         count  mean  std   min   25%   50%   75%   max\n",
       "cluster                                                \n",
       "0       147.00 87.78 3.51 79.00 85.00 88.00 91.00 97.00\n",
       "1       126.00 32.78 3.79 22.00 30.00 33.00 35.00 44.00\n",
       "2       157.00 59.96 3.38 51.00 58.00 59.00 62.00 68.00\n",
       "3        50.00 24.18 3.66 17.00 22.00 24.50 27.00 31.00\n",
       "4        25.00 86.00 3.66 77.00 84.00 86.00 88.00 93.00"
      ]
     },
     "execution_count": 88,
     "metadata": {},
     "output_type": "execute_result"
    }
   ],
   "source": [
    "cl_group.info()\n",
    "cl_group['Age']"
   ]
  },
  {
   "cell_type": "code",
   "execution_count": 89,
   "metadata": {},
   "outputs": [
    {
     "data": {
      "text/plain": [
       "Text(0.5, 1.0, 'Snake Plot, K-Means, K=5')"
      ]
     },
     "execution_count": 89,
     "metadata": {},
     "output_type": "execute_result"
    },
    {
     "data": {
      "text/plain": [
       "<matplotlib.axes._subplots.AxesSubplot at 0x2836b03bc88>"
      ]
     },
     "execution_count": 89,
     "metadata": {},
     "output_type": "execute_result"
    },
    {
     "data": {
      "image/png": "[encoded data removed]",
      "text/plain": [
       "<Figure size 432x288 with 1 Axes>"
      ]
     },
     "metadata": {
      "needs_background": "light"
     },
     "output_type": "display_data"
    }
   ],
   "source": [
    "# Snake Plot\n",
    "dat = X.copy()\n",
    "\n",
    "dat['Cluster'] = k_means.labels_\n",
    "\n",
    "datamart_melt = pd.melt(dat.reset_index(),\n",
    "id_vars=['Cluster'],\n",
    "value_vars=['Income','Spending Score'],\n",
    "var_name='Feature',\n",
    "value_name='Value')\n",
    "\n",
    "plt.title('Snake Plot, K-Means, K=5')\n",
    "sns.lineplot(x=\"Feature\", y=\"Value\", hue='Cluster', data=datamart_melt)"
   ]
  },
  {
   "cell_type": "code",
   "execution_count": 90,
   "metadata": {},
   "outputs": [
    {
     "data": {
      "image/png": "[encoded data removed]",
      "text/plain": [
       "<Figure size 576x144 with 2 Axes>"
      ]
     },
     "metadata": {
      "needs_background": "light"
     },
     "output_type": "display_data"
    }
   ],
   "source": [
    "# Relative Imprtance plot\n",
    "cluster_avg = dat.groupby(['Cluster']).mean()\n",
    "population_avg = dat.drop(['Cluster'], axis=1).mean()\n",
    "\n",
    "relative_imp = cluster_avg - population_avg\n",
    "\n",
    "plt.figure(figsize=(8, 2));\n",
    "plt.title('Relative importance of features');\n",
    "sns.heatmap(data=relative_imp, annot=True, fmt='.2f', cmap='RdYlGn');"
   ]
  },
  {
   "cell_type": "code",
   "execution_count": null,
   "metadata": {},
   "outputs": [],
   "source": []
  }
 ],
 "metadata": {
  "kernelspec": {
   "display_name": "Python 3",
   "language": "python",
   "name": "python3"
  },
  "language_info": {
   "codemirror_mode": {
    "name": "ipython",
    "version": 3
   },
   "file_extension": ".py",
   "mimetype": "text/x-python",
   "name": "python",
   "nbconvert_exporter": "python",
   "pygments_lexer": "ipython3",
   "version": "3.7.6"
  }
 },
 "nbformat": 4,
 "nbformat_minor": 4
}
